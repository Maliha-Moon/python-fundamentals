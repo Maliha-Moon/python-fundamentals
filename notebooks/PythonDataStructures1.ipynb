{
 "cells": [
  {
   "cell_type": "markdown",
   "id": "eb6fe030-4fdb-45de-865a-7469899f0e26",
   "metadata": {},
   "source": [
    "# Data Structure - List, Tuple, Set, Dictionary"
   ]
  },
  {
   "cell_type": "markdown",
   "id": "3e087da6-de40-495e-90e1-ae9391bab564",
   "metadata": {},
   "source": [
    "**Collection** of data of **heterogenous** type"
   ]
  },
  {
   "cell_type": "markdown",
   "id": "c3ba8276-bd4a-4650-a69e-1191f16ee3f9",
   "metadata": {},
   "source": [
    "- **List** - ordered[indexed], mutable, duplicates. Mostly used in **Numpy**\n",
    "- **Tuple** - ordered[indexed], immutable, duplicates\n",
    "- **Set** - unordered[no indexing], addable/removable, no duplicates\n",
    "- **Dictionary** - unordered[no indexing], mutable, no duplicates. Mostly used in **Pandas**"
   ]
  },
  {
   "cell_type": "code",
   "execution_count": 7,
   "id": "796f34a6-adcf-4d92-a207-e3b5cb37620f",
   "metadata": {},
   "outputs": [],
   "source": [
    "L = [1,2,3,\"moon\",4.9,3]\n",
    "T = (1,2,3,\"moon\",4.9,3)\n",
    "S = {1,2,3,\"moon\",4.9,3}\n",
    "D = {23: \"twentythree\", 'B':10, 'C':'CCD', 'B':10}"
   ]
  },
  {
   "cell_type": "code",
   "execution_count": 6,
   "id": "5b62c7a1-02de-4e6e-ba82-a497fe970b55",
   "metadata": {},
   "outputs": [
    {
     "name": "stdout",
     "output_type": "stream",
     "text": [
      "The type of List is: <class 'list'>\n",
      "The type of Tuple is: <class 'tuple'>\n",
      "The type of Set is: <class 'set'>\n",
      "The type of Dictionary is: <class 'dict'>\n"
     ]
    }
   ],
   "source": [
    "print(f\"The type of List is: {type(L)}\") \n",
    "print(f\"The type of Tuple is: {type(T)}\") \n",
    "print(f\"The type of Set is: {type(S)}\") \n",
    "print(f\"The type of Dictionary is: {type(D)}\") "
   ]
  },
  {
   "cell_type": "markdown",
   "id": "1ac7c08a-76f1-4612-9cfd-e5bf99e1a398",
   "metadata": {},
   "source": [
    "## Access element "
   ]
  },
  {
   "cell_type": "code",
   "execution_count": 7,
   "id": "2ae3d63a-1a67-4457-8870-f46c3c9772d7",
   "metadata": {},
   "outputs": [
    {
     "name": "stdout",
     "output_type": "stream",
     "text": [
      "2\n",
      "2\n",
      "True\n",
      "twentythree\n"
     ]
    }
   ],
   "source": [
    "print(L[1])\n",
    "print(T[1])\n",
    "print(3 in S)\n",
    "print(D[23])"
   ]
  },
  {
   "cell_type": "markdown",
   "id": "2d8ad4c9-56b7-4554-a9ee-ed73c80328c4",
   "metadata": {},
   "source": [
    "## Define"
   ]
  },
  {
   "cell_type": "code",
   "execution_count": 14,
   "id": "ab9d1ad6-8f75-4774-bfc8-6604b9475f9b",
   "metadata": {},
   "outputs": [
    {
     "data": {
      "text/plain": [
       "{1, 2, 3, 4.9, 'moon'}"
      ]
     },
     "execution_count": 14,
     "metadata": {},
     "output_type": "execute_result"
    }
   ],
   "source": [
    "S # no duplicates"
   ]
  },
  {
   "cell_type": "code",
   "execution_count": 18,
   "id": "3cbf0aca-c6b6-48ab-a15c-bdfb57da1602",
   "metadata": {},
   "outputs": [
    {
     "data": {
      "text/plain": [
       "{23: 'twentythree', 'B': 10, 'C': 'CCD'}"
      ]
     },
     "execution_count": 18,
     "metadata": {},
     "output_type": "execute_result"
    }
   ],
   "source": [
    "D # no duplicates"
   ]
  },
  {
   "cell_type": "code",
   "execution_count": 16,
   "id": "aea1099d-abd9-4ba7-a477-6fad5d590f56",
   "metadata": {},
   "outputs": [
    {
     "data": {
      "text/plain": [
       "[1, 2, 3, 'moon', 4.9, 3]"
      ]
     },
     "execution_count": 16,
     "metadata": {},
     "output_type": "execute_result"
    }
   ],
   "source": [
    "L"
   ]
  },
  {
   "cell_type": "code",
   "execution_count": 17,
   "id": "baf47529-4b80-4c6c-b1bd-07b4e93285f3",
   "metadata": {},
   "outputs": [
    {
     "data": {
      "text/plain": [
       "(1, 2, 3, 'moon', 4.9, 3)"
      ]
     },
     "execution_count": 17,
     "metadata": {},
     "output_type": "execute_result"
    }
   ],
   "source": [
    "T"
   ]
  },
  {
   "cell_type": "markdown",
   "id": "6b71b3c8-67e1-4103-877a-6f5c7a35dcca",
   "metadata": {},
   "source": [
    "## Slicing"
   ]
  },
  {
   "cell_type": "code",
   "execution_count": 19,
   "id": "52f72fe9-c90b-4543-b85f-f4f0da031619",
   "metadata": {},
   "outputs": [
    {
     "data": {
      "text/plain": [
       "[2, 3]"
      ]
     },
     "execution_count": 19,
     "metadata": {},
     "output_type": "execute_result"
    }
   ],
   "source": [
    "L[1:3]"
   ]
  },
  {
   "cell_type": "code",
   "execution_count": 20,
   "id": "bf4c674c-ce34-49be-bf56-3f132a4b647b",
   "metadata": {},
   "outputs": [
    {
     "data": {
      "text/plain": [
       "[3, 4.9, 'moon', 3, 2, 1]"
      ]
     },
     "execution_count": 20,
     "metadata": {},
     "output_type": "execute_result"
    }
   ],
   "source": [
    "L[::-1]"
   ]
  },
  {
   "cell_type": "code",
   "execution_count": 21,
   "id": "aa5a5902-c801-4103-9348-3439ae5e7565",
   "metadata": {},
   "outputs": [
    {
     "data": {
      "text/plain": [
       "(3, 'moon', 4.9, 3)"
      ]
     },
     "execution_count": 21,
     "metadata": {},
     "output_type": "execute_result"
    }
   ],
   "source": [
    "T[2:]"
   ]
  },
  {
   "cell_type": "code",
   "execution_count": 22,
   "id": "d358d294-beea-46df-87ae-2b3c41b5e1f7",
   "metadata": {},
   "outputs": [
    {
     "data": {
      "text/plain": [
       "(3, 4.9, 'moon', 3, 2, 1)"
      ]
     },
     "execution_count": 22,
     "metadata": {},
     "output_type": "execute_result"
    }
   ],
   "source": [
    "T[::-1]"
   ]
  },
  {
   "cell_type": "markdown",
   "id": "8c0e8fe3-832f-4fd8-b276-f9b5248b08c1",
   "metadata": {},
   "source": [
    "## Add elements"
   ]
  },
  {
   "cell_type": "markdown",
   "id": "279dd248-b44e-4487-a1c8-b0c8bf6daf47",
   "metadata": {},
   "source": [
    "### List"
   ]
  },
  {
   "cell_type": "code",
   "execution_count": 9,
   "id": "572aa2e9-4d09-423b-b711-d1a3506b08a9",
   "metadata": {},
   "outputs": [],
   "source": [
    "L = L + [\"how\",\"are\",100.75,\"you\"]"
   ]
  },
  {
   "cell_type": "code",
   "execution_count": 10,
   "id": "19dd6c86-8d9c-40e2-99eb-7a4a96a05de6",
   "metadata": {},
   "outputs": [
    {
     "data": {
      "text/plain": [
       "[1, 2, 3, 'moon', 4.9, 3, 'how', 'are', 100.75, 'you']"
      ]
     },
     "execution_count": 10,
     "metadata": {},
     "output_type": "execute_result"
    }
   ],
   "source": [
    "L"
   ]
  },
  {
   "cell_type": "code",
   "execution_count": 11,
   "id": "6f499037-3e17-4bcf-bbc7-c8b0c4e5912f",
   "metadata": {},
   "outputs": [],
   "source": [
    "L.append(50)"
   ]
  },
  {
   "cell_type": "code",
   "execution_count": 12,
   "id": "07699572-8467-49d1-a2f4-d7f558402b61",
   "metadata": {},
   "outputs": [
    {
     "data": {
      "text/plain": [
       "[1, 2, 3, 'moon', 4.9, 3, 'how', 'are', 100.75, 'you', 50]"
      ]
     },
     "execution_count": 12,
     "metadata": {},
     "output_type": "execute_result"
    }
   ],
   "source": [
    "L"
   ]
  },
  {
   "cell_type": "markdown",
   "id": "2edad8e4-635f-4eb8-8d14-c592645c940e",
   "metadata": {},
   "source": [
    "### Tuple"
   ]
  },
  {
   "cell_type": "markdown",
   "id": "9f760743-405e-4b7a-a966-dd333eb552d9",
   "metadata": {},
   "source": [
    "- You **cannot insert** new elements into a tuple because **tuples are immutable** in Python.\n",
    "- However, you can **create a new tuple** by **combining (concatenating)** existing tuples.\n",
    "\n"
   ]
  },
  {
   "cell_type": "code",
   "execution_count": 37,
   "id": "60cecf29-c79d-4806-98ca-a3723ac66f0f",
   "metadata": {},
   "outputs": [],
   "source": [
    "T2 = ('a','b','c')\n",
    "T3 = T + T2"
   ]
  },
  {
   "cell_type": "code",
   "execution_count": 38,
   "id": "a3b8a90b-afe0-4a9a-8fb5-c4aa1da9c1d2",
   "metadata": {},
   "outputs": [
    {
     "data": {
      "text/plain": [
       "(1, 2, 3, 'moon', 4.9, 3, 'a', 'b', 'c')"
      ]
     },
     "execution_count": 38,
     "metadata": {},
     "output_type": "execute_result"
    }
   ],
   "source": [
    "T3"
   ]
  },
  {
   "cell_type": "markdown",
   "id": "e03d4432-69ef-42a3-8739-f42787b388ea",
   "metadata": {},
   "source": [
    "### Set"
   ]
  },
  {
   "cell_type": "markdown",
   "id": "b3a06442-06ec-4716-b212-630737638e44",
   "metadata": {},
   "source": [
    "Add **one element**"
   ]
  },
  {
   "cell_type": "code",
   "execution_count": 40,
   "id": "b3c68d89-cc52-467a-aa82-ad8ca8d82f99",
   "metadata": {},
   "outputs": [
    {
     "data": {
      "text/plain": [
       "{1, 2, 3, 4.9, 'moon'}"
      ]
     },
     "execution_count": 40,
     "metadata": {},
     "output_type": "execute_result"
    }
   ],
   "source": [
    "S"
   ]
  },
  {
   "cell_type": "code",
   "execution_count": 41,
   "id": "d8bda5f4-ddd3-4e98-b9ea-98422cce5ccd",
   "metadata": {},
   "outputs": [],
   "source": [
    "S.add(56)"
   ]
  },
  {
   "cell_type": "code",
   "execution_count": 42,
   "id": "582adad5-0599-4e55-898b-f332921b44fc",
   "metadata": {},
   "outputs": [
    {
     "data": {
      "text/plain": [
       "{1, 2, 3, 4.9, 56, 'moon'}"
      ]
     },
     "execution_count": 42,
     "metadata": {},
     "output_type": "execute_result"
    }
   ],
   "source": [
    "S"
   ]
  },
  {
   "cell_type": "markdown",
   "id": "eb8538df-6d84-416a-9cba-7c7e44c58f54",
   "metadata": {},
   "source": [
    "Add **more than one elements**"
   ]
  },
  {
   "cell_type": "code",
   "execution_count": 43,
   "id": "be40ecc2-147f-4c13-b0ed-e259a03dbf3d",
   "metadata": {},
   "outputs": [],
   "source": [
    "S.update({'abc',10.75,1})"
   ]
  },
  {
   "cell_type": "code",
   "execution_count": 44,
   "id": "8b1c6219-a659-4933-8561-4c6057d3fa09",
   "metadata": {},
   "outputs": [
    {
     "data": {
      "text/plain": [
       "{1, 10.75, 2, 3, 4.9, 56, 'abc', 'moon'}"
      ]
     },
     "execution_count": 44,
     "metadata": {},
     "output_type": "execute_result"
    }
   ],
   "source": [
    "S"
   ]
  },
  {
   "cell_type": "markdown",
   "id": "a3cc2856-24e9-4f2c-8fcc-95f4e587ddbb",
   "metadata": {},
   "source": [
    "### Dictionary "
   ]
  },
  {
   "cell_type": "code",
   "execution_count": 46,
   "id": "55e5d304-5e54-4010-9f14-3e28f5582639",
   "metadata": {},
   "outputs": [],
   "source": [
    "D[\"newkey\"] = \"newValue\""
   ]
  },
  {
   "cell_type": "code",
   "execution_count": 47,
   "id": "ef4fb79f-6eb4-48a5-b5e5-75446ce0779d",
   "metadata": {},
   "outputs": [
    {
     "data": {
      "text/plain": [
       "{23: 'twentythree', 'B': 10, 'C': 'CCD', 'newkey': 'newValue'}"
      ]
     },
     "execution_count": 47,
     "metadata": {},
     "output_type": "execute_result"
    }
   ],
   "source": [
    "D"
   ]
  },
  {
   "cell_type": "code",
   "execution_count": 137,
   "id": "970b0903-a52d-4d0f-9686-c470479a4826",
   "metadata": {},
   "outputs": [],
   "source": [
    "D2 = {'y':'yy', 'z':10}"
   ]
  },
  {
   "cell_type": "markdown",
   "id": "de7a6a66-01ed-419a-9ce2-27b380495a59",
   "metadata": {},
   "source": [
    "### Combine 2 Dictionaries"
   ]
  },
  {
   "cell_type": "code",
   "execution_count": 49,
   "id": "90b8143c-4521-44f2-9e00-1aead84cdf6a",
   "metadata": {},
   "outputs": [
    {
     "ename": "TypeError",
     "evalue": "unsupported operand type(s) for +: 'dict' and 'dict'",
     "output_type": "error",
     "traceback": [
      "\u001b[1;31m---------------------------------------------------------------------------\u001b[0m",
      "\u001b[1;31mTypeError\u001b[0m                                 Traceback (most recent call last)",
      "Cell \u001b[1;32mIn[49], line 1\u001b[0m\n\u001b[1;32m----> 1\u001b[0m D3 \u001b[38;5;241m=\u001b[39m D \u001b[38;5;241m+\u001b[39m D2\n",
      "\u001b[1;31mTypeError\u001b[0m: unsupported operand type(s) for +: 'dict' and 'dict'"
     ]
    }
   ],
   "source": [
    "D3 = D + D2"
   ]
  },
  {
   "cell_type": "code",
   "execution_count": 64,
   "id": "5bc39727-42b0-49a2-a740-820c29905f2a",
   "metadata": {},
   "outputs": [],
   "source": [
    "D.update(D2)"
   ]
  },
  {
   "cell_type": "code",
   "execution_count": 65,
   "id": "9d489b84-51db-4e05-ada2-211ff6f729f2",
   "metadata": {},
   "outputs": [
    {
     "data": {
      "text/plain": [
       "{23: 'twentythree', 'C': 'CCD', 'newkey': 'newValue', 'y': 'yy', 'z': 10}"
      ]
     },
     "execution_count": 65,
     "metadata": {},
     "output_type": "execute_result"
    }
   ],
   "source": [
    "D"
   ]
  },
  {
   "cell_type": "markdown",
   "id": "650f555d-67ef-4593-a7b4-df37ac75b40d",
   "metadata": {},
   "source": [
    "## Remove element"
   ]
  },
  {
   "cell_type": "markdown",
   "id": "d5c26b61-b373-4f8c-a2eb-8a036325acbf",
   "metadata": {},
   "source": [
    "### List"
   ]
  },
  {
   "cell_type": "code",
   "execution_count": 13,
   "id": "f413089c-cd1a-4146-aced-60a32775244d",
   "metadata": {},
   "outputs": [
    {
     "data": {
      "text/plain": [
       "[1, 2, 3, 'moon', 4.9, 3, 'how', 'are', 100.75, 'you', 50]"
      ]
     },
     "execution_count": 13,
     "metadata": {},
     "output_type": "execute_result"
    }
   ],
   "source": [
    "L"
   ]
  },
  {
   "cell_type": "code",
   "execution_count": 14,
   "id": "20695a28-ad2d-485b-9d96-649e10331ddc",
   "metadata": {},
   "outputs": [],
   "source": [
    "del L[4]"
   ]
  },
  {
   "cell_type": "code",
   "execution_count": 15,
   "id": "b48bbe5f-086c-4581-9d69-422216ea3bfb",
   "metadata": {},
   "outputs": [
    {
     "data": {
      "text/plain": [
       "[1, 2, 3, 'moon', 3, 'how', 'are', 100.75, 'you', 50]"
      ]
     },
     "execution_count": 15,
     "metadata": {},
     "output_type": "execute_result"
    }
   ],
   "source": [
    "L"
   ]
  },
  {
   "cell_type": "markdown",
   "id": "1db487d4-5ff6-4a4b-823b-56e5f2254dee",
   "metadata": {},
   "source": [
    "### Set"
   ]
  },
  {
   "cell_type": "code",
   "execution_count": 54,
   "id": "95fd4d7b-a622-41c9-a494-669b70c2aba4",
   "metadata": {},
   "outputs": [
    {
     "data": {
      "text/plain": [
       "{1, 10.75, 2, 3, 4.9, 56, 'abc', 'moon'}"
      ]
     },
     "execution_count": 54,
     "metadata": {},
     "output_type": "execute_result"
    }
   ],
   "source": [
    "S"
   ]
  },
  {
   "cell_type": "code",
   "execution_count": 58,
   "id": "6de20f6d-cdd0-4cd7-875e-a75e1974a21c",
   "metadata": {},
   "outputs": [
    {
     "data": {
      "text/plain": [
       "\u001b[1;31mSignature:\u001b[0m \u001b[0mS\u001b[0m\u001b[1;33m.\u001b[0m\u001b[0mremove\u001b[0m\u001b[1;33m(\u001b[0m\u001b[0mobject\u001b[0m\u001b[1;33m,\u001b[0m \u001b[1;33m/\u001b[0m\u001b[1;33m)\u001b[0m\u001b[1;33m\u001b[0m\u001b[1;33m\u001b[0m\u001b[0m\n",
       "\u001b[1;31mDocstring:\u001b[0m\n",
       "Remove an element from a set; it must be a member.\n",
       "\n",
       "If the element is not a member, raise a KeyError.\n",
       "\u001b[1;31mType:\u001b[0m      builtin_function_or_method"
      ]
     },
     "metadata": {},
     "output_type": "display_data"
    }
   ],
   "source": [
    "S.remove?"
   ]
  },
  {
   "cell_type": "code",
   "execution_count": 59,
   "id": "65dff822-8bf9-4910-af9d-5679a44e2fa4",
   "metadata": {},
   "outputs": [],
   "source": [
    "S.remove('abc')"
   ]
  },
  {
   "cell_type": "code",
   "execution_count": 60,
   "id": "f30b2b7e-5e25-4f00-966e-2458ff3191d2",
   "metadata": {},
   "outputs": [
    {
     "data": {
      "text/plain": [
       "{1, 10.75, 2, 3, 4.9, 56, 'moon'}"
      ]
     },
     "execution_count": 60,
     "metadata": {},
     "output_type": "execute_result"
    }
   ],
   "source": [
    "S"
   ]
  },
  {
   "cell_type": "markdown",
   "id": "184217f5-590b-49ad-b050-efdf453a08a9",
   "metadata": {},
   "source": [
    "### Dictionary "
   ]
  },
  {
   "cell_type": "code",
   "execution_count": 61,
   "id": "51a1649f-57b6-402a-867e-5a5b814c036b",
   "metadata": {},
   "outputs": [
    {
     "data": {
      "text/plain": [
       "{23: 'twentythree', 'B': 10, 'C': 'CCD', 'newkey': 'newValue'}"
      ]
     },
     "execution_count": 61,
     "metadata": {},
     "output_type": "execute_result"
    }
   ],
   "source": [
    "D"
   ]
  },
  {
   "cell_type": "code",
   "execution_count": 62,
   "id": "5c85d977-62e0-4d52-9f95-4b387829395b",
   "metadata": {},
   "outputs": [],
   "source": [
    "del D['B']"
   ]
  },
  {
   "cell_type": "code",
   "execution_count": 63,
   "id": "53b6514e-8c29-44cf-ae6e-40b9aa509236",
   "metadata": {},
   "outputs": [
    {
     "data": {
      "text/plain": [
       "{23: 'twentythree', 'C': 'CCD', 'newkey': 'newValue'}"
      ]
     },
     "execution_count": 63,
     "metadata": {},
     "output_type": "execute_result"
    }
   ],
   "source": [
    "D"
   ]
  },
  {
   "cell_type": "markdown",
   "id": "a627ad37-6717-41ca-9a68-914145f3b1c3",
   "metadata": {},
   "source": [
    "## Copy"
   ]
  },
  {
   "cell_type": "markdown",
   "id": "811aff0f-e08e-4fea-8618-7d255294f431",
   "metadata": {},
   "source": [
    "### List reference Copy (Same Memory)"
   ]
  },
  {
   "cell_type": "code",
   "execution_count": 16,
   "id": "eba74b87-912e-4252-8c01-e8761a5e9016",
   "metadata": {},
   "outputs": [
    {
     "data": {
      "text/plain": [
       "[1, 2, 3, 'moon', 3, 'how', 'are', 100.75, 'you', 50]"
      ]
     },
     "execution_count": 16,
     "metadata": {},
     "output_type": "execute_result"
    }
   ],
   "source": [
    "L"
   ]
  },
  {
   "cell_type": "code",
   "execution_count": 17,
   "id": "bbbb6173-cb15-4855-a1db-fdc4027e8f79",
   "metadata": {},
   "outputs": [],
   "source": [
    "L2 = L"
   ]
  },
  {
   "cell_type": "markdown",
   "id": "56c1a7f0-3eb9-4eb1-a636-083ae037df8f",
   "metadata": {},
   "source": [
    "`L2 = L` does **not** create a new list in memory. It simply **copies the reference** to the same list L points to. So both L and L2 refer to the **same object in memory**."
   ]
  },
  {
   "cell_type": "code",
   "execution_count": 18,
   "id": "ef51b768-9c2c-42f9-99b4-c89031c1a5c5",
   "metadata": {},
   "outputs": [
    {
     "data": {
      "text/plain": [
       "[1, 2, 3, 'moon', 3, 'how', 'are', 100.75, 'you', 50]"
      ]
     },
     "execution_count": 18,
     "metadata": {},
     "output_type": "execute_result"
    }
   ],
   "source": [
    "L2"
   ]
  },
  {
   "cell_type": "code",
   "execution_count": 19,
   "id": "5a3363ca-ecd0-4cb5-bb20-b29b4739254d",
   "metadata": {},
   "outputs": [],
   "source": [
    "L2[2] = 'Three'"
   ]
  },
  {
   "cell_type": "code",
   "execution_count": 20,
   "id": "dfc61be3-a42e-4d16-b588-2c90e38f237e",
   "metadata": {},
   "outputs": [
    {
     "data": {
      "text/plain": [
       "[1, 2, 'Three', 'moon', 3, 'how', 'are', 100.75, 'you', 50]"
      ]
     },
     "execution_count": 20,
     "metadata": {},
     "output_type": "execute_result"
    }
   ],
   "source": [
    "L2"
   ]
  },
  {
   "cell_type": "code",
   "execution_count": 21,
   "id": "a6514421-8f3a-42e2-b5cb-6d3f74bbc52a",
   "metadata": {},
   "outputs": [
    {
     "data": {
      "text/plain": [
       "[1, 2, 'Three', 'moon', 3, 'how', 'are', 100.75, 'you', 50]"
      ]
     },
     "execution_count": 21,
     "metadata": {},
     "output_type": "execute_result"
    }
   ],
   "source": [
    "L"
   ]
  },
  {
   "cell_type": "markdown",
   "id": "196f5f8c-be96-43db-8cf0-c32183e00a84",
   "metadata": {},
   "source": [
    "### List Shallow Copy (New Memory)"
   ]
  },
  {
   "cell_type": "markdown",
   "id": "86f7abd9-8ce8-49f3-8869-adf80511c142",
   "metadata": {},
   "source": [
    "- This creates a **new list** in memory with the same top-level elements.\n",
    "- Now L and L2 are **different objects**.\n",
    "- Changing one **does not affect** the other"
   ]
  },
  {
   "cell_type": "code",
   "execution_count": 22,
   "id": "481bf931-bde6-4b0a-820f-85552991ad42",
   "metadata": {},
   "outputs": [],
   "source": [
    "L3 = L.copy()"
   ]
  },
  {
   "cell_type": "code",
   "execution_count": 75,
   "id": "f00cf11d-131f-49b6-80da-afc925840067",
   "metadata": {},
   "outputs": [
    {
     "data": {
      "text/plain": [
       "[1, 2, 'Three', 'moon', 3, 'how', 'are', 100.75, 'you', 50]"
      ]
     },
     "execution_count": 75,
     "metadata": {},
     "output_type": "execute_result"
    }
   ],
   "source": [
    "L3"
   ]
  },
  {
   "cell_type": "code",
   "execution_count": 76,
   "id": "793d782f-e29d-4989-940f-8aaa307b6f62",
   "metadata": {},
   "outputs": [],
   "source": [
    "L3[2]=3"
   ]
  },
  {
   "cell_type": "code",
   "execution_count": 77,
   "id": "521092fa-b4ff-4c97-8a5c-8adf6be0bd01",
   "metadata": {},
   "outputs": [
    {
     "data": {
      "text/plain": [
       "[1, 2, 3, 'moon', 3, 'how', 'are', 100.75, 'you', 50]"
      ]
     },
     "execution_count": 77,
     "metadata": {},
     "output_type": "execute_result"
    }
   ],
   "source": [
    "L3"
   ]
  },
  {
   "cell_type": "code",
   "execution_count": 23,
   "id": "46176aeb-18fc-4846-b56c-11a7ef3ed22b",
   "metadata": {},
   "outputs": [
    {
     "data": {
      "text/plain": [
       "[1, 2, 'Three', 'moon', 3, 'how', 'are', 100.75, 'you', 50]"
      ]
     },
     "execution_count": 23,
     "metadata": {},
     "output_type": "execute_result"
    }
   ],
   "source": [
    "L"
   ]
  },
  {
   "cell_type": "code",
   "execution_count": 24,
   "id": "58c23735-28a8-4180-bdc0-d3f7c2af4e53",
   "metadata": {},
   "outputs": [],
   "source": [
    "L4 = L[3:6]"
   ]
  },
  {
   "cell_type": "markdown",
   "id": "804e2991-a54e-4d43-a0f4-36d047e112e0",
   "metadata": {},
   "source": [
    "- This creates a **new list** L4 by **slicing** the original list L from index 3 to 5\n",
    "- modifying `L4` **doesn't affect** `L`."
   ]
  },
  {
   "cell_type": "code",
   "execution_count": 80,
   "id": "c32006fe-4220-4e62-b9d4-0003a4f759ce",
   "metadata": {},
   "outputs": [
    {
     "data": {
      "text/plain": [
       "['moon', 3, 'how']"
      ]
     },
     "execution_count": 80,
     "metadata": {},
     "output_type": "execute_result"
    }
   ],
   "source": [
    "L4"
   ]
  },
  {
   "cell_type": "code",
   "execution_count": 85,
   "id": "668dd04a-3550-47ac-88de-f5d85ebff4c2",
   "metadata": {},
   "outputs": [],
   "source": [
    "L4[2]='wow'"
   ]
  },
  {
   "cell_type": "code",
   "execution_count": 86,
   "id": "7743bebb-1d03-4538-bfb4-a09bd6a110fb",
   "metadata": {},
   "outputs": [
    {
     "data": {
      "text/plain": [
       "['moon', 3, 'wow']"
      ]
     },
     "execution_count": 86,
     "metadata": {},
     "output_type": "execute_result"
    }
   ],
   "source": [
    "L4"
   ]
  },
  {
   "cell_type": "code",
   "execution_count": 25,
   "id": "71e36313-d71d-4760-8d61-a418d29f4446",
   "metadata": {},
   "outputs": [
    {
     "data": {
      "text/plain": [
       "[1, 2, 'Three', 'moon', 3, 'how', 'are', 100.75, 'you', 50]"
      ]
     },
     "execution_count": 25,
     "metadata": {},
     "output_type": "execute_result"
    }
   ],
   "source": [
    "L"
   ]
  },
  {
   "cell_type": "markdown",
   "id": "05ca9f14-00bc-4e51-93d1-0b797fb99e19",
   "metadata": {},
   "source": [
    "## List methods"
   ]
  },
  {
   "cell_type": "code",
   "execution_count": 26,
   "id": "c069f211-604f-4bae-930c-3acce3c62c58",
   "metadata": {},
   "outputs": [
    {
     "data": {
      "text/plain": [
       "\u001b[1;31mSignature:\u001b[0m \u001b[0mL\u001b[0m\u001b[1;33m.\u001b[0m\u001b[0mappend\u001b[0m\u001b[1;33m(\u001b[0m\u001b[0mobject\u001b[0m\u001b[1;33m,\u001b[0m \u001b[1;33m/\u001b[0m\u001b[1;33m)\u001b[0m\u001b[1;33m\u001b[0m\u001b[1;33m\u001b[0m\u001b[0m\n",
       "\u001b[1;31mDocstring:\u001b[0m Append object to the end of the list.\n",
       "\u001b[1;31mType:\u001b[0m      builtin_function_or_method"
      ]
     },
     "metadata": {},
     "output_type": "display_data"
    }
   ],
   "source": [
    "L.append?"
   ]
  },
  {
   "cell_type": "code",
   "execution_count": 38,
   "id": "b0298c7d-185f-434f-a8a7-8362a1840a70",
   "metadata": {},
   "outputs": [],
   "source": [
    "L.append('moon')"
   ]
  },
  {
   "cell_type": "code",
   "execution_count": 39,
   "id": "1b2a76f6-4a54-4e4c-b51b-4c598518ea15",
   "metadata": {},
   "outputs": [
    {
     "data": {
      "text/plain": [
       "[1, 2, 'Three', 'moon', 3, 'how', 'are', 100.75, 'you', 50, 'moon']"
      ]
     },
     "execution_count": 39,
     "metadata": {},
     "output_type": "execute_result"
    }
   ],
   "source": [
    "L"
   ]
  },
  {
   "cell_type": "code",
   "execution_count": 27,
   "id": "62e8d797-66a3-4df1-b8d7-8589fb2b15b3",
   "metadata": {},
   "outputs": [
    {
     "data": {
      "text/plain": [
       "\u001b[1;31mSignature:\u001b[0m \u001b[0mL\u001b[0m\u001b[1;33m.\u001b[0m\u001b[0mclear\u001b[0m\u001b[1;33m(\u001b[0m\u001b[1;33m)\u001b[0m\u001b[1;33m\u001b[0m\u001b[1;33m\u001b[0m\u001b[0m\n",
       "\u001b[1;31mDocstring:\u001b[0m Remove all items from list.\n",
       "\u001b[1;31mType:\u001b[0m      builtin_function_or_method"
      ]
     },
     "metadata": {},
     "output_type": "display_data"
    }
   ],
   "source": [
    "L.clear?"
   ]
  },
  {
   "cell_type": "code",
   "execution_count": 28,
   "id": "877700e4-b715-4730-9e9c-24714d2c85f1",
   "metadata": {},
   "outputs": [
    {
     "data": {
      "text/plain": [
       "\u001b[1;31mSignature:\u001b[0m \u001b[0mL\u001b[0m\u001b[1;33m.\u001b[0m\u001b[0mcount\u001b[0m\u001b[1;33m(\u001b[0m\u001b[0mvalue\u001b[0m\u001b[1;33m,\u001b[0m \u001b[1;33m/\u001b[0m\u001b[1;33m)\u001b[0m\u001b[1;33m\u001b[0m\u001b[1;33m\u001b[0m\u001b[0m\n",
       "\u001b[1;31mDocstring:\u001b[0m Return number of occurrences of value.\n",
       "\u001b[1;31mType:\u001b[0m      builtin_function_or_method"
      ]
     },
     "metadata": {},
     "output_type": "display_data"
    }
   ],
   "source": [
    "L.count?"
   ]
  },
  {
   "cell_type": "code",
   "execution_count": 40,
   "id": "11da5339-e156-4e62-9cbf-d194b47718e8",
   "metadata": {},
   "outputs": [
    {
     "data": {
      "text/plain": [
       "2"
      ]
     },
     "execution_count": 40,
     "metadata": {},
     "output_type": "execute_result"
    }
   ],
   "source": [
    "L.count('moon')"
   ]
  },
  {
   "cell_type": "code",
   "execution_count": 29,
   "id": "1cb5dc76-28f1-40a4-ba6c-ac485260754e",
   "metadata": {},
   "outputs": [
    {
     "data": {
      "text/plain": [
       "\u001b[1;31mSignature:\u001b[0m \u001b[0mL\u001b[0m\u001b[1;33m.\u001b[0m\u001b[0mcopy\u001b[0m\u001b[1;33m(\u001b[0m\u001b[1;33m)\u001b[0m\u001b[1;33m\u001b[0m\u001b[1;33m\u001b[0m\u001b[0m\n",
       "\u001b[1;31mDocstring:\u001b[0m Return a shallow copy of the list.\n",
       "\u001b[1;31mType:\u001b[0m      builtin_function_or_method"
      ]
     },
     "metadata": {},
     "output_type": "display_data"
    }
   ],
   "source": [
    "L.copy?"
   ]
  },
  {
   "cell_type": "code",
   "execution_count": 30,
   "id": "6c281a6f-0ef2-49a8-91a1-51e1d0377fdc",
   "metadata": {},
   "outputs": [
    {
     "data": {
      "text/plain": [
       "\u001b[1;31mSignature:\u001b[0m \u001b[0mL\u001b[0m\u001b[1;33m.\u001b[0m\u001b[0mextend\u001b[0m\u001b[1;33m(\u001b[0m\u001b[0miterable\u001b[0m\u001b[1;33m,\u001b[0m \u001b[1;33m/\u001b[0m\u001b[1;33m)\u001b[0m\u001b[1;33m\u001b[0m\u001b[1;33m\u001b[0m\u001b[0m\n",
       "\u001b[1;31mDocstring:\u001b[0m Extend list by appending elements from the iterable.\n",
       "\u001b[1;31mType:\u001b[0m      builtin_function_or_method"
      ]
     },
     "metadata": {},
     "output_type": "display_data"
    }
   ],
   "source": [
    "L.extend?"
   ]
  },
  {
   "cell_type": "code",
   "execution_count": 31,
   "id": "ee216c80-3d34-40d9-ba47-8f59a7206a13",
   "metadata": {},
   "outputs": [
    {
     "data": {
      "text/plain": [
       "\u001b[1;31mSignature:\u001b[0m \u001b[0mL\u001b[0m\u001b[1;33m.\u001b[0m\u001b[0mindex\u001b[0m\u001b[1;33m(\u001b[0m\u001b[0mvalue\u001b[0m\u001b[1;33m,\u001b[0m \u001b[0mstart\u001b[0m\u001b[1;33m=\u001b[0m\u001b[1;36m0\u001b[0m\u001b[1;33m,\u001b[0m \u001b[0mstop\u001b[0m\u001b[1;33m=\u001b[0m\u001b[1;36m9223372036854775807\u001b[0m\u001b[1;33m,\u001b[0m \u001b[1;33m/\u001b[0m\u001b[1;33m)\u001b[0m\u001b[1;33m\u001b[0m\u001b[1;33m\u001b[0m\u001b[0m\n",
       "\u001b[1;31mDocstring:\u001b[0m\n",
       "Return first index of value.\n",
       "\n",
       "Raises ValueError if the value is not present.\n",
       "\u001b[1;31mType:\u001b[0m      builtin_function_or_method"
      ]
     },
     "metadata": {},
     "output_type": "display_data"
    }
   ],
   "source": [
    "L.index?"
   ]
  },
  {
   "cell_type": "code",
   "execution_count": 32,
   "id": "c39b1285-7502-4f87-b026-64affeef86f4",
   "metadata": {},
   "outputs": [
    {
     "data": {
      "text/plain": [
       "\u001b[1;31mSignature:\u001b[0m \u001b[0mL\u001b[0m\u001b[1;33m.\u001b[0m\u001b[0minsert\u001b[0m\u001b[1;33m(\u001b[0m\u001b[0mindex\u001b[0m\u001b[1;33m,\u001b[0m \u001b[0mobject\u001b[0m\u001b[1;33m,\u001b[0m \u001b[1;33m/\u001b[0m\u001b[1;33m)\u001b[0m\u001b[1;33m\u001b[0m\u001b[1;33m\u001b[0m\u001b[0m\n",
       "\u001b[1;31mDocstring:\u001b[0m Insert object before index.\n",
       "\u001b[1;31mType:\u001b[0m      builtin_function_or_method"
      ]
     },
     "metadata": {},
     "output_type": "display_data"
    }
   ],
   "source": [
    "L.insert?"
   ]
  },
  {
   "cell_type": "code",
   "execution_count": 33,
   "id": "b77466f7-d5c7-4895-899f-0bdcb8795513",
   "metadata": {},
   "outputs": [
    {
     "data": {
      "text/plain": [
       "\u001b[1;31mSignature:\u001b[0m \u001b[0mL\u001b[0m\u001b[1;33m.\u001b[0m\u001b[0mpop\u001b[0m\u001b[1;33m(\u001b[0m\u001b[0mindex\u001b[0m\u001b[1;33m=\u001b[0m\u001b[1;33m-\u001b[0m\u001b[1;36m1\u001b[0m\u001b[1;33m,\u001b[0m \u001b[1;33m/\u001b[0m\u001b[1;33m)\u001b[0m\u001b[1;33m\u001b[0m\u001b[1;33m\u001b[0m\u001b[0m\n",
       "\u001b[1;31mDocstring:\u001b[0m\n",
       "Remove and return item at index (default last).\n",
       "\n",
       "Raises IndexError if list is empty or index is out of range.\n",
       "\u001b[1;31mType:\u001b[0m      builtin_function_or_method"
      ]
     },
     "metadata": {},
     "output_type": "display_data"
    }
   ],
   "source": [
    "L.pop?"
   ]
  },
  {
   "cell_type": "code",
   "execution_count": 34,
   "id": "97c288eb-ec9f-4725-90cf-9e4514995c6a",
   "metadata": {},
   "outputs": [
    {
     "data": {
      "text/plain": [
       "\u001b[1;31mSignature:\u001b[0m \u001b[0mL\u001b[0m\u001b[1;33m.\u001b[0m\u001b[0mremove\u001b[0m\u001b[1;33m(\u001b[0m\u001b[0mvalue\u001b[0m\u001b[1;33m,\u001b[0m \u001b[1;33m/\u001b[0m\u001b[1;33m)\u001b[0m\u001b[1;33m\u001b[0m\u001b[1;33m\u001b[0m\u001b[0m\n",
       "\u001b[1;31mDocstring:\u001b[0m\n",
       "Remove first occurrence of value.\n",
       "\n",
       "Raises ValueError if the value is not present.\n",
       "\u001b[1;31mType:\u001b[0m      builtin_function_or_method"
      ]
     },
     "metadata": {},
     "output_type": "display_data"
    }
   ],
   "source": [
    "L.remove?\n"
   ]
  },
  {
   "cell_type": "code",
   "execution_count": 35,
   "id": "ae0dde38-e15c-4abe-ab9d-72ed7d1938ea",
   "metadata": {},
   "outputs": [
    {
     "data": {
      "text/plain": [
       "\u001b[1;31mSignature:\u001b[0m \u001b[0mL\u001b[0m\u001b[1;33m.\u001b[0m\u001b[0mreverse\u001b[0m\u001b[1;33m(\u001b[0m\u001b[1;33m)\u001b[0m\u001b[1;33m\u001b[0m\u001b[1;33m\u001b[0m\u001b[0m\n",
       "\u001b[1;31mDocstring:\u001b[0m Reverse *IN PLACE*.\n",
       "\u001b[1;31mType:\u001b[0m      builtin_function_or_method"
      ]
     },
     "metadata": {},
     "output_type": "display_data"
    }
   ],
   "source": [
    "L.reverse?"
   ]
  },
  {
   "cell_type": "code",
   "execution_count": 36,
   "id": "7e0d1fc4-022f-4e45-92b0-403b15c217f7",
   "metadata": {},
   "outputs": [
    {
     "data": {
      "text/plain": [
       "\u001b[1;31mSignature:\u001b[0m \u001b[0mL\u001b[0m\u001b[1;33m.\u001b[0m\u001b[0msort\u001b[0m\u001b[1;33m(\u001b[0m\u001b[1;33m*\u001b[0m\u001b[1;33m,\u001b[0m \u001b[0mkey\u001b[0m\u001b[1;33m=\u001b[0m\u001b[1;32mNone\u001b[0m\u001b[1;33m,\u001b[0m \u001b[0mreverse\u001b[0m\u001b[1;33m=\u001b[0m\u001b[1;32mFalse\u001b[0m\u001b[1;33m)\u001b[0m\u001b[1;33m\u001b[0m\u001b[1;33m\u001b[0m\u001b[0m\n",
       "\u001b[1;31mDocstring:\u001b[0m\n",
       "Sort the list in ascending order and return None.\n",
       "\n",
       "The sort is in-place (i.e. the list itself is modified) and stable (i.e. the\n",
       "order of two equal elements is maintained).\n",
       "\n",
       "If a key function is given, apply it once to each list item and sort them,\n",
       "ascending or descending, according to their function values.\n",
       "\n",
       "The reverse flag can be set to sort in descending order.\n",
       "\u001b[1;31mType:\u001b[0m      builtin_function_or_method"
      ]
     },
     "metadata": {},
     "output_type": "display_data"
    }
   ],
   "source": [
    "L.sort?"
   ]
  },
  {
   "cell_type": "code",
   "execution_count": 42,
   "id": "d723b925-39f2-4826-b3b3-07ab7e219d6d",
   "metadata": {},
   "outputs": [],
   "source": [
    "fruits = ['apple', 'banana', 'cherry']\n",
    "cars = ['Ford', 'BMW', 'Volvo']\n",
    "fruits.extend(cars)"
   ]
  },
  {
   "cell_type": "code",
   "execution_count": 43,
   "id": "eac4d8e5-009b-4a86-9fd2-194a9de0f28a",
   "metadata": {},
   "outputs": [
    {
     "data": {
      "text/plain": [
       "['apple', 'banana', 'cherry', 'Ford', 'BMW', 'Volvo']"
      ]
     },
     "execution_count": 43,
     "metadata": {},
     "output_type": "execute_result"
    }
   ],
   "source": [
    "fruits"
   ]
  },
  {
   "cell_type": "code",
   "execution_count": 44,
   "id": "17a43105-f603-4400-8f04-6e14c59436f5",
   "metadata": {},
   "outputs": [
    {
     "data": {
      "text/plain": [
       "['Ford', 'BMW', 'Volvo']"
      ]
     },
     "execution_count": 44,
     "metadata": {},
     "output_type": "execute_result"
    }
   ],
   "source": [
    "cars"
   ]
  },
  {
   "cell_type": "code",
   "execution_count": 45,
   "id": "c1c87ba7-ff8e-4863-abe2-98da832bbc2c",
   "metadata": {},
   "outputs": [
    {
     "ename": "ValueError",
     "evalue": "'apple' is not in list",
     "output_type": "error",
     "traceback": [
      "\u001b[1;31m---------------------------------------------------------------------------\u001b[0m",
      "\u001b[1;31mValueError\u001b[0m                                Traceback (most recent call last)",
      "Cell \u001b[1;32mIn[45], line 1\u001b[0m\n\u001b[1;32m----> 1\u001b[0m cars\u001b[38;5;241m.\u001b[39mindex(\u001b[38;5;124m'\u001b[39m\u001b[38;5;124mapple\u001b[39m\u001b[38;5;124m'\u001b[39m)\n",
      "\u001b[1;31mValueError\u001b[0m: 'apple' is not in list"
     ]
    }
   ],
   "source": [
    "cars.index('apple')"
   ]
  },
  {
   "cell_type": "code",
   "execution_count": 46,
   "id": "a76fa378-d89c-4d86-b150-2262bd59baf8",
   "metadata": {},
   "outputs": [
    {
     "data": {
      "text/plain": [
       "0"
      ]
     },
     "execution_count": 46,
     "metadata": {},
     "output_type": "execute_result"
    }
   ],
   "source": [
    "fruits.index('apple')"
   ]
  },
  {
   "cell_type": "code",
   "execution_count": 47,
   "id": "629b303f-815c-4b59-b774-a042f19ac475",
   "metadata": {},
   "outputs": [
    {
     "data": {
      "text/plain": [
       "8"
      ]
     },
     "execution_count": 47,
     "metadata": {},
     "output_type": "execute_result"
    }
   ],
   "source": [
    "L.index('you')"
   ]
  },
  {
   "cell_type": "code",
   "execution_count": 49,
   "id": "d95778f4-2d65-4b36-925a-89fa0b1457ba",
   "metadata": {},
   "outputs": [],
   "source": [
    "cars.insert(1,'Ferrari')"
   ]
  },
  {
   "cell_type": "code",
   "execution_count": 50,
   "id": "9d2ff369-35e9-45d7-9cd1-a121c58008e7",
   "metadata": {},
   "outputs": [
    {
     "data": {
      "text/plain": [
       "['Ford', 'Ferrari', 'BMW', 'Volvo']"
      ]
     },
     "execution_count": 50,
     "metadata": {},
     "output_type": "execute_result"
    }
   ],
   "source": [
    "cars"
   ]
  },
  {
   "cell_type": "code",
   "execution_count": 51,
   "id": "6691e328-1604-4641-a234-4dfefbfb5c94",
   "metadata": {},
   "outputs": [
    {
     "data": {
      "text/plain": [
       "'Volvo'"
      ]
     },
     "execution_count": 51,
     "metadata": {},
     "output_type": "execute_result"
    }
   ],
   "source": [
    "fruits.pop()"
   ]
  },
  {
   "cell_type": "code",
   "execution_count": 52,
   "id": "c700776c-282d-44ed-aa5d-937000258e9a",
   "metadata": {},
   "outputs": [],
   "source": [
    "L.remove('moon')"
   ]
  },
  {
   "cell_type": "code",
   "execution_count": 53,
   "id": "76f1ae42-a4d0-4953-aea3-50703845f0a4",
   "metadata": {},
   "outputs": [
    {
     "data": {
      "text/plain": [
       "[1, 2, 'Three', 3, 'how', 'are', 100.75, 'you', 50, 'moon']"
      ]
     },
     "execution_count": 53,
     "metadata": {},
     "output_type": "execute_result"
    }
   ],
   "source": [
    "L"
   ]
  },
  {
   "cell_type": "code",
   "execution_count": 54,
   "id": "815aa61f-e348-4310-af87-623ff7708b32",
   "metadata": {},
   "outputs": [],
   "source": [
    "L.reverse()"
   ]
  },
  {
   "cell_type": "code",
   "execution_count": 55,
   "id": "a44830c4-0fe7-4f63-8f7f-a9472dee8b1e",
   "metadata": {},
   "outputs": [
    {
     "data": {
      "text/plain": [
       "['moon', 50, 'you', 100.75, 'are', 'how', 3, 'Three', 2, 1]"
      ]
     },
     "execution_count": 55,
     "metadata": {},
     "output_type": "execute_result"
    }
   ],
   "source": [
    "L"
   ]
  },
  {
   "cell_type": "code",
   "execution_count": 56,
   "id": "ef02541f-1a04-487c-9a0f-ea9b2a98a010",
   "metadata": {},
   "outputs": [
    {
     "data": {
      "text/plain": [
       "[1, 2, 'Three', 3, 'how', 'are', 100.75, 'you', 50, 'moon']"
      ]
     },
     "execution_count": 56,
     "metadata": {},
     "output_type": "execute_result"
    }
   ],
   "source": [
    "L[::-1]"
   ]
  },
  {
   "cell_type": "code",
   "execution_count": 58,
   "id": "af97cc0a-146e-40e8-a8bb-5262ebcd1938",
   "metadata": {},
   "outputs": [
    {
     "ename": "TypeError",
     "evalue": "'<' not supported between instances of 'int' and 'str'",
     "output_type": "error",
     "traceback": [
      "\u001b[1;31m---------------------------------------------------------------------------\u001b[0m",
      "\u001b[1;31mTypeError\u001b[0m                                 Traceback (most recent call last)",
      "Cell \u001b[1;32mIn[58], line 1\u001b[0m\n\u001b[1;32m----> 1\u001b[0m L\u001b[38;5;241m.\u001b[39msort()\n",
      "\u001b[1;31mTypeError\u001b[0m: '<' not supported between instances of 'int' and 'str'"
     ]
    }
   ],
   "source": [
    "L.sort()"
   ]
  },
  {
   "cell_type": "markdown",
   "id": "6ba74714-7191-4881-9a07-1b649677bbc2",
   "metadata": {},
   "source": [
    "You **can't compare an int with a str** — Python doesn’t know if `3 < 'moon'` makes sense."
   ]
  },
  {
   "cell_type": "code",
   "execution_count": 59,
   "id": "92f114ce-28fe-40ec-ac6c-9525dc368751",
   "metadata": {},
   "outputs": [],
   "source": [
    "fruits.sort()"
   ]
  },
  {
   "cell_type": "code",
   "execution_count": 60,
   "id": "a02a4c19-037d-45b5-b387-04f5e61dd753",
   "metadata": {},
   "outputs": [
    {
     "data": {
      "text/plain": [
       "['BMW', 'Ford', 'apple', 'banana', 'cherry']"
      ]
     },
     "execution_count": 60,
     "metadata": {},
     "output_type": "execute_result"
    }
   ],
   "source": [
    "fruits"
   ]
  },
  {
   "cell_type": "code",
   "execution_count": 62,
   "id": "d55fe132-51a3-4b70-8a4c-b59b08b7ed61",
   "metadata": {},
   "outputs": [],
   "source": [
    "fruits.sort(reverse=True)"
   ]
  },
  {
   "cell_type": "code",
   "execution_count": 63,
   "id": "98a3e19a-c8cf-4f01-a0cc-d419dd0928b9",
   "metadata": {},
   "outputs": [
    {
     "data": {
      "text/plain": [
       "['cherry', 'banana', 'apple', 'Ford', 'BMW']"
      ]
     },
     "execution_count": 63,
     "metadata": {},
     "output_type": "execute_result"
    }
   ],
   "source": [
    "fruits"
   ]
  },
  {
   "cell_type": "markdown",
   "id": "0c97e45f-b330-4ea3-b197-6068ecef512f",
   "metadata": {},
   "source": [
    "## Tuple Methods"
   ]
  },
  {
   "cell_type": "code",
   "execution_count": 64,
   "id": "146f94b0-c8e7-4c95-85e3-1d5063580966",
   "metadata": {},
   "outputs": [
    {
     "data": {
      "text/plain": [
       "\u001b[1;31mSignature:\u001b[0m \u001b[0mT\u001b[0m\u001b[1;33m.\u001b[0m\u001b[0mcount\u001b[0m\u001b[1;33m(\u001b[0m\u001b[0mvalue\u001b[0m\u001b[1;33m,\u001b[0m \u001b[1;33m/\u001b[0m\u001b[1;33m)\u001b[0m\u001b[1;33m\u001b[0m\u001b[1;33m\u001b[0m\u001b[0m\n",
       "\u001b[1;31mDocstring:\u001b[0m Return number of occurrences of value.\n",
       "\u001b[1;31mType:\u001b[0m      builtin_function_or_method"
      ]
     },
     "metadata": {},
     "output_type": "display_data"
    }
   ],
   "source": [
    "T.count?"
   ]
  },
  {
   "cell_type": "code",
   "execution_count": 65,
   "id": "ff77963f-92f2-419e-826b-bb45045ad1d9",
   "metadata": {},
   "outputs": [
    {
     "data": {
      "text/plain": [
       "\u001b[1;31mSignature:\u001b[0m \u001b[0mT\u001b[0m\u001b[1;33m.\u001b[0m\u001b[0mindex\u001b[0m\u001b[1;33m(\u001b[0m\u001b[0mvalue\u001b[0m\u001b[1;33m,\u001b[0m \u001b[0mstart\u001b[0m\u001b[1;33m=\u001b[0m\u001b[1;36m0\u001b[0m\u001b[1;33m,\u001b[0m \u001b[0mstop\u001b[0m\u001b[1;33m=\u001b[0m\u001b[1;36m9223372036854775807\u001b[0m\u001b[1;33m,\u001b[0m \u001b[1;33m/\u001b[0m\u001b[1;33m)\u001b[0m\u001b[1;33m\u001b[0m\u001b[1;33m\u001b[0m\u001b[0m\n",
       "\u001b[1;31mDocstring:\u001b[0m\n",
       "Return first index of value.\n",
       "\n",
       "Raises ValueError if the value is not present.\n",
       "\u001b[1;31mType:\u001b[0m      builtin_function_or_method"
      ]
     },
     "metadata": {},
     "output_type": "display_data"
    }
   ],
   "source": [
    "T.index?"
   ]
  },
  {
   "cell_type": "code",
   "execution_count": 66,
   "id": "b937d7eb-aeb5-4892-927c-8fd16b336513",
   "metadata": {},
   "outputs": [
    {
     "data": {
      "text/plain": [
       "(1, 2, 3, 'moon', 4.9, 3)"
      ]
     },
     "execution_count": 66,
     "metadata": {},
     "output_type": "execute_result"
    }
   ],
   "source": [
    "T"
   ]
  },
  {
   "cell_type": "code",
   "execution_count": 67,
   "id": "7b158657-c766-4d97-8d62-e865033f6ac9",
   "metadata": {},
   "outputs": [
    {
     "data": {
      "text/plain": [
       "2"
      ]
     },
     "execution_count": 67,
     "metadata": {},
     "output_type": "execute_result"
    }
   ],
   "source": [
    "T.count(3)"
   ]
  },
  {
   "cell_type": "code",
   "execution_count": 68,
   "id": "1076be4d-8794-423c-8218-dd6bc0ce1b07",
   "metadata": {},
   "outputs": [
    {
     "data": {
      "text/plain": [
       "2"
      ]
     },
     "execution_count": 68,
     "metadata": {},
     "output_type": "execute_result"
    }
   ],
   "source": [
    "T.index(3)"
   ]
  },
  {
   "cell_type": "markdown",
   "id": "2d983b6c-ea30-4d00-a10f-e233f3bd4780",
   "metadata": {},
   "source": [
    "## Set Methods"
   ]
  },
  {
   "cell_type": "code",
   "execution_count": 69,
   "id": "84b7eef5-031e-43d3-8d9e-6b765cccc476",
   "metadata": {},
   "outputs": [
    {
     "data": {
      "text/plain": [
       "\u001b[1;31mSignature:\u001b[0m \u001b[0mS\u001b[0m\u001b[1;33m.\u001b[0m\u001b[0madd\u001b[0m\u001b[1;33m(\u001b[0m\u001b[0mobject\u001b[0m\u001b[1;33m,\u001b[0m \u001b[1;33m/\u001b[0m\u001b[1;33m)\u001b[0m\u001b[1;33m\u001b[0m\u001b[1;33m\u001b[0m\u001b[0m\n",
       "\u001b[1;31mDocstring:\u001b[0m\n",
       "Add an element to a set.\n",
       "\n",
       "This has no effect if the element is already present.\n",
       "\u001b[1;31mType:\u001b[0m      builtin_function_or_method"
      ]
     },
     "metadata": {},
     "output_type": "display_data"
    }
   ],
   "source": [
    "S.add?"
   ]
  },
  {
   "cell_type": "code",
   "execution_count": 70,
   "id": "5599471a-5c00-4b74-9509-fc9cf29f9408",
   "metadata": {},
   "outputs": [
    {
     "data": {
      "text/plain": [
       "\u001b[1;31mSignature:\u001b[0m \u001b[0mS\u001b[0m\u001b[1;33m.\u001b[0m\u001b[0mupdate\u001b[0m\u001b[1;33m(\u001b[0m\u001b[1;33m*\u001b[0m\u001b[0mothers\u001b[0m\u001b[1;33m)\u001b[0m\u001b[1;33m\u001b[0m\u001b[1;33m\u001b[0m\u001b[0m\n",
       "\u001b[1;31mDocstring:\u001b[0m Update the set, adding elements from all others.\n",
       "\u001b[1;31mType:\u001b[0m      builtin_function_or_method"
      ]
     },
     "metadata": {},
     "output_type": "display_data"
    }
   ],
   "source": [
    "S.update?"
   ]
  },
  {
   "cell_type": "code",
   "execution_count": 71,
   "id": "13ee7b33-960b-4904-b57a-f9100cf7847a",
   "metadata": {},
   "outputs": [
    {
     "data": {
      "text/plain": [
       "\u001b[1;31mSignature:\u001b[0m \u001b[0mS\u001b[0m\u001b[1;33m.\u001b[0m\u001b[0mdifference\u001b[0m\u001b[1;33m(\u001b[0m\u001b[1;33m*\u001b[0m\u001b[0mothers\u001b[0m\u001b[1;33m)\u001b[0m\u001b[1;33m\u001b[0m\u001b[1;33m\u001b[0m\u001b[0m\n",
       "\u001b[1;31mDocstring:\u001b[0m Return a new set with elements in the set that are not in the others.\n",
       "\u001b[1;31mType:\u001b[0m      builtin_function_or_method"
      ]
     },
     "metadata": {},
     "output_type": "display_data"
    }
   ],
   "source": [
    "S.difference?"
   ]
  },
  {
   "cell_type": "code",
   "execution_count": 72,
   "id": "d2b915ad-7937-4158-8038-463a8f18da09",
   "metadata": {},
   "outputs": [
    {
     "data": {
      "text/plain": [
       "{1, 2, 3, 4.9, 'moon'}"
      ]
     },
     "execution_count": 72,
     "metadata": {},
     "output_type": "execute_result"
    }
   ],
   "source": [
    "S"
   ]
  },
  {
   "cell_type": "code",
   "execution_count": 73,
   "id": "7fe29427-b308-4fa9-a1d0-9d04c11634ff",
   "metadata": {},
   "outputs": [],
   "source": [
    "S2 = {1,2,3,4,5}"
   ]
  },
  {
   "cell_type": "code",
   "execution_count": 74,
   "id": "e66d5c5f-715c-485f-9d17-41e4e856d737",
   "metadata": {},
   "outputs": [
    {
     "data": {
      "text/plain": [
       "{4.9, 'moon'}"
      ]
     },
     "execution_count": 74,
     "metadata": {},
     "output_type": "execute_result"
    }
   ],
   "source": [
    "S.difference(S2)"
   ]
  },
  {
   "cell_type": "code",
   "execution_count": 75,
   "id": "108b356a-eb8d-4a69-8eb2-8bf7d7887cae",
   "metadata": {},
   "outputs": [
    {
     "data": {
      "text/plain": [
       "\u001b[1;31mSignature:\u001b[0m \u001b[0mS\u001b[0m\u001b[1;33m.\u001b[0m\u001b[0mdifference_update\u001b[0m\u001b[1;33m(\u001b[0m\u001b[1;33m*\u001b[0m\u001b[0mothers\u001b[0m\u001b[1;33m)\u001b[0m\u001b[1;33m\u001b[0m\u001b[1;33m\u001b[0m\u001b[0m\n",
       "\u001b[1;31mDocstring:\u001b[0m Update the set, removing elements found in others.\n",
       "\u001b[1;31mType:\u001b[0m      builtin_function_or_method"
      ]
     },
     "metadata": {},
     "output_type": "display_data"
    }
   ],
   "source": [
    "S.difference_update?"
   ]
  },
  {
   "cell_type": "code",
   "execution_count": 76,
   "id": "9e5905cf-b45d-4f67-aa2a-77f28a07816a",
   "metadata": {},
   "outputs": [],
   "source": [
    "S.difference_update(S2)"
   ]
  },
  {
   "cell_type": "code",
   "execution_count": 77,
   "id": "49f081f0-db34-46b0-bf5a-db8acb381bb0",
   "metadata": {},
   "outputs": [
    {
     "data": {
      "text/plain": [
       "{4.9, 'moon'}"
      ]
     },
     "execution_count": 77,
     "metadata": {},
     "output_type": "execute_result"
    }
   ],
   "source": [
    "S"
   ]
  },
  {
   "cell_type": "code",
   "execution_count": 78,
   "id": "1011478c-5ab9-4e33-800f-4c7ddbd3ccc7",
   "metadata": {},
   "outputs": [
    {
     "data": {
      "text/plain": [
       "\u001b[1;31mSignature:\u001b[0m \u001b[0mS\u001b[0m\u001b[1;33m.\u001b[0m\u001b[0mdiscard\u001b[0m\u001b[1;33m(\u001b[0m\u001b[0mobject\u001b[0m\u001b[1;33m,\u001b[0m \u001b[1;33m/\u001b[0m\u001b[1;33m)\u001b[0m\u001b[1;33m\u001b[0m\u001b[1;33m\u001b[0m\u001b[0m\n",
       "\u001b[1;31mDocstring:\u001b[0m\n",
       "Remove an element from a set if it is a member.\n",
       "\n",
       "Unlike set.remove(), the discard() method does not raise\n",
       "an exception when an element is missing from the set.\n",
       "\u001b[1;31mType:\u001b[0m      builtin_function_or_method"
      ]
     },
     "metadata": {},
     "output_type": "display_data"
    }
   ],
   "source": [
    "S.discard?"
   ]
  },
  {
   "cell_type": "code",
   "execution_count": 79,
   "id": "27f79185-ac76-49fb-9401-cd401f8d8ead",
   "metadata": {},
   "outputs": [],
   "source": [
    "S.discard(1)"
   ]
  },
  {
   "cell_type": "code",
   "execution_count": 80,
   "id": "48e639c6-8c56-4fe4-95c7-d3a6f052a245",
   "metadata": {},
   "outputs": [
    {
     "ename": "KeyError",
     "evalue": "1",
     "output_type": "error",
     "traceback": [
      "\u001b[1;31m---------------------------------------------------------------------------\u001b[0m",
      "\u001b[1;31mKeyError\u001b[0m                                  Traceback (most recent call last)",
      "Cell \u001b[1;32mIn[80], line 1\u001b[0m\n\u001b[1;32m----> 1\u001b[0m S\u001b[38;5;241m.\u001b[39mremove(\u001b[38;5;241m1\u001b[39m)\n",
      "\u001b[1;31mKeyError\u001b[0m: 1"
     ]
    }
   ],
   "source": [
    "S.remove(1)"
   ]
  },
  {
   "cell_type": "code",
   "execution_count": 81,
   "id": "4b00aef3-9201-4610-9a53-72eb6198f30c",
   "metadata": {},
   "outputs": [],
   "source": [
    "S2.discard(4)"
   ]
  },
  {
   "cell_type": "code",
   "execution_count": 82,
   "id": "cccc2df5-7b4d-4e7e-9219-bd834437c1b6",
   "metadata": {},
   "outputs": [
    {
     "data": {
      "text/plain": [
       "{1, 2, 3, 5}"
      ]
     },
     "execution_count": 82,
     "metadata": {},
     "output_type": "execute_result"
    }
   ],
   "source": [
    "S2"
   ]
  },
  {
   "cell_type": "code",
   "execution_count": 84,
   "id": "af3fbd36-25c9-46ab-9fe4-7d0647541656",
   "metadata": {},
   "outputs": [
    {
     "data": {
      "text/plain": [
       "\u001b[1;31mSignature:\u001b[0m \u001b[0mS\u001b[0m\u001b[1;33m.\u001b[0m\u001b[0mintersection\u001b[0m\u001b[1;33m(\u001b[0m\u001b[1;33m*\u001b[0m\u001b[0mothers\u001b[0m\u001b[1;33m)\u001b[0m\u001b[1;33m\u001b[0m\u001b[1;33m\u001b[0m\u001b[0m\n",
       "\u001b[1;31mDocstring:\u001b[0m Return a new set with elements common to the set and all others.\n",
       "\u001b[1;31mType:\u001b[0m      builtin_function_or_method"
      ]
     },
     "metadata": {},
     "output_type": "display_data"
    }
   ],
   "source": [
    "S.intersection?"
   ]
  },
  {
   "cell_type": "code",
   "execution_count": 85,
   "id": "2b239f4b-8e3b-4bc6-8ef2-6068ecd4f72f",
   "metadata": {},
   "outputs": [],
   "source": [
    "S3={1,3,5,7,9}"
   ]
  },
  {
   "cell_type": "code",
   "execution_count": 88,
   "id": "d7d3c1a3-4cfe-4409-bd94-7c05c9488a45",
   "metadata": {},
   "outputs": [
    {
     "data": {
      "text/plain": [
       "{1, 3, 5}"
      ]
     },
     "execution_count": 88,
     "metadata": {},
     "output_type": "execute_result"
    }
   ],
   "source": [
    "S2.intersection(S3)"
   ]
  },
  {
   "cell_type": "code",
   "execution_count": 89,
   "id": "7a269ab7-9588-4016-a253-c7e4e8135ce9",
   "metadata": {},
   "outputs": [
    {
     "data": {
      "text/plain": [
       "set()"
      ]
     },
     "execution_count": 89,
     "metadata": {},
     "output_type": "execute_result"
    }
   ],
   "source": [
    "S.intersection(S3)"
   ]
  },
  {
   "cell_type": "markdown",
   "id": "1124ec49-9e54-4d50-a926-0cb2161d23b7",
   "metadata": {},
   "source": [
    "Return **empty set** if nothing is common"
   ]
  },
  {
   "cell_type": "code",
   "execution_count": 90,
   "id": "ab903d4b-c753-433b-af70-316e7aaf7abc",
   "metadata": {},
   "outputs": [
    {
     "data": {
      "text/plain": [
       "\u001b[1;31mSignature:\u001b[0m \u001b[0mS\u001b[0m\u001b[1;33m.\u001b[0m\u001b[0mintersection_update\u001b[0m\u001b[1;33m(\u001b[0m\u001b[1;33m*\u001b[0m\u001b[0mothers\u001b[0m\u001b[1;33m)\u001b[0m\u001b[1;33m\u001b[0m\u001b[1;33m\u001b[0m\u001b[0m\n",
       "\u001b[1;31mDocstring:\u001b[0m Update the set, keeping only elements found in it and all others.\n",
       "\u001b[1;31mType:\u001b[0m      builtin_function_or_method"
      ]
     },
     "metadata": {},
     "output_type": "display_data"
    }
   ],
   "source": [
    "S.intersection_update?"
   ]
  },
  {
   "cell_type": "code",
   "execution_count": 91,
   "id": "d65a4d63-e57b-468e-a39f-46ef85b234be",
   "metadata": {},
   "outputs": [],
   "source": [
    "S2.intersection_update(S3)"
   ]
  },
  {
   "cell_type": "code",
   "execution_count": 92,
   "id": "44e90919-0599-4ed5-a46e-ea1722771e91",
   "metadata": {},
   "outputs": [
    {
     "data": {
      "text/plain": [
       "{1, 3, 5}"
      ]
     },
     "execution_count": 92,
     "metadata": {},
     "output_type": "execute_result"
    }
   ],
   "source": [
    "S2"
   ]
  },
  {
   "cell_type": "code",
   "execution_count": 93,
   "id": "bfe8b4f7-1999-4c85-951e-686427c38f3e",
   "metadata": {},
   "outputs": [
    {
     "data": {
      "text/plain": [
       "\u001b[1;31mSignature:\u001b[0m \u001b[0mS\u001b[0m\u001b[1;33m.\u001b[0m\u001b[0misdisjoint\u001b[0m\u001b[1;33m(\u001b[0m\u001b[0mother\u001b[0m\u001b[1;33m,\u001b[0m \u001b[1;33m/\u001b[0m\u001b[1;33m)\u001b[0m\u001b[1;33m\u001b[0m\u001b[1;33m\u001b[0m\u001b[0m\n",
       "\u001b[1;31mDocstring:\u001b[0m Return True if two sets have a null intersection.\n",
       "\u001b[1;31mType:\u001b[0m      builtin_function_or_method"
      ]
     },
     "metadata": {},
     "output_type": "display_data"
    }
   ],
   "source": [
    "S.isdisjoint?"
   ]
  },
  {
   "cell_type": "code",
   "execution_count": 94,
   "id": "0b13e8f8-a4b9-42ec-aaa1-3a9d830f1c10",
   "metadata": {},
   "outputs": [
    {
     "data": {
      "text/plain": [
       "True"
      ]
     },
     "execution_count": 94,
     "metadata": {},
     "output_type": "execute_result"
    }
   ],
   "source": [
    "S.isdisjoint(S2)"
   ]
  },
  {
   "cell_type": "code",
   "execution_count": 95,
   "id": "12dc3ff0-eef8-4435-907d-21f9348e566c",
   "metadata": {},
   "outputs": [
    {
     "data": {
      "text/plain": [
       "\u001b[1;31mSignature:\u001b[0m \u001b[0mS\u001b[0m\u001b[1;33m.\u001b[0m\u001b[0missubset\u001b[0m\u001b[1;33m(\u001b[0m\u001b[0mother\u001b[0m\u001b[1;33m,\u001b[0m \u001b[1;33m/\u001b[0m\u001b[1;33m)\u001b[0m\u001b[1;33m\u001b[0m\u001b[1;33m\u001b[0m\u001b[0m\n",
       "\u001b[1;31mDocstring:\u001b[0m Report whether another set contains this set.\n",
       "\u001b[1;31mType:\u001b[0m      builtin_function_or_method"
      ]
     },
     "metadata": {},
     "output_type": "display_data"
    }
   ],
   "source": [
    "S.issubset?"
   ]
  },
  {
   "cell_type": "code",
   "execution_count": 96,
   "id": "d43373da-d2dd-460b-87d3-314c1da6d705",
   "metadata": {},
   "outputs": [
    {
     "data": {
      "text/plain": [
       "{1, 3, 5}"
      ]
     },
     "execution_count": 96,
     "metadata": {},
     "output_type": "execute_result"
    }
   ],
   "source": [
    "S2"
   ]
  },
  {
   "cell_type": "code",
   "execution_count": 97,
   "id": "d5c3b72e-7502-4d19-ad90-f976c8988b48",
   "metadata": {},
   "outputs": [
    {
     "data": {
      "text/plain": [
       "{1, 3, 5, 7, 9}"
      ]
     },
     "execution_count": 97,
     "metadata": {},
     "output_type": "execute_result"
    }
   ],
   "source": [
    "S3"
   ]
  },
  {
   "cell_type": "code",
   "execution_count": 98,
   "id": "d556bd13-1a08-48f3-b2ba-824dc17be7ba",
   "metadata": {},
   "outputs": [
    {
     "data": {
      "text/plain": [
       "True"
      ]
     },
     "execution_count": 98,
     "metadata": {},
     "output_type": "execute_result"
    }
   ],
   "source": [
    "S2.issubset(S3)"
   ]
  },
  {
   "cell_type": "code",
   "execution_count": 99,
   "id": "06f751e4-1da3-47ea-84dc-9fcc353c0737",
   "metadata": {},
   "outputs": [
    {
     "data": {
      "text/plain": [
       "False"
      ]
     },
     "execution_count": 99,
     "metadata": {},
     "output_type": "execute_result"
    }
   ],
   "source": [
    "S.issubset(S3)"
   ]
  },
  {
   "cell_type": "code",
   "execution_count": 100,
   "id": "57401a70-d807-4fb1-b325-09582d0bafc1",
   "metadata": {},
   "outputs": [
    {
     "data": {
      "text/plain": [
       "\u001b[1;31mSignature:\u001b[0m \u001b[0mS\u001b[0m\u001b[1;33m.\u001b[0m\u001b[0missuperset\u001b[0m\u001b[1;33m(\u001b[0m\u001b[0mother\u001b[0m\u001b[1;33m,\u001b[0m \u001b[1;33m/\u001b[0m\u001b[1;33m)\u001b[0m\u001b[1;33m\u001b[0m\u001b[1;33m\u001b[0m\u001b[0m\n",
       "\u001b[1;31mDocstring:\u001b[0m Report whether this set contains another set.\n",
       "\u001b[1;31mType:\u001b[0m      builtin_function_or_method"
      ]
     },
     "metadata": {},
     "output_type": "display_data"
    }
   ],
   "source": [
    "S.issuperset?"
   ]
  },
  {
   "cell_type": "code",
   "execution_count": 101,
   "id": "1b536c78-e1d0-41a3-a341-1ef7c6c7eaa5",
   "metadata": {},
   "outputs": [
    {
     "data": {
      "text/plain": [
       "True"
      ]
     },
     "execution_count": 101,
     "metadata": {},
     "output_type": "execute_result"
    }
   ],
   "source": [
    "S3.issuperset(S2)"
   ]
  },
  {
   "cell_type": "code",
   "execution_count": 102,
   "id": "19158c0f-f106-4f3d-b879-f37803b4ef5e",
   "metadata": {},
   "outputs": [
    {
     "data": {
      "text/plain": [
       "False"
      ]
     },
     "execution_count": 102,
     "metadata": {},
     "output_type": "execute_result"
    }
   ],
   "source": [
    "S2.issuperset(S3)"
   ]
  },
  {
   "cell_type": "code",
   "execution_count": 103,
   "id": "c1bf4f81-c996-4596-adec-8568f09756b2",
   "metadata": {},
   "outputs": [
    {
     "data": {
      "text/plain": [
       "\u001b[1;31mSignature:\u001b[0m \u001b[0mS\u001b[0m\u001b[1;33m.\u001b[0m\u001b[0mpop\u001b[0m\u001b[1;33m(\u001b[0m\u001b[1;33m)\u001b[0m\u001b[1;33m\u001b[0m\u001b[1;33m\u001b[0m\u001b[0m\n",
       "\u001b[1;31mDocstring:\u001b[0m\n",
       "Remove and return an arbitrary set element.\n",
       "\n",
       "Raises KeyError if the set is empty.\n",
       "\u001b[1;31mType:\u001b[0m      builtin_function_or_method"
      ]
     },
     "metadata": {},
     "output_type": "display_data"
    }
   ],
   "source": [
    "S.pop?"
   ]
  },
  {
   "cell_type": "code",
   "execution_count": 106,
   "id": "c15f8597-b38e-4971-a230-5d2477ef766f",
   "metadata": {},
   "outputs": [
    {
     "data": {
      "text/plain": [
       "1"
      ]
     },
     "execution_count": 106,
     "metadata": {},
     "output_type": "execute_result"
    }
   ],
   "source": [
    "S3.pop()"
   ]
  },
  {
   "cell_type": "code",
   "execution_count": 107,
   "id": "496f766d-ec0a-45ed-b700-b9d1f93c4dcf",
   "metadata": {},
   "outputs": [
    {
     "data": {
      "text/plain": [
       "{3, 5, 7, 9}"
      ]
     },
     "execution_count": 107,
     "metadata": {},
     "output_type": "execute_result"
    }
   ],
   "source": [
    "S3"
   ]
  },
  {
   "cell_type": "code",
   "execution_count": 108,
   "id": "009a8dee-9917-4dfc-b232-1cc49cd2ebf5",
   "metadata": {},
   "outputs": [
    {
     "data": {
      "text/plain": [
       "\u001b[1;31mSignature:\u001b[0m \u001b[0mS\u001b[0m\u001b[1;33m.\u001b[0m\u001b[0mremove\u001b[0m\u001b[1;33m(\u001b[0m\u001b[0mobject\u001b[0m\u001b[1;33m,\u001b[0m \u001b[1;33m/\u001b[0m\u001b[1;33m)\u001b[0m\u001b[1;33m\u001b[0m\u001b[1;33m\u001b[0m\u001b[0m\n",
       "\u001b[1;31mDocstring:\u001b[0m\n",
       "Remove an element from a set; it must be a member.\n",
       "\n",
       "If the element is not a member, raise a KeyError.\n",
       "\u001b[1;31mType:\u001b[0m      builtin_function_or_method"
      ]
     },
     "metadata": {},
     "output_type": "display_data"
    }
   ],
   "source": [
    "S.remove?"
   ]
  },
  {
   "cell_type": "code",
   "execution_count": 109,
   "id": "3e632076-85e8-42f1-b54b-31da0aabe03a",
   "metadata": {},
   "outputs": [
    {
     "data": {
      "text/plain": [
       "\u001b[1;31mSignature:\u001b[0m \u001b[0mS\u001b[0m\u001b[1;33m.\u001b[0m\u001b[0msymmetric_difference\u001b[0m\u001b[1;33m(\u001b[0m\u001b[0mother\u001b[0m\u001b[1;33m,\u001b[0m \u001b[1;33m/\u001b[0m\u001b[1;33m)\u001b[0m\u001b[1;33m\u001b[0m\u001b[1;33m\u001b[0m\u001b[0m\n",
       "\u001b[1;31mDocstring:\u001b[0m Return a new set with elements in either the set or other but not both.\n",
       "\u001b[1;31mType:\u001b[0m      builtin_function_or_method"
      ]
     },
     "metadata": {},
     "output_type": "display_data"
    }
   ],
   "source": [
    "S.symmetric_difference?"
   ]
  },
  {
   "cell_type": "code",
   "execution_count": 111,
   "id": "d8d2eaf3-0369-407b-a093-fafa652477d0",
   "metadata": {},
   "outputs": [
    {
     "data": {
      "text/plain": [
       "{1, 3, 5}"
      ]
     },
     "execution_count": 111,
     "metadata": {},
     "output_type": "execute_result"
    }
   ],
   "source": [
    "S2"
   ]
  },
  {
   "cell_type": "code",
   "execution_count": 112,
   "id": "23194ffa-e41e-4155-83cd-513ab58d7348",
   "metadata": {},
   "outputs": [
    {
     "data": {
      "text/plain": [
       "{3, 5, 7, 9}"
      ]
     },
     "execution_count": 112,
     "metadata": {},
     "output_type": "execute_result"
    }
   ],
   "source": [
    "S3"
   ]
  },
  {
   "cell_type": "code",
   "execution_count": 110,
   "id": "45dbc0b8-529b-4f22-918a-fbd8e0797a7e",
   "metadata": {},
   "outputs": [
    {
     "data": {
      "text/plain": [
       "{1, 7, 9}"
      ]
     },
     "execution_count": 110,
     "metadata": {},
     "output_type": "execute_result"
    }
   ],
   "source": [
    "S3.symmetric_difference(S2)"
   ]
  },
  {
   "cell_type": "markdown",
   "id": "22b6b921-9a0d-41ae-bf77-941e0100393a",
   "metadata": {},
   "source": [
    "it returns **everything that's not common** between the two sets."
   ]
  },
  {
   "cell_type": "code",
   "execution_count": 113,
   "id": "f53e96dc-bfe1-43ab-ac27-e4165203d963",
   "metadata": {},
   "outputs": [
    {
     "data": {
      "text/plain": [
       "\u001b[1;31mSignature:\u001b[0m \u001b[0mS\u001b[0m\u001b[1;33m.\u001b[0m\u001b[0msymmetric_difference_update\u001b[0m\u001b[1;33m(\u001b[0m\u001b[0mother\u001b[0m\u001b[1;33m,\u001b[0m \u001b[1;33m/\u001b[0m\u001b[1;33m)\u001b[0m\u001b[1;33m\u001b[0m\u001b[1;33m\u001b[0m\u001b[0m\n",
       "\u001b[1;31mDocstring:\u001b[0m Update the set, keeping only elements found in either set, but not in both.\n",
       "\u001b[1;31mType:\u001b[0m      builtin_function_or_method"
      ]
     },
     "metadata": {},
     "output_type": "display_data"
    }
   ],
   "source": [
    "S.symmetric_difference_update?"
   ]
  },
  {
   "cell_type": "code",
   "execution_count": 114,
   "id": "5ad34403-ef84-4e9f-a040-b1fe7482dc91",
   "metadata": {},
   "outputs": [
    {
     "data": {
      "text/plain": [
       "\u001b[1;31mSignature:\u001b[0m \u001b[0mS\u001b[0m\u001b[1;33m.\u001b[0m\u001b[0munion\u001b[0m\u001b[1;33m(\u001b[0m\u001b[1;33m*\u001b[0m\u001b[0mothers\u001b[0m\u001b[1;33m)\u001b[0m\u001b[1;33m\u001b[0m\u001b[1;33m\u001b[0m\u001b[0m\n",
       "\u001b[1;31mDocstring:\u001b[0m Return a new set with elements from the set and all others.\n",
       "\u001b[1;31mType:\u001b[0m      builtin_function_or_method"
      ]
     },
     "metadata": {},
     "output_type": "display_data"
    }
   ],
   "source": [
    "S.union?"
   ]
  },
  {
   "cell_type": "code",
   "execution_count": 117,
   "id": "181c24f8-aeed-41b9-a7f2-a48c62e550ab",
   "metadata": {},
   "outputs": [],
   "source": [
    "S4 = S2.union(S3)"
   ]
  },
  {
   "cell_type": "code",
   "execution_count": 118,
   "id": "ab1e3719-288a-4004-8a0e-a8d347be0f2f",
   "metadata": {},
   "outputs": [
    {
     "data": {
      "text/plain": [
       "{1, 3, 5, 7, 9}"
      ]
     },
     "execution_count": 118,
     "metadata": {},
     "output_type": "execute_result"
    }
   ],
   "source": [
    "S4"
   ]
  },
  {
   "cell_type": "code",
   "execution_count": 116,
   "id": "aa195431-0e71-4d74-8925-25eb0aa5f302",
   "metadata": {},
   "outputs": [
    {
     "data": {
      "text/plain": [
       "\u001b[1;31mSignature:\u001b[0m \u001b[0mS\u001b[0m\u001b[1;33m.\u001b[0m\u001b[0mupdate\u001b[0m\u001b[1;33m(\u001b[0m\u001b[1;33m*\u001b[0m\u001b[0mothers\u001b[0m\u001b[1;33m)\u001b[0m\u001b[1;33m\u001b[0m\u001b[1;33m\u001b[0m\u001b[0m\n",
       "\u001b[1;31mDocstring:\u001b[0m Update the set, adding elements from all others.\n",
       "\u001b[1;31mType:\u001b[0m      builtin_function_or_method"
      ]
     },
     "metadata": {},
     "output_type": "display_data"
    }
   ],
   "source": [
    "S.update?"
   ]
  },
  {
   "cell_type": "code",
   "execution_count": 119,
   "id": "11c11327-6e6e-4243-b3db-34ddba041f4c",
   "metadata": {},
   "outputs": [],
   "source": [
    "S.update(S4)"
   ]
  },
  {
   "cell_type": "code",
   "execution_count": 120,
   "id": "0137da95-8af5-4b56-8605-c86f457df1d4",
   "metadata": {},
   "outputs": [
    {
     "data": {
      "text/plain": [
       "{1, 3, 4.9, 5, 7, 9, 'moon'}"
      ]
     },
     "execution_count": 120,
     "metadata": {},
     "output_type": "execute_result"
    }
   ],
   "source": [
    "S"
   ]
  },
  {
   "cell_type": "markdown",
   "id": "51a95c27-dd7c-4542-8d2e-78d43abd2481",
   "metadata": {},
   "source": [
    "## Dictionary Methods"
   ]
  },
  {
   "cell_type": "code",
   "execution_count": 121,
   "id": "69b2197c-1166-486e-b62a-8da0551bece5",
   "metadata": {},
   "outputs": [
    {
     "data": {
      "text/plain": [
       "\u001b[1;31mSignature:\u001b[0m \u001b[0mD\u001b[0m\u001b[1;33m.\u001b[0m\u001b[0mclear\u001b[0m\u001b[1;33m(\u001b[0m\u001b[1;33m)\u001b[0m\u001b[1;33m\u001b[0m\u001b[1;33m\u001b[0m\u001b[0m\n",
       "\u001b[1;31mDocstring:\u001b[0m Remove all items from the dict.\n",
       "\u001b[1;31mType:\u001b[0m      builtin_function_or_method"
      ]
     },
     "metadata": {},
     "output_type": "display_data"
    }
   ],
   "source": [
    "D.clear?"
   ]
  },
  {
   "cell_type": "code",
   "execution_count": 122,
   "id": "8cbbe2bc-060b-4643-bffa-28a9328ec715",
   "metadata": {},
   "outputs": [
    {
     "data": {
      "text/plain": [
       "\u001b[1;31mSignature:\u001b[0m \u001b[0mD\u001b[0m\u001b[1;33m.\u001b[0m\u001b[0mcopy\u001b[0m\u001b[1;33m(\u001b[0m\u001b[1;33m)\u001b[0m\u001b[1;33m\u001b[0m\u001b[1;33m\u001b[0m\u001b[0m\n",
       "\u001b[1;31mDocstring:\u001b[0m Return a shallow copy of the dict.\n",
       "\u001b[1;31mType:\u001b[0m      builtin_function_or_method"
      ]
     },
     "metadata": {},
     "output_type": "display_data"
    }
   ],
   "source": [
    "D.copy?"
   ]
  },
  {
   "cell_type": "code",
   "execution_count": 125,
   "id": "dfa4f4d7-eef7-4b42-9d21-e280b285d70f",
   "metadata": {},
   "outputs": [
    {
     "data": {
      "text/plain": [
       "{23: 'twentythree', 'B': 10, 'C': 'CCD'}"
      ]
     },
     "execution_count": 125,
     "metadata": {},
     "output_type": "execute_result"
    }
   ],
   "source": [
    "D"
   ]
  },
  {
   "cell_type": "code",
   "execution_count": 123,
   "id": "692de9e1-83ff-44e4-9936-18300df616af",
   "metadata": {},
   "outputs": [],
   "source": [
    "D3 = D.copy()"
   ]
  },
  {
   "cell_type": "code",
   "execution_count": 124,
   "id": "7f154170-5eb4-4edf-ae9d-57187d961d83",
   "metadata": {},
   "outputs": [
    {
     "data": {
      "text/plain": [
       "{23: 'twentythree', 'B': 10, 'C': 'CCD'}"
      ]
     },
     "execution_count": 124,
     "metadata": {},
     "output_type": "execute_result"
    }
   ],
   "source": [
    "D3"
   ]
  },
  {
   "cell_type": "code",
   "execution_count": 126,
   "id": "7b2c9f18-36b4-439c-8723-e2852c3b3c81",
   "metadata": {},
   "outputs": [
    {
     "data": {
      "text/plain": [
       "\u001b[1;31mSignature:\u001b[0m \u001b[0mD\u001b[0m\u001b[1;33m.\u001b[0m\u001b[0mfromkeys\u001b[0m\u001b[1;33m(\u001b[0m\u001b[0miterable\u001b[0m\u001b[1;33m,\u001b[0m \u001b[0mvalue\u001b[0m\u001b[1;33m=\u001b[0m\u001b[1;32mNone\u001b[0m\u001b[1;33m,\u001b[0m \u001b[1;33m/\u001b[0m\u001b[1;33m)\u001b[0m\u001b[1;33m\u001b[0m\u001b[1;33m\u001b[0m\u001b[0m\n",
       "\u001b[1;31mDocstring:\u001b[0m Create a new dictionary with keys from iterable and values set to value.\n",
       "\u001b[1;31mType:\u001b[0m      builtin_function_or_method"
      ]
     },
     "metadata": {},
     "output_type": "display_data"
    }
   ],
   "source": [
    "D.fromkeys?"
   ]
  },
  {
   "cell_type": "markdown",
   "id": "060bf8fa-590a-40e4-a974-b3bd6f86aadd",
   "metadata": {},
   "source": [
    "`dict.fromkeys(keys, value)`\n"
   ]
  },
  {
   "cell_type": "markdown",
   "id": "a20dd9a4-8e1d-45e0-a8ff-5f345b7eefe1",
   "metadata": {},
   "source": [
    "- `dict` is the built-in Python **class**"
   ]
  },
  {
   "cell_type": "code",
   "execution_count": 128,
   "id": "512b4c45-3259-4f24-9592-94ab9d89af57",
   "metadata": {},
   "outputs": [
    {
     "name": "stdout",
     "output_type": "stream",
     "text": [
      "<class 'dict'>\n"
     ]
    }
   ],
   "source": [
    "print(type(D))"
   ]
  },
  {
   "cell_type": "markdown",
   "id": "e67142fe-cd64-4b17-899a-64817e93a1e2",
   "metadata": {},
   "source": [
    "- **keys** → A sequence (List,String,Tuple) of keys\n",
    "- **value** (optional) → the value(**same**) to assign to all keys (default is **None**)"
   ]
  },
  {
   "cell_type": "code",
   "execution_count": 129,
   "id": "8558b324-9fe5-4729-953b-f79b2c87a445",
   "metadata": {},
   "outputs": [
    {
     "data": {
      "text/plain": [
       "{'A': None, 'B': None, 'C': None, 'D': None}"
      ]
     },
     "execution_count": 129,
     "metadata": {},
     "output_type": "execute_result"
    }
   ],
   "source": [
    "X = ('A','B','C','D')\n",
    "dict.fromkeys(X)"
   ]
  },
  {
   "cell_type": "code",
   "execution_count": 130,
   "id": "6b60252e-d1c9-4b82-b4dd-b177ea962fee",
   "metadata": {},
   "outputs": [
    {
     "data": {
      "text/plain": [
       "{'one': 0, 'two': 0, 'three': 0}"
      ]
     },
     "execution_count": 130,
     "metadata": {},
     "output_type": "execute_result"
    }
   ],
   "source": [
    "Y=['one','two','three']\n",
    "dict.fromkeys(Y,0)"
   ]
  },
  {
   "cell_type": "code",
   "execution_count": 132,
   "id": "fae146bf-9035-4677-aee0-4ab5dbbb3a4c",
   "metadata": {},
   "outputs": [
    {
     "data": {
      "text/plain": [
       "{'one': [1, 2, 3], 'two': [1, 2, 3], 'three': [1, 2, 3]}"
      ]
     },
     "execution_count": 132,
     "metadata": {},
     "output_type": "execute_result"
    }
   ],
   "source": [
    "dict.fromkeys(Y,[1,2,3])"
   ]
  },
  {
   "cell_type": "code",
   "execution_count": 133,
   "id": "afddc8cc-9df0-497d-8dd1-0c0f04427ef0",
   "metadata": {},
   "outputs": [
    {
     "data": {
      "text/plain": [
       "\u001b[1;31mSignature:\u001b[0m \u001b[0mD\u001b[0m\u001b[1;33m.\u001b[0m\u001b[0mget\u001b[0m\u001b[1;33m(\u001b[0m\u001b[0mkey\u001b[0m\u001b[1;33m,\u001b[0m \u001b[0mdefault\u001b[0m\u001b[1;33m=\u001b[0m\u001b[1;32mNone\u001b[0m\u001b[1;33m,\u001b[0m \u001b[1;33m/\u001b[0m\u001b[1;33m)\u001b[0m\u001b[1;33m\u001b[0m\u001b[1;33m\u001b[0m\u001b[0m\n",
       "\u001b[1;31mDocstring:\u001b[0m Return the value for key if key is in the dictionary, else default.\n",
       "\u001b[1;31mType:\u001b[0m      builtin_function_or_method"
      ]
     },
     "metadata": {},
     "output_type": "display_data"
    }
   ],
   "source": [
    "D.get?"
   ]
  },
  {
   "cell_type": "code",
   "execution_count": 134,
   "id": "71fc7873-0f19-4708-a652-71005b9f5270",
   "metadata": {},
   "outputs": [
    {
     "data": {
      "text/plain": [
       "10"
      ]
     },
     "execution_count": 134,
     "metadata": {},
     "output_type": "execute_result"
    }
   ],
   "source": [
    "D.get('B')"
   ]
  },
  {
   "cell_type": "code",
   "execution_count": 135,
   "id": "b0020649-ee62-492e-ae14-d2848ae1e42b",
   "metadata": {},
   "outputs": [
    {
     "data": {
      "text/plain": [
       "\u001b[1;31mSignature:\u001b[0m \u001b[0mD\u001b[0m\u001b[1;33m.\u001b[0m\u001b[0mitems\u001b[0m\u001b[1;33m(\u001b[0m\u001b[1;33m)\u001b[0m\u001b[1;33m\u001b[0m\u001b[1;33m\u001b[0m\u001b[0m\n",
       "\u001b[1;31mDocstring:\u001b[0m Return a set-like object providing a view on the dict's items.\n",
       "\u001b[1;31mType:\u001b[0m      builtin_function_or_method"
      ]
     },
     "metadata": {},
     "output_type": "display_data"
    }
   ],
   "source": [
    "D.items?"
   ]
  },
  {
   "cell_type": "code",
   "execution_count": 139,
   "id": "99778f66-b258-4cf7-9982-ce2b43c3bfa1",
   "metadata": {},
   "outputs": [
    {
     "data": {
      "text/plain": [
       "dict_items([(23, 'twentythree'), ('B', 10), ('C', 'CCD')])"
      ]
     },
     "execution_count": 139,
     "metadata": {},
     "output_type": "execute_result"
    }
   ],
   "source": [
    "D.items()"
   ]
  },
  {
   "cell_type": "code",
   "execution_count": 140,
   "id": "143a5c4e-18f7-4ecc-896f-5fb740b4e848",
   "metadata": {},
   "outputs": [
    {
     "data": {
      "text/plain": [
       "\u001b[1;31mSignature:\u001b[0m \u001b[0mD\u001b[0m\u001b[1;33m.\u001b[0m\u001b[0mkeys\u001b[0m\u001b[1;33m(\u001b[0m\u001b[1;33m)\u001b[0m\u001b[1;33m\u001b[0m\u001b[1;33m\u001b[0m\u001b[0m\n",
       "\u001b[1;31mDocstring:\u001b[0m Return a set-like object providing a view on the dict's keys.\n",
       "\u001b[1;31mType:\u001b[0m      builtin_function_or_method"
      ]
     },
     "metadata": {},
     "output_type": "display_data"
    }
   ],
   "source": [
    "D.keys?"
   ]
  },
  {
   "cell_type": "code",
   "execution_count": 141,
   "id": "264f1f2f-bab2-4a6e-b6d3-ace5e4c476d7",
   "metadata": {},
   "outputs": [
    {
     "data": {
      "text/plain": [
       "dict_keys([23, 'B', 'C'])"
      ]
     },
     "execution_count": 141,
     "metadata": {},
     "output_type": "execute_result"
    }
   ],
   "source": [
    "D.keys()"
   ]
  },
  {
   "cell_type": "code",
   "execution_count": 151,
   "id": "2fb6dbca-1412-43e4-b83c-0c1400a90600",
   "metadata": {},
   "outputs": [
    {
     "data": {
      "text/plain": [
       "\u001b[1;31mSignature:\u001b[0m \u001b[0mD\u001b[0m\u001b[1;33m.\u001b[0m\u001b[0mvalues\u001b[0m\u001b[1;33m(\u001b[0m\u001b[1;33m)\u001b[0m\u001b[1;33m\u001b[0m\u001b[1;33m\u001b[0m\u001b[0m\n",
       "\u001b[1;31mDocstring:\u001b[0m Return an object providing a view on the dict's values.\n",
       "\u001b[1;31mType:\u001b[0m      builtin_function_or_method"
      ]
     },
     "metadata": {},
     "output_type": "display_data"
    }
   ],
   "source": [
    "D.values?"
   ]
  },
  {
   "cell_type": "code",
   "execution_count": 152,
   "id": "7bfe2f16-b002-436f-a9c9-fc2be6a674a3",
   "metadata": {},
   "outputs": [
    {
     "data": {
      "text/plain": [
       "dict_values(['twentythree', 10, None])"
      ]
     },
     "execution_count": 152,
     "metadata": {},
     "output_type": "execute_result"
    }
   ],
   "source": [
    "D.values()"
   ]
  },
  {
   "cell_type": "code",
   "execution_count": 142,
   "id": "bf30c2cd-255c-4b40-adf5-30d5a1662f1d",
   "metadata": {},
   "outputs": [
    {
     "data": {
      "text/plain": [
       "\u001b[1;31mDocstring:\u001b[0m\n",
       "D.pop(k[,d]) -> v, remove specified key and return the corresponding value.\n",
       "\n",
       "If the key is not found, return the default if given; otherwise,\n",
       "raise a KeyError.\n",
       "\u001b[1;31mType:\u001b[0m      builtin_function_or_method"
      ]
     },
     "metadata": {},
     "output_type": "display_data"
    }
   ],
   "source": [
    "D.pop?"
   ]
  },
  {
   "cell_type": "code",
   "execution_count": 144,
   "id": "759cba8d-4806-45cc-a800-32ad823ba863",
   "metadata": {},
   "outputs": [
    {
     "data": {
      "text/plain": [
       "'CCD'"
      ]
     },
     "execution_count": 144,
     "metadata": {},
     "output_type": "execute_result"
    }
   ],
   "source": [
    "D.pop('C')"
   ]
  },
  {
   "cell_type": "code",
   "execution_count": 143,
   "id": "42f01f17-f0c0-4a53-8480-e34c8d195fae",
   "metadata": {},
   "outputs": [
    {
     "data": {
      "text/plain": [
       "\u001b[1;31mSignature:\u001b[0m \u001b[0mD\u001b[0m\u001b[1;33m.\u001b[0m\u001b[0mpopitem\u001b[0m\u001b[1;33m(\u001b[0m\u001b[1;33m)\u001b[0m\u001b[1;33m\u001b[0m\u001b[1;33m\u001b[0m\u001b[0m\n",
       "\u001b[1;31mDocstring:\u001b[0m\n",
       "Remove and return a (key, value) pair as a 2-tuple.\n",
       "\n",
       "Pairs are returned in LIFO (last-in, first-out) order.\n",
       "Raises KeyError if the dict is empty.\n",
       "\u001b[1;31mType:\u001b[0m      builtin_function_or_method"
      ]
     },
     "metadata": {},
     "output_type": "display_data"
    }
   ],
   "source": [
    "D.popitem?"
   ]
  },
  {
   "cell_type": "code",
   "execution_count": 145,
   "id": "d5d56485-c6b3-46f3-b13f-e5606681ee8b",
   "metadata": {},
   "outputs": [
    {
     "data": {
      "text/plain": [
       "('z', 10)"
      ]
     },
     "execution_count": 145,
     "metadata": {},
     "output_type": "execute_result"
    }
   ],
   "source": [
    "D2.popitem()"
   ]
  },
  {
   "cell_type": "code",
   "execution_count": 146,
   "id": "7fca1ba4-51d0-4d79-81e4-bb538379739c",
   "metadata": {},
   "outputs": [
    {
     "data": {
      "text/plain": [
       "{'y': 'yy'}"
      ]
     },
     "execution_count": 146,
     "metadata": {},
     "output_type": "execute_result"
    }
   ],
   "source": [
    "D2"
   ]
  },
  {
   "cell_type": "code",
   "execution_count": 147,
   "id": "a4942e63-8b73-4a12-b2cd-3d75b6f80307",
   "metadata": {},
   "outputs": [
    {
     "data": {
      "text/plain": [
       "\u001b[1;31mSignature:\u001b[0m \u001b[0mD\u001b[0m\u001b[1;33m.\u001b[0m\u001b[0msetdefault\u001b[0m\u001b[1;33m(\u001b[0m\u001b[0mkey\u001b[0m\u001b[1;33m,\u001b[0m \u001b[0mdefault\u001b[0m\u001b[1;33m=\u001b[0m\u001b[1;32mNone\u001b[0m\u001b[1;33m,\u001b[0m \u001b[1;33m/\u001b[0m\u001b[1;33m)\u001b[0m\u001b[1;33m\u001b[0m\u001b[1;33m\u001b[0m\u001b[0m\n",
       "\u001b[1;31mDocstring:\u001b[0m\n",
       "Insert key with a value of default if key is not in the dictionary.\n",
       "\n",
       "Return the value for key if key is in the dictionary, else default.\n",
       "\u001b[1;31mType:\u001b[0m      builtin_function_or_method"
      ]
     },
     "metadata": {},
     "output_type": "display_data"
    }
   ],
   "source": [
    "D.setdefault?"
   ]
  },
  {
   "cell_type": "code",
   "execution_count": 148,
   "id": "962231c1-6100-43d5-9667-3504b7c5caa1",
   "metadata": {},
   "outputs": [],
   "source": [
    "D.setdefault('Two')"
   ]
  },
  {
   "cell_type": "code",
   "execution_count": 149,
   "id": "aa5915ad-53dc-4486-af03-372172a5a770",
   "metadata": {},
   "outputs": [
    {
     "data": {
      "text/plain": [
       "{23: 'twentythree', 'B': 10, 'Two': None}"
      ]
     },
     "execution_count": 149,
     "metadata": {},
     "output_type": "execute_result"
    }
   ],
   "source": [
    "D"
   ]
  },
  {
   "cell_type": "code",
   "execution_count": 150,
   "id": "012b798c-8b3b-4b88-906d-f4cfb78bcd92",
   "metadata": {},
   "outputs": [
    {
     "data": {
      "text/plain": [
       "\u001b[1;31mDocstring:\u001b[0m\n",
       "D.update([E, ]**F) -> None.  Update D from mapping/iterable E and F.\n",
       "If E is present and has a .keys() method, then does:  for k in E.keys(): D[k] = E[k]\n",
       "If E is present and lacks a .keys() method, then does:  for k, v in E: D[k] = v\n",
       "In either case, this is followed by: for k in F:  D[k] = F[k]\n",
       "\u001b[1;31mType:\u001b[0m      builtin_function_or_method"
      ]
     },
     "metadata": {},
     "output_type": "display_data"
    }
   ],
   "source": [
    "D.update?"
   ]
  },
  {
   "cell_type": "code",
   "execution_count": 153,
   "id": "72af8ba7-56e1-4166-bae7-85058c5f3fe0",
   "metadata": {},
   "outputs": [],
   "source": [
    "D.update({'D':'dict'})"
   ]
  },
  {
   "cell_type": "code",
   "execution_count": 154,
   "id": "2719d5e7-60ac-4da7-b1d5-2104ddc2403b",
   "metadata": {},
   "outputs": [
    {
     "data": {
      "text/plain": [
       "{23: 'twentythree', 'B': 10, 'Two': None, 'D': 'dict'}"
      ]
     },
     "execution_count": 154,
     "metadata": {},
     "output_type": "execute_result"
    }
   ],
   "source": [
    "D"
   ]
  },
  {
   "cell_type": "markdown",
   "id": "65598478-625d-4303-9004-d5d6d1fd41e7",
   "metadata": {},
   "source": [
    "## Abstract"
   ]
  },
  {
   "cell_type": "code",
   "execution_count": 155,
   "id": "0cc7612c-6e38-4f90-b776-afa40747c2b7",
   "metadata": {},
   "outputs": [],
   "source": [
    "l = [1,2,3,\"moon\",4.9,3]\n",
    "t = (1,2,3,\"moon\",4.9,3)\n",
    "s = {1,2,3,\"moon\",4.9,3}\n",
    "d = {23: \"twentythree\", 'B':10, 'C':'CCD', 'B':10}"
   ]
  },
  {
   "cell_type": "code",
   "execution_count": 156,
   "id": "f1ccb46c-911a-4cbe-b4ec-4f90a99edfb2",
   "metadata": {},
   "outputs": [],
   "source": [
    "d2 = {'a':l,'b':t,'c':s,'d':d}"
   ]
  },
  {
   "cell_type": "code",
   "execution_count": 158,
   "id": "8de8d6d1-f2f7-4fbe-bc0c-3f876f61bc50",
   "metadata": {},
   "outputs": [
    {
     "data": {
      "text/plain": [
       "[1, 2, 3, 'moon', 4.9, 3]"
      ]
     },
     "execution_count": 158,
     "metadata": {},
     "output_type": "execute_result"
    }
   ],
   "source": [
    "d2['a']"
   ]
  },
  {
   "cell_type": "code",
   "execution_count": 159,
   "id": "36548bb4-e3d4-433b-bdd2-bc1e00a6b07f",
   "metadata": {},
   "outputs": [
    {
     "data": {
      "text/plain": [
       "'moon'"
      ]
     },
     "execution_count": 159,
     "metadata": {},
     "output_type": "execute_result"
    }
   ],
   "source": [
    "d2['a'][3] # access the 3rd element of 1st key"
   ]
  },
  {
   "cell_type": "code",
   "execution_count": 160,
   "id": "9ec467d9-2bfe-462d-8be5-b9454ac00589",
   "metadata": {},
   "outputs": [],
   "source": [
    "k = d2['d']"
   ]
  },
  {
   "cell_type": "code",
   "execution_count": 161,
   "id": "b9a703f8-5f81-414f-9004-22885eccfae7",
   "metadata": {},
   "outputs": [
    {
     "data": {
      "text/plain": [
       "{23: 'twentythree', 'B': 10, 'C': 'CCD'}"
      ]
     },
     "execution_count": 161,
     "metadata": {},
     "output_type": "execute_result"
    }
   ],
   "source": [
    "k"
   ]
  },
  {
   "cell_type": "code",
   "execution_count": 162,
   "id": "7d7c2b54-695f-4914-a8fe-251021462092",
   "metadata": {},
   "outputs": [
    {
     "name": "stdout",
     "output_type": "stream",
     "text": [
      "23 twentythree\n",
      "B 10\n",
      "C CCD\n"
     ]
    }
   ],
   "source": [
    "for x in k:\n",
    "    print(x,k[x])"
   ]
  },
  {
   "cell_type": "code",
   "execution_count": 165,
   "id": "f838e693-abe1-4789-bf5f-7dcab18c3710",
   "metadata": {},
   "outputs": [],
   "source": [
    "l2 = [l,t,s,d, 'hello']"
   ]
  },
  {
   "cell_type": "code",
   "execution_count": 166,
   "id": "e19236e9-ddeb-4a13-9071-65adf8487804",
   "metadata": {},
   "outputs": [
    {
     "data": {
      "text/plain": [
       "[[1, 2, 3, 'moon', 4.9, 3],\n",
       " (1, 2, 3, 'moon', 4.9, 3),\n",
       " {1, 2, 3, 4.9, 'moon'},\n",
       " {23: 'twentythree', 'B': 10, 'C': 'CCD'},\n",
       " 'hello']"
      ]
     },
     "execution_count": 166,
     "metadata": {},
     "output_type": "execute_result"
    }
   ],
   "source": [
    "l2"
   ]
  },
  {
   "cell_type": "code",
   "execution_count": 170,
   "id": "26d6b5e9-9c9a-4e5b-b061-fd36a6b6720f",
   "metadata": {},
   "outputs": [
    {
     "data": {
      "text/plain": [
       "dict"
      ]
     },
     "execution_count": 170,
     "metadata": {},
     "output_type": "execute_result"
    }
   ],
   "source": [
    "type(l2[3])"
   ]
  },
  {
   "cell_type": "code",
   "execution_count": 171,
   "id": "d6fb80a9-0790-4687-9537-3e8abb4a30b6",
   "metadata": {},
   "outputs": [
    {
     "data": {
      "text/plain": [
       "list"
      ]
     },
     "execution_count": 171,
     "metadata": {},
     "output_type": "execute_result"
    }
   ],
   "source": [
    "type(l2[0])"
   ]
  },
  {
   "cell_type": "code",
   "execution_count": 172,
   "id": "2dbed117-4b44-406d-8e65-b0a6b8ab16a7",
   "metadata": {},
   "outputs": [
    {
     "data": {
      "text/plain": [
       "tuple"
      ]
     },
     "execution_count": 172,
     "metadata": {},
     "output_type": "execute_result"
    }
   ],
   "source": [
    "type(l2[1])"
   ]
  },
  {
   "cell_type": "code",
   "execution_count": 173,
   "id": "e0170a30-36ea-49ab-8d65-44523285a70a",
   "metadata": {},
   "outputs": [
    {
     "data": {
      "text/plain": [
       "set"
      ]
     },
     "execution_count": 173,
     "metadata": {},
     "output_type": "execute_result"
    }
   ],
   "source": [
    "type(l2[2])"
   ]
  }
 ],
 "metadata": {
  "kernelspec": {
   "display_name": "Python 3 (ipykernel)",
   "language": "python",
   "name": "python3"
  },
  "language_info": {
   "codemirror_mode": {
    "name": "ipython",
    "version": 3
   },
   "file_extension": ".py",
   "mimetype": "text/x-python",
   "name": "python",
   "nbconvert_exporter": "python",
   "pygments_lexer": "ipython3",
   "version": "3.13.5"
  }
 },
 "nbformat": 4,
 "nbformat_minor": 5
}
