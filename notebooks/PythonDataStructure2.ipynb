{
 "cells": [
  {
   "cell_type": "markdown",
   "id": "9de77881-7275-402b-af90-82bb9876a473",
   "metadata": {},
   "source": [
    "## List Comprehension"
   ]
  },
  {
   "cell_type": "markdown",
   "id": "197748f9-4641-4a15-9fcb-fcd727b65f52",
   "metadata": {},
   "source": [
    "- A **shorter and cleaner way** to create lists in Python\n",
    "- Compact & easier to read than traditional loop\n",
    "- **Basic Syntax** `[expression for value in iterable if condition]`\n",
    "- `expression` → What you need to store in the list\n",
    "- `value` → the variable name for each element in the iterable (like a loop variable)\n",
    "- `iterable` → something you can loop through (like a list or range())"
   ]
  },
  {
   "cell_type": "markdown",
   "id": "c56e19db-0f21-4ebc-9ae1-a127547da3b8",
   "metadata": {},
   "source": [
    "➡️Generate a List of Numbers from 1 to 10"
   ]
  },
  {
   "cell_type": "code",
   "execution_count": 21,
   "id": "caad129a-f56d-4175-bfd2-c977b24ec539",
   "metadata": {},
   "outputs": [
    {
     "name": "stdout",
     "output_type": "stream",
     "text": [
      "[1, 2, 3, 4, 5, 6, 7, 8, 9, 10]\n"
     ]
    }
   ],
   "source": [
    "''' traditional loop '''\n",
    "L = []\n",
    "for x in range(1,11):\n",
    "    L.append(x)\n",
    "print(L)"
   ]
  },
  {
   "cell_type": "code",
   "execution_count": 22,
   "id": "ca47f8fc-352c-481b-a194-dd79ba423f6e",
   "metadata": {},
   "outputs": [],
   "source": [
    "''' List Comprehension '''\n",
    "L1 = [x for x in range(1,11)]"
   ]
  },
  {
   "cell_type": "code",
   "execution_count": 10,
   "id": "ca38fa2d-af56-4754-a69c-04be1fccf1aa",
   "metadata": {},
   "outputs": [
    {
     "data": {
      "text/plain": [
       "[1, 2, 3, 4, 5, 6, 7, 8, 9, 10]"
      ]
     },
     "execution_count": 10,
     "metadata": {},
     "output_type": "execute_result"
    }
   ],
   "source": [
    "L1"
   ]
  },
  {
   "cell_type": "markdown",
   "id": "7e119eb5-fa03-435a-991f-629e2eaac353",
   "metadata": {},
   "source": [
    "➡️ Squares of numbers 0 to 10"
   ]
  },
  {
   "cell_type": "code",
   "execution_count": 11,
   "id": "8342754b-c194-4f52-b728-322ed1c159c8",
   "metadata": {},
   "outputs": [],
   "source": [
    "square = [x**2 for x in range(0,11)]"
   ]
  },
  {
   "cell_type": "code",
   "execution_count": 12,
   "id": "0cc42dfc-5a06-4141-ac14-2686b1d003e3",
   "metadata": {},
   "outputs": [
    {
     "data": {
      "text/plain": [
       "[0, 1, 4, 9, 16, 25, 36, 49, 64, 81, 100]"
      ]
     },
     "execution_count": 12,
     "metadata": {},
     "output_type": "execute_result"
    }
   ],
   "source": [
    "square"
   ]
  },
  {
   "cell_type": "markdown",
   "id": "7334a994-b545-4b95-b207-d8be227a1356",
   "metadata": {},
   "source": [
    "### For strings"
   ]
  },
  {
   "cell_type": "markdown",
   "id": "e619dd5c-8659-41f3-afce-011a23fc1a9e",
   "metadata": {},
   "source": [
    "➡️ Convert words to uppercase"
   ]
  },
  {
   "cell_type": "code",
   "execution_count": 15,
   "id": "f88aeb55-5f1e-43e2-a481-cf54522f768a",
   "metadata": {},
   "outputs": [],
   "source": [
    "fruits = ['apple','orange','mango','coconut','banana']\n",
    "fruits = [x.upper() for x in fruits]"
   ]
  },
  {
   "cell_type": "code",
   "execution_count": 16,
   "id": "ba97d055-9259-4658-a00c-82c295c8ae87",
   "metadata": {},
   "outputs": [
    {
     "data": {
      "text/plain": [
       "['APPLE', 'ORANGE', 'MANGO', 'COCONUT', 'BANANA']"
      ]
     },
     "execution_count": 16,
     "metadata": {},
     "output_type": "execute_result"
    }
   ],
   "source": [
    "fruits"
   ]
  },
  {
   "cell_type": "markdown",
   "id": "00487f52-3746-462a-a216-7d1374d653f7",
   "metadata": {},
   "source": [
    "➡️ Capitalize the first character of each word in List fruits"
   ]
  },
  {
   "cell_type": "code",
   "execution_count": 17,
   "id": "9c5c1062-3ebe-40a6-a2f8-38dfed70ed68",
   "metadata": {},
   "outputs": [
    {
     "data": {
      "text/plain": [
       "['Apple', 'Orange', 'Mango', 'Coconut', 'Banana']"
      ]
     },
     "execution_count": 17,
     "metadata": {},
     "output_type": "execute_result"
    }
   ],
   "source": [
    "[x.capitalize() for x in fruits]"
   ]
  },
  {
   "cell_type": "markdown",
   "id": "1058abc2-b10c-4b7d-9181-7272c25d1080",
   "metadata": {},
   "source": [
    "➡️ Concate Each Word in List fruits"
   ]
  },
  {
   "cell_type": "code",
   "execution_count": 18,
   "id": "6f5d8c53-e7e5-4489-9e6c-5210c2c0d3d3",
   "metadata": {},
   "outputs": [
    {
     "data": {
      "text/plain": [
       "['APPLE!', 'ORANGE!', 'MANGO!', 'COCONUT!', 'BANANA!']"
      ]
     },
     "execution_count": 18,
     "metadata": {},
     "output_type": "execute_result"
    }
   ],
   "source": [
    "[x+'!' for x in fruits]"
   ]
  },
  {
   "cell_type": "markdown",
   "id": "d8f40a08-9693-48ef-b46b-1faa40965dc6",
   "metadata": {},
   "source": [
    "➡️ Return first char of each word in list"
   ]
  },
  {
   "cell_type": "code",
   "execution_count": 19,
   "id": "3809d3f5-f8b3-4237-abac-ef6a10f42ed8",
   "metadata": {},
   "outputs": [
    {
     "data": {
      "text/plain": [
       "['A', 'O', 'M', 'C', 'B']"
      ]
     },
     "execution_count": 19,
     "metadata": {},
     "output_type": "execute_result"
    }
   ],
   "source": [
    "[x[0] for x in fruits]"
   ]
  },
  {
   "cell_type": "markdown",
   "id": "bc0e1cac-dd2f-430e-97ad-5b237110381c",
   "metadata": {},
   "source": [
    "### with if condition"
   ]
  },
  {
   "cell_type": "code",
   "execution_count": 24,
   "id": "903cbe91-9b5e-47ac-99bf-3e3e92a04227",
   "metadata": {},
   "outputs": [],
   "source": [
    "num = [1,-2,3,-4,-5,-6]\n",
    "pos = [n for n in num if n >= 0]"
   ]
  },
  {
   "cell_type": "code",
   "execution_count": 25,
   "id": "1cb2d844-b355-4e14-abea-490ac1837c64",
   "metadata": {},
   "outputs": [
    {
     "data": {
      "text/plain": [
       "[1, 3]"
      ]
     },
     "execution_count": 25,
     "metadata": {},
     "output_type": "execute_result"
    }
   ],
   "source": [
    "pos"
   ]
  },
  {
   "cell_type": "code",
   "execution_count": 26,
   "id": "da4dc09a-3e2f-480b-97ac-d91a5e762f6b",
   "metadata": {},
   "outputs": [
    {
     "data": {
      "text/plain": [
       "[-2, -4, -5, -6]"
      ]
     },
     "execution_count": 26,
     "metadata": {},
     "output_type": "execute_result"
    }
   ],
   "source": [
    "neg = [n for n in num if n < 0 ]\n",
    "neg"
   ]
  },
  {
   "cell_type": "markdown",
   "id": "7f8efe38-50c3-46a4-bc11-076d4800d06e",
   "metadata": {},
   "source": [
    "➡️ Print even numbers 0 to 20"
   ]
  },
  {
   "cell_type": "code",
   "execution_count": 27,
   "id": "b7ad137d-e0cf-4f53-8c91-d993d9c33cd2",
   "metadata": {},
   "outputs": [
    {
     "data": {
      "text/plain": [
       "[0, 2, 4, 6, 8, 10, 12, 14, 16, 18, 20]"
      ]
     },
     "execution_count": 27,
     "metadata": {},
     "output_type": "execute_result"
    }
   ],
   "source": [
    "even = [e for e in range(21) if e%2 == 0]\n",
    "even"
   ]
  },
  {
   "cell_type": "markdown",
   "id": "c1321c4c-01ae-42ed-9c94-c0ace84ffec5",
   "metadata": {},
   "source": [
    "### Boolean Mapping with List Comprehension"
   ]
  },
  {
   "cell_type": "code",
   "execution_count": 5,
   "id": "64d54202-42a1-4f62-be86-25eb1746cf16",
   "metadata": {},
   "outputs": [],
   "source": [
    "def elementwise_greater_than(L, thresh):\n",
    "    \"\"\"Return a list with the same length as L, where the value at index i is \n",
    "    True if L[i] is greater than thresh, and False otherwise.\n",
    "    \n",
    "    >>> elementwise_greater_than([1, 2, 3, 4], 2)\n",
    "    [False, False, True, True]\n",
    "    \"\"\"\n",
    "    return [i>thresh for i in L] #i > thresh directly returns True or False for each element."
   ]
  },
  {
   "cell_type": "code",
   "execution_count": 6,
   "id": "c5e6cdef-e85b-466b-a673-60d975c03d78",
   "metadata": {},
   "outputs": [
    {
     "data": {
      "text/plain": [
       "[False, False, True, True]"
      ]
     },
     "execution_count": 6,
     "metadata": {},
     "output_type": "execute_result"
    }
   ],
   "source": [
    "elementwise_greater_than([1, 2, 3, 4], 2)"
   ]
  },
  {
   "cell_type": "markdown",
   "id": "5407dc27-8034-4d84-a132-2de40550ed1b",
   "metadata": {},
   "source": [
    "### Use of any"
   ]
  },
  {
   "cell_type": "markdown",
   "id": "eedcb30e-ca89-4c8c-a8d4-059fd9bc2501",
   "metadata": {},
   "source": [
    "`any(...)` → returns `True` if **at least one** item is `True`"
   ]
  },
  {
   "cell_type": "code",
   "execution_count": 7,
   "id": "ddf48e40-c88f-416b-a1ee-25d880c2c803",
   "metadata": {},
   "outputs": [],
   "source": [
    "def menu_is_boring(meals):\n",
    "    \"\"\"Given a list of meals served over some period of time, return True if the\n",
    "    same meal has ever been served two days in a row, and False otherwise.\n",
    "    \"\"\"\n",
    "    return any(meals[i] == meals[i+1] for i in range(len(meals)-1))"
   ]
  },
  {
   "cell_type": "code",
   "execution_count": 8,
   "id": "bb645002-0f68-4df1-8869-086cbeab5fe8",
   "metadata": {},
   "outputs": [
    {
     "data": {
      "text/plain": [
       "True"
      ]
     },
     "execution_count": 8,
     "metadata": {},
     "output_type": "execute_result"
    }
   ],
   "source": [
    "menu_is_boring([\"pizza\", \"burger\", \"burger\", \"pasta\"])\n"
   ]
  },
  {
   "cell_type": "markdown",
   "id": "322f9ee2-b4b2-4cda-903a-b9937178ed09",
   "metadata": {},
   "source": [
    "## Dictionary Comprehension"
   ]
  },
  {
   "cell_type": "markdown",
   "id": "e182ad21-2454-43eb-b00e-763d2ae17f77",
   "metadata": {},
   "source": [
    "- create dictionaries using an expression\n",
    "- can replace for loops and certain lambda functions"
   ]
  },
  {
   "cell_type": "markdown",
   "id": "e55f8cf8-001b-4c2f-b0af-41eeecb5a81d",
   "metadata": {},
   "source": [
    "`dictionary = {key:value for item in iterable}`"
   ]
  },
  {
   "cell_type": "code",
   "execution_count": 1,
   "id": "bb53c46e-8878-4d03-90ff-97b786b17d2f",
   "metadata": {},
   "outputs": [],
   "source": [
    "dictionary = {x:x**2 for x in range(10)}"
   ]
  },
  {
   "cell_type": "code",
   "execution_count": 2,
   "id": "fac97ab4-d4fd-44d1-b845-4a353309c894",
   "metadata": {},
   "outputs": [
    {
     "data": {
      "text/plain": [
       "{0: 0, 1: 1, 2: 4, 3: 9, 4: 16, 5: 25, 6: 36, 7: 49, 8: 64, 9: 81}"
      ]
     },
     "execution_count": 2,
     "metadata": {},
     "output_type": "execute_result"
    }
   ],
   "source": [
    "dictionary"
   ]
  },
  {
   "cell_type": "code",
   "execution_count": null,
   "id": "0e8ecda2-fde6-40c9-a436-caddc0b000ca",
   "metadata": {},
   "outputs": [],
   "source": []
  },
  {
   "cell_type": "markdown",
   "id": "2f739abb-41f4-430a-87a5-cd4da2be6ab8",
   "metadata": {},
   "source": [
    "## Interlude Object"
   ]
  },
  {
   "cell_type": "code",
   "execution_count": 1,
   "id": "a204d051-29f2-4624-8065-c2be72b40ef7",
   "metadata": {},
   "outputs": [
    {
     "name": "stdout",
     "output_type": "stream",
     "text": [
      "0\n"
     ]
    }
   ],
   "source": [
    "X = 12\n",
    "print(X.imag)"
   ]
  },
  {
   "cell_type": "code",
   "execution_count": 2,
   "id": "2d1de73f-32ac-4872-86d2-214355af0e82",
   "metadata": {},
   "outputs": [
    {
     "name": "stdout",
     "output_type": "stream",
     "text": [
      "3.0\n"
     ]
    }
   ],
   "source": [
    "y = 12 + 3j\n",
    "print(y.imag)"
   ]
  },
  {
   "cell_type": "markdown",
   "id": "f70e3be2-5b2b-461d-a268-7253ec0a805e",
   "metadata": {},
   "source": [
    "- A **function** attached to an **object** is called a **method**\n",
    "- **Non-function** things attached to an **object**, for example `imag` is called **attributes** "
   ]
  },
  {
   "cell_type": "code",
   "execution_count": 3,
   "id": "3ea11d9e-b1c2-4ea1-9ef4-ff3cf7c54f0e",
   "metadata": {},
   "outputs": [
    {
     "data": {
      "text/plain": [
       "4"
      ]
     },
     "execution_count": 3,
     "metadata": {},
     "output_type": "execute_result"
    }
   ],
   "source": [
    "X.bit_length()"
   ]
  },
  {
   "cell_type": "code",
   "execution_count": 4,
   "id": "308d2d29-e0cc-469c-b070-80b1491a3fa8",
   "metadata": {},
   "outputs": [
    {
     "data": {
      "text/plain": [
       "\u001b[1;31mSignature:\u001b[0m \u001b[0mX\u001b[0m\u001b[1;33m.\u001b[0m\u001b[0mbit_length\u001b[0m\u001b[1;33m(\u001b[0m\u001b[1;33m)\u001b[0m\u001b[1;33m\u001b[0m\u001b[1;33m\u001b[0m\u001b[0m\n",
       "\u001b[1;31mDocstring:\u001b[0m\n",
       "Number of bits necessary to represent self in binary.\n",
       "\n",
       ">>> bin(37)\n",
       "'0b100101'\n",
       ">>> (37).bit_length()\n",
       "6\n",
       "\u001b[1;31mType:\u001b[0m      builtin_function_or_method"
      ]
     },
     "metadata": {},
     "output_type": "display_data"
    }
   ],
   "source": [
    "X.bit_length?"
   ]
  },
  {
   "cell_type": "markdown",
   "id": "7d4d7a5d-3a04-41aa-8ea8-20dc19cc7b4a",
   "metadata": {},
   "source": [
    "- **Tuple** are often used for functions/methods that return **multiple values**"
   ]
  },
  {
   "cell_type": "code",
   "execution_count": 6,
   "id": "e39b7d02-d918-4822-828c-80633502e3bd",
   "metadata": {},
   "outputs": [
    {
     "data": {
      "text/plain": [
       "(12, 1)"
      ]
     },
     "execution_count": 6,
     "metadata": {},
     "output_type": "execute_result"
    }
   ],
   "source": [
    "X.as_integer_ratio() # return tuple"
   ]
  },
  {
   "cell_type": "code",
   "execution_count": 7,
   "id": "c508af62-3c86-464e-94c6-468885030cfe",
   "metadata": {},
   "outputs": [
    {
     "data": {
      "text/plain": [
       "\u001b[1;31mSignature:\u001b[0m \u001b[0mX\u001b[0m\u001b[1;33m.\u001b[0m\u001b[0mas_integer_ratio\u001b[0m\u001b[1;33m(\u001b[0m\u001b[1;33m)\u001b[0m\u001b[1;33m\u001b[0m\u001b[1;33m\u001b[0m\u001b[0m\n",
       "\u001b[1;31mDocstring:\u001b[0m\n",
       "Return a pair of integers, whose ratio is equal to the original int.\n",
       "\n",
       "The ratio is in lowest terms and has a positive denominator.\n",
       "\n",
       ">>> (10).as_integer_ratio()\n",
       "(10, 1)\n",
       ">>> (-10).as_integer_ratio()\n",
       "(-10, 1)\n",
       ">>> (0).as_integer_ratio()\n",
       "(0, 1)\n",
       "\u001b[1;31mType:\u001b[0m      builtin_function_or_method"
      ]
     },
     "metadata": {},
     "output_type": "display_data"
    }
   ],
   "source": [
    "X.as_integer_ratio?"
   ]
  },
  {
   "cell_type": "code",
   "execution_count": null,
   "id": "a9e58569-18bd-4d3d-b1d7-8943bab75dc5",
   "metadata": {},
   "outputs": [],
   "source": []
  }
 ],
 "metadata": {
  "kernelspec": {
   "display_name": "Python 3 (ipykernel)",
   "language": "python",
   "name": "python3"
  },
  "language_info": {
   "codemirror_mode": {
    "name": "ipython",
    "version": 3
   },
   "file_extension": ".py",
   "mimetype": "text/x-python",
   "name": "python",
   "nbconvert_exporter": "python",
   "pygments_lexer": "ipython3",
   "version": "3.13.5"
  }
 },
 "nbformat": 4,
 "nbformat_minor": 5
}
