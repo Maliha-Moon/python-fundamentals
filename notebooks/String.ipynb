{
 "cells": [
  {
   "cell_type": "markdown",
   "id": "b93a9fe8-b308-4876-bafa-0d00ef9a8fb2",
   "metadata": {},
   "source": [
    "# String"
   ]
  },
  {
   "cell_type": "markdown",
   "id": "ae1be2fd-fff0-4ca8-be48-ad2a5a1fa357",
   "metadata": {},
   "source": [
    "## Multi Line String"
   ]
  },
  {
   "cell_type": "markdown",
   "id": "04aa8238-fe36-43a2-9a00-1f71dbf8b13e",
   "metadata": {},
   "source": [
    "- **triple quotes** (`\"\"\"` or `'''`) are primarily used for **multi-line strings**\n",
    "- When assigned to a variable, they store multi-line string data"
   ]
  },
  {
   "cell_type": "code",
   "execution_count": 3,
   "id": "3be520ab-48fd-4ff9-9348-60ec76ccb5cb",
   "metadata": {},
   "outputs": [
    {
     "name": "stdout",
     "output_type": "stream",
     "text": [
      "This is a multi-line string\n",
      "that spans multi line\n"
     ]
    }
   ],
   "source": [
    "descriptipon = \"\"\"This is a multi-line string\n",
    "that spans multi line\"\"\"\n",
    "print(descriptipon)"
   ]
  },
  {
   "cell_type": "markdown",
   "id": "7ca2f4e3-724e-40b4-b5e1-9a8993fef546",
   "metadata": {},
   "source": [
    "When **not assigned** to any variable, they act like **multi-line comment**"
   ]
  },
  {
   "cell_type": "code",
   "execution_count": 9,
   "id": "7db96dbc-567f-4477-a23e-60aba2709daa",
   "metadata": {},
   "outputs": [
    {
     "name": "stdout",
     "output_type": "stream",
     "text": [
      "The following options are available:\n",
      "    -a: does nothing\n",
      "    -b: does nothing\n",
      "    \n"
     ]
    }
   ],
   "source": [
    "\"\"\"Multi-Line Comment\n",
    "  often used for docstring\"\"\"\n",
    "print(\"\"\"The following options are available:\n",
    "    -a: does nothing\n",
    "    -b: does nothing\n",
    "    \"\"\")"
   ]
  },
  {
   "cell_type": "markdown",
   "id": "0d60a82c-bec6-4f91-9dba-49b14ed26613",
   "metadata": {},
   "source": [
    "## Indexing & Slicing"
   ]
  },
  {
   "cell_type": "code",
   "execution_count": 22,
   "id": "17fad6f6-232f-43b2-8f8a-f8660a1cb7ef",
   "metadata": {},
   "outputs": [
    {
     "name": "stdout",
     "output_type": "stream",
     "text": [
      "r\n"
     ]
    }
   ],
   "source": [
    "s = \"How are you & who are you?\"\n",
    "print(s[5]) #access character"
   ]
  },
  {
   "cell_type": "code",
   "execution_count": 11,
   "id": "3a1e61e0-0a25-4b42-98b4-5e08aef9e366",
   "metadata": {},
   "outputs": [
    {
     "data": {
      "text/plain": [
       "str"
      ]
     },
     "execution_count": 11,
     "metadata": {},
     "output_type": "execute_result"
    }
   ],
   "source": [
    "type(s[5])"
   ]
  },
  {
   "cell_type": "code",
   "execution_count": 17,
   "id": "3db7aa3d-f0d3-4f6e-9cff-12ca3b2b226f",
   "metadata": {},
   "outputs": [
    {
     "data": {
      "text/plain": [
       "' are yo'"
      ]
     },
     "execution_count": 17,
     "metadata": {},
     "output_type": "execute_result"
    }
   ],
   "source": [
    "s[3:10] # slicing or substring"
   ]
  },
  {
   "cell_type": "markdown",
   "id": "1b1665c8-b6f4-43e2-a33e-436d3df4f713",
   "metadata": {},
   "source": [
    "## Negative Indexing"
   ]
  },
  {
   "cell_type": "markdown",
   "id": "2ba92f2c-e463-4fa6-9bfe-acfb3299ef6a",
   "metadata": {},
   "source": [
    "indexing from **right side**"
   ]
  },
  {
   "cell_type": "code",
   "execution_count": 18,
   "id": "8aafc5a9-e7e0-4a16-bd5d-1d08ab9ba35b",
   "metadata": {},
   "outputs": [
    {
     "data": {
      "text/plain": [
       "'?'"
      ]
     },
     "execution_count": 18,
     "metadata": {},
     "output_type": "execute_result"
    }
   ],
   "source": [
    "s[-1]"
   ]
  },
  {
   "cell_type": "code",
   "execution_count": 22,
   "id": "37ef1d50-6a94-4072-bb5e-70e9248349a4",
   "metadata": {},
   "outputs": [
    {
     "data": {
      "text/plain": [
       "'o are y'"
      ]
     },
     "execution_count": 22,
     "metadata": {},
     "output_type": "execute_result"
    }
   ],
   "source": [
    "s[-10:-3] # include -10, exclude -3"
   ]
  },
  {
   "cell_type": "markdown",
   "id": "a5a34ff7-4283-49e9-8eaf-e917209fcfbc",
   "metadata": {},
   "source": [
    "Strings are **immutable (unchangeable)**"
   ]
  },
  {
   "cell_type": "code",
   "execution_count": 24,
   "id": "13c5f531-a320-43f3-9d23-a6ad3ec5f981",
   "metadata": {},
   "outputs": [
    {
     "ename": "TypeError",
     "evalue": "'str' object does not support item assignment",
     "output_type": "error",
     "traceback": [
      "\u001b[1;31m---------------------------------------------------------------------------\u001b[0m",
      "\u001b[1;31mTypeError\u001b[0m                                 Traceback (most recent call last)",
      "Cell \u001b[1;32mIn[24], line 1\u001b[0m\n\u001b[1;32m----> 1\u001b[0m s[\u001b[38;5;241m1\u001b[39m] \u001b[38;5;241m=\u001b[39m \u001b[38;5;124m\"\u001b[39m\u001b[38;5;124me\u001b[39m\u001b[38;5;124m\"\u001b[39m\n",
      "\u001b[1;31mTypeError\u001b[0m: 'str' object does not support item assignment"
     ]
    }
   ],
   "source": [
    "s[1] = \"e\""
   ]
  },
  {
   "cell_type": "code",
   "execution_count": 31,
   "id": "0591697c-ff01-4643-867a-b5d85cbcf2b5",
   "metadata": {},
   "outputs": [
    {
     "data": {
      "text/plain": [
       "'How are you '"
      ]
     },
     "execution_count": 31,
     "metadata": {},
     "output_type": "execute_result"
    }
   ],
   "source": [
    "s[:12] # From the beginning"
   ]
  },
  {
   "cell_type": "code",
   "execution_count": 29,
   "id": "e7a31d2c-1af5-4b41-bec9-1b3be083d340",
   "metadata": {},
   "outputs": [
    {
     "data": {
      "text/plain": [
       "' are you & who are you?'"
      ]
     },
     "execution_count": 29,
     "metadata": {},
     "output_type": "execute_result"
    }
   ],
   "source": [
    "s[3:] # till the end"
   ]
  },
  {
   "cell_type": "markdown",
   "id": "7409f71e-f589-4fd0-96e9-176a43f452f4",
   "metadata": {},
   "source": [
    "## String Slicing with Step (Jumping in Strings)\n",
    "`[start:end:step]`\n",
    "- `start:` index to begin the slice (inclusive)\n",
    "- `end:` index to stop the slice (exclusive)\n",
    "- `step:` number of characters to jump (also called the stride). By default **1**"
   ]
  },
  {
   "cell_type": "code",
   "execution_count": 25,
   "id": "abbe177f-9814-44ca-a6eb-56775df30700",
   "metadata": {},
   "outputs": [
    {
     "data": {
      "text/plain": [
       "'Hwaeyu'"
      ]
     },
     "execution_count": 25,
     "metadata": {},
     "output_type": "execute_result"
    }
   ],
   "source": [
    "s[0:12:2]\n"
   ]
  },
  {
   "cell_type": "code",
   "execution_count": 26,
   "id": "0a4744cf-b6f5-4626-b7ce-a8264feadc5d",
   "metadata": {},
   "outputs": [
    {
     "data": {
      "text/plain": [
       "'How are you & who are you?'"
      ]
     },
     "execution_count": 26,
     "metadata": {},
     "output_type": "execute_result"
    }
   ],
   "source": [
    "s"
   ]
  },
  {
   "cell_type": "markdown",
   "id": "132b538c-4bfb-49cb-90fc-f60edb7a2ab3",
   "metadata": {},
   "source": [
    "## Reverse String"
   ]
  },
  {
   "cell_type": "code",
   "execution_count": 32,
   "id": "3e9adf2b-0005-48b6-8220-936c34069937",
   "metadata": {},
   "outputs": [
    {
     "data": {
      "text/plain": [
       "'?uoy era ohw & uoy era woH'"
      ]
     },
     "execution_count": 32,
     "metadata": {},
     "output_type": "execute_result"
    }
   ],
   "source": [
    "s[::-1]"
   ]
  },
  {
   "cell_type": "markdown",
   "id": "2467ffce-dc1a-4c32-a7ac-c3f1d88c125f",
   "metadata": {},
   "source": [
    "## String Methods"
   ]
  },
  {
   "cell_type": "code",
   "execution_count": 43,
   "id": "88cc816c-a064-4765-bf55-085e39552b28",
   "metadata": {},
   "outputs": [
    {
     "name": "stdout",
     "output_type": "stream",
     "text": [
      "A lot of spaces  at The beGinning and End\n",
      "a lot of spaces  at the beginning and end\n",
      "A LOT OF SPACES  AT THE BEGINNING AND END\n",
      ",,,,A,lot,of,spaces,,at,The,beGinning,and,End,,,,,,\n"
     ]
    }
   ],
   "source": [
    "a = \"    A lot of spaces  at The beGinning and End      \"\n",
    "b = a.strip()   # Returns a trimmed version of the string\n",
    "print(b)\n",
    "print(b.lower())\n",
    "print(b.upper())\n",
    "print(a.replace(\" \",\",\"))"
   ]
  },
  {
   "cell_type": "markdown",
   "id": "9107168e-4d64-47d0-9d00-091aedd1b00e",
   "metadata": {},
   "source": [
    "## split()"
   ]
  },
  {
   "cell_type": "markdown",
   "id": "33b1bb51-bd75-44be-8bcd-df1ea57e8728",
   "metadata": {},
   "source": [
    "`str.split()` turns a string into a **list of smaller strings**, breaking on whitespace by default. "
   ]
  },
  {
   "cell_type": "code",
   "execution_count": 46,
   "id": "706efd81-0958-4773-b3de-42de6f0a4a83",
   "metadata": {},
   "outputs": [
    {
     "name": "stdout",
     "output_type": "stream",
     "text": [
      "['A', 'lot', 'of', 'spaces', 'at', 'The', 'beGinning', 'and', 'End']\n"
     ]
    }
   ],
   "source": [
    "L = b.split()\n",
    "print(L)"
   ]
  },
  {
   "cell_type": "code",
   "execution_count": 47,
   "id": "aeb602ec-c421-47a9-8b39-62dfcbf8f20b",
   "metadata": {},
   "outputs": [
    {
     "data": {
      "text/plain": [
       "'lot'"
      ]
     },
     "execution_count": 47,
     "metadata": {},
     "output_type": "execute_result"
    }
   ],
   "source": [
    "L[1]"
   ]
  },
  {
   "cell_type": "code",
   "execution_count": 30,
   "id": "605be404-a615-48ff-bac4-33fd25b12b8c",
   "metadata": {},
   "outputs": [
    {
     "name": "stdout",
     "output_type": "stream",
     "text": [
      "2025 07 15\n"
     ]
    }
   ],
   "source": [
    "datestr = \"2025-07-15\"\n",
    "year, month, day = datestr.split('-')\n",
    "print(year, month, day)"
   ]
  },
  {
   "cell_type": "code",
   "execution_count": 52,
   "id": "9f04a388-cec7-4c61-a2a8-742eb89bb750",
   "metadata": {},
   "outputs": [
    {
     "data": {
      "text/plain": [
       "\u001b[1;31mSignature:\u001b[0m \u001b[0ma\u001b[0m\u001b[1;33m.\u001b[0m\u001b[0msplit\u001b[0m\u001b[1;33m(\u001b[0m\u001b[0msep\u001b[0m\u001b[1;33m=\u001b[0m\u001b[1;32mNone\u001b[0m\u001b[1;33m,\u001b[0m \u001b[0mmaxsplit\u001b[0m\u001b[1;33m=\u001b[0m\u001b[1;33m-\u001b[0m\u001b[1;36m1\u001b[0m\u001b[1;33m)\u001b[0m\u001b[1;33m\u001b[0m\u001b[1;33m\u001b[0m\u001b[0m\n",
       "\u001b[1;31mDocstring:\u001b[0m\n",
       "Return a list of the substrings in the string, using sep as the separator string.\n",
       "\n",
       "  sep\n",
       "    The separator used to split the string.\n",
       "\n",
       "    When set to None (the default value), will split on any whitespace\n",
       "    character (including \\n \\r \\t \\f and spaces) and will discard\n",
       "    empty strings from the result.\n",
       "  maxsplit\n",
       "    Maximum number of splits.\n",
       "    -1 (the default value) means no limit.\n",
       "\n",
       "Splitting starts at the front of the string and works to the end.\n",
       "\n",
       "Note, str.split() is mainly useful for data that has been intentionally\n",
       "delimited.  With natural text that includes punctuation, consider using\n",
       "the regular expression module.\n",
       "\u001b[1;31mType:\u001b[0m      builtin_function_or_method"
      ]
     },
     "metadata": {},
     "output_type": "display_data"
    }
   ],
   "source": [
    "a.split?"
   ]
  },
  {
   "cell_type": "markdown",
   "id": "4cf9afa1-f160-488f-8d23-0b38fb0b9393",
   "metadata": {},
   "source": [
    "## join()"
   ]
  },
  {
   "cell_type": "markdown",
   "id": "5df52140-da5d-48e1-ba92-ecd545e4bec8",
   "metadata": {},
   "source": [
    "`str.join([List])` sewing a list of strings up into **one long string**."
   ]
  },
  {
   "cell_type": "code",
   "execution_count": 34,
   "id": "c97018dc-1b03-41d5-9942-fbc502f419e6",
   "metadata": {},
   "outputs": [
    {
     "data": {
      "text/plain": [
       "'2025/07/15'"
      ]
     },
     "execution_count": 34,
     "metadata": {},
     "output_type": "execute_result"
    }
   ],
   "source": [
    "'/'.join([year, month, day])"
   ]
  },
  {
   "cell_type": "code",
   "execution_count": 49,
   "id": "ad61a131-7bcd-42b5-9518-8c6d73007f84",
   "metadata": {},
   "outputs": [
    {
     "data": {
      "text/plain": [
       "\u001b[1;31mType:\u001b[0m        str\n",
       "\u001b[1;31mString form:\u001b[0m     A lot of spaces  at The beGinning and End      \n",
       "\u001b[1;31mLength:\u001b[0m      51\n",
       "\u001b[1;31mDocstring:\u001b[0m  \n",
       "str(object='') -> str\n",
       "str(bytes_or_buffer[, encoding[, errors]]) -> str\n",
       "\n",
       "Create a new string object from the given object. If encoding or\n",
       "errors is specified, then the object must expose a data buffer\n",
       "that will be decoded using the given encoding and error handler.\n",
       "Otherwise, returns the result of object.__str__() (if defined)\n",
       "or repr(object).\n",
       "encoding defaults to 'utf-8'.\n",
       "errors defaults to 'strict'."
      ]
     },
     "metadata": {},
     "output_type": "display_data"
    }
   ],
   "source": [
    "a?"
   ]
  },
  {
   "cell_type": "code",
   "execution_count": 50,
   "id": "372c0ece-eb7e-4593-af19-e409ae472c57",
   "metadata": {},
   "outputs": [
    {
     "data": {
      "text/plain": [
       "\u001b[1;31mSignature:\u001b[0m \u001b[0ma\u001b[0m\u001b[1;33m.\u001b[0m\u001b[0mstrip\u001b[0m\u001b[1;33m(\u001b[0m\u001b[0mchars\u001b[0m\u001b[1;33m=\u001b[0m\u001b[1;32mNone\u001b[0m\u001b[1;33m,\u001b[0m \u001b[1;33m/\u001b[0m\u001b[1;33m)\u001b[0m\u001b[1;33m\u001b[0m\u001b[1;33m\u001b[0m\u001b[0m\n",
       "\u001b[1;31mDocstring:\u001b[0m\n",
       "Return a copy of the string with leading and trailing whitespace removed.\n",
       "\n",
       "If chars is given and not None, remove characters in chars instead.\n",
       "\u001b[1;31mType:\u001b[0m      builtin_function_or_method"
      ]
     },
     "metadata": {},
     "output_type": "display_data"
    }
   ],
   "source": [
    "a.strip?"
   ]
  },
  {
   "cell_type": "code",
   "execution_count": 51,
   "id": "0fd0cfcd-1801-49f7-b0cb-35467af7e2cc",
   "metadata": {},
   "outputs": [
    {
     "data": {
      "text/plain": [
       "\u001b[1;31mSignature:\u001b[0m \u001b[0ma\u001b[0m\u001b[1;33m.\u001b[0m\u001b[0mreplace\u001b[0m\u001b[1;33m(\u001b[0m\u001b[0mold\u001b[0m\u001b[1;33m,\u001b[0m \u001b[0mnew\u001b[0m\u001b[1;33m,\u001b[0m \u001b[1;33m/\u001b[0m\u001b[1;33m,\u001b[0m \u001b[0mcount\u001b[0m\u001b[1;33m=\u001b[0m\u001b[1;33m-\u001b[0m\u001b[1;36m1\u001b[0m\u001b[1;33m)\u001b[0m\u001b[1;33m\u001b[0m\u001b[1;33m\u001b[0m\u001b[0m\n",
       "\u001b[1;31mDocstring:\u001b[0m\n",
       "Return a copy with all occurrences of substring old replaced by new.\n",
       "\n",
       "  count\n",
       "    Maximum number of occurrences to replace.\n",
       "    -1 (the default value) means replace all occurrences.\n",
       "\n",
       "If the optional argument count is given, only the first count occurrences are\n",
       "replaced.\n",
       "\u001b[1;31mType:\u001b[0m      builtin_function_or_method"
      ]
     },
     "metadata": {},
     "output_type": "display_data"
    }
   ],
   "source": [
    "a.replace?"
   ]
  },
  {
   "cell_type": "markdown",
   "id": "d36509c7-6c61-4ea0-8816-92d2ef0a552e",
   "metadata": {},
   "source": [
    "## Capitalize"
   ]
  },
  {
   "cell_type": "code",
   "execution_count": 53,
   "id": "df0fc7c2-2fe2-42e4-ac29-73e95ec019df",
   "metadata": {},
   "outputs": [
    {
     "data": {
      "text/plain": [
       "'How are you & who are you?'"
      ]
     },
     "execution_count": 53,
     "metadata": {},
     "output_type": "execute_result"
    }
   ],
   "source": [
    "s.capitalize()"
   ]
  },
  {
   "cell_type": "code",
   "execution_count": 54,
   "id": "afebcceb-97d8-476a-9e51-31fec9d04fc0",
   "metadata": {},
   "outputs": [
    {
     "data": {
      "text/plain": [
       "\u001b[1;31mSignature:\u001b[0m \u001b[0ms\u001b[0m\u001b[1;33m.\u001b[0m\u001b[0mcapitalize\u001b[0m\u001b[1;33m(\u001b[0m\u001b[1;33m)\u001b[0m\u001b[1;33m\u001b[0m\u001b[1;33m\u001b[0m\u001b[0m\n",
       "\u001b[1;31mDocstring:\u001b[0m\n",
       "Return a capitalized version of the string.\n",
       "\n",
       "More specifically, make the first character have upper case and the rest lower\n",
       "case.\n",
       "\u001b[1;31mType:\u001b[0m      builtin_function_or_method"
      ]
     },
     "metadata": {},
     "output_type": "display_data"
    }
   ],
   "source": [
    "s.capitalize?"
   ]
  },
  {
   "cell_type": "code",
   "execution_count": 57,
   "id": "0d37f67e-581c-4217-bad4-353e2e79dc5a",
   "metadata": {},
   "outputs": [
    {
     "data": {
      "text/plain": [
       "'Abcdefghinfjjdcnjeh'"
      ]
     },
     "execution_count": 57,
     "metadata": {},
     "output_type": "execute_result"
    }
   ],
   "source": [
    "\"abcdEFGHinfjJDCNJEH\".capitalize()"
   ]
  },
  {
   "cell_type": "markdown",
   "id": "3eec68a4-42ac-48fe-8d6e-a12153b64dac",
   "metadata": {},
   "source": [
    "## in keyword "
   ]
  },
  {
   "cell_type": "markdown",
   "id": "f108b32f-c3b0-470a-90dd-a2673012b4c2",
   "metadata": {},
   "source": [
    "The `in` keyword is used to check **if a value is present** in a sequence (list, range, string etc.)."
   ]
  },
  {
   "cell_type": "code",
   "execution_count": 1,
   "id": "c02ea059-e37f-4832-8c35-e4688d8b4e24",
   "metadata": {},
   "outputs": [
    {
     "data": {
      "text/plain": [
       "False"
      ]
     },
     "execution_count": 1,
     "metadata": {},
     "output_type": "execute_result"
    }
   ],
   "source": [
    "\"abc\" in \"ajdgubjhwgefu\""
   ]
  },
  {
   "cell_type": "code",
   "execution_count": 2,
   "id": "e7f193a5-d10f-415a-a337-84609e895dc4",
   "metadata": {},
   "outputs": [
    {
     "data": {
      "text/plain": [
       "True"
      ]
     },
     "execution_count": 2,
     "metadata": {},
     "output_type": "execute_result"
    }
   ],
   "source": [
    "\"la\" in \"moonella\""
   ]
  },
  {
   "cell_type": "code",
   "execution_count": 21,
   "id": "98268e3f-888b-4197-9846-f1c9686bd7d3",
   "metadata": {},
   "outputs": [
    {
     "data": {
      "text/plain": [
       "False"
      ]
     },
     "execution_count": 21,
     "metadata": {},
     "output_type": "execute_result"
    }
   ],
   "source": [
    "\"at\" not in \"wekjattdjjr\""
   ]
  },
  {
   "cell_type": "markdown",
   "id": "88c69f43-f868-4271-b882-ee492c66b755",
   "metadata": {},
   "source": [
    "## Compare strings"
   ]
  },
  {
   "cell_type": "code",
   "execution_count": 3,
   "id": "b12c07e7-479b-4373-a13d-cb035867cf0a",
   "metadata": {},
   "outputs": [
    {
     "data": {
      "text/plain": [
       "True"
      ]
     },
     "execution_count": 3,
     "metadata": {},
     "output_type": "execute_result"
    }
   ],
   "source": [
    "\"abc\" == \"abc\""
   ]
  },
  {
   "cell_type": "code",
   "execution_count": 5,
   "id": "d541cefc-9810-4ba2-bbb3-df92f239d9ce",
   "metadata": {},
   "outputs": [
    {
     "data": {
      "text/plain": [
       "True"
      ]
     },
     "execution_count": 5,
     "metadata": {},
     "output_type": "execute_result"
    }
   ],
   "source": [
    "\"abc\"<\"def\"  # compare 0th index. a<d"
   ]
  },
  {
   "cell_type": "markdown",
   "id": "486c4486-0f32-45df-a507-73856cf933e9",
   "metadata": {},
   "source": [
    "Since the first character `a` is **less than** `d`. `\"abc\" < \"def\"` → `True`, and it stops there (doesn't even check 'b' vs 'e')"
   ]
  },
  {
   "cell_type": "code",
   "execution_count": 6,
   "id": "1796d214-370d-4496-815a-2c9d4ba760c7",
   "metadata": {},
   "outputs": [
    {
     "data": {
      "text/plain": [
       "True"
      ]
     },
     "execution_count": 6,
     "metadata": {},
     "output_type": "execute_result"
    }
   ],
   "source": [
    "\"abcdefghijk\" < \"def\""
   ]
  },
  {
   "cell_type": "code",
   "execution_count": 7,
   "id": "6928a50c-97e3-426c-97a7-1a69545ada8d",
   "metadata": {},
   "outputs": [
    {
     "data": {
      "text/plain": [
       "False"
      ]
     },
     "execution_count": 7,
     "metadata": {},
     "output_type": "execute_result"
    }
   ],
   "source": [
    "\"xyz\" < \"lmn\""
   ]
  },
  {
   "cell_type": "code",
   "execution_count": 8,
   "id": "3a0c0e0c-df00-44c7-b642-019aa6e96191",
   "metadata": {},
   "outputs": [
    {
     "data": {
      "text/plain": [
       "True"
      ]
     },
     "execution_count": 8,
     "metadata": {},
     "output_type": "execute_result"
    }
   ],
   "source": [
    "\"%&\" > \"$*\""
   ]
  },
  {
   "cell_type": "markdown",
   "id": "3e855cfe-60c2-4cad-8c10-5d9cdb062672",
   "metadata": {},
   "source": [
    "## Escape Sequence"
   ]
  },
  {
   "cell_type": "code",
   "execution_count": 11,
   "id": "c138a435-26c0-4e0d-9d4a-960d069cd1e7",
   "metadata": {},
   "outputs": [
    {
     "ename": "SyntaxError",
     "evalue": "invalid syntax. Perhaps you forgot a comma? (2498720527.py, line 1)",
     "output_type": "error",
     "traceback": [
      "\u001b[1;36m  Cell \u001b[1;32mIn[11], line 1\u001b[1;36m\u001b[0m\n\u001b[1;33m    print(\"We are learning \"string\" here\") # here \"string\" is not consider as string\u001b[0m\n\u001b[1;37m          ^\u001b[0m\n\u001b[1;31mSyntaxError\u001b[0m\u001b[1;31m:\u001b[0m invalid syntax. Perhaps you forgot a comma?\n"
     ]
    }
   ],
   "source": [
    "print(\"We are learning \"string\" here\") # here \"string\" is not consider as string"
   ]
  },
  {
   "cell_type": "markdown",
   "id": "451bf3a5-88b6-46d1-8281-854a98539308",
   "metadata": {},
   "source": [
    "2 ways to fix it"
   ]
  },
  {
   "cell_type": "markdown",
   "id": "c8ebee25-0231-4e7f-bb90-fb6e88d2afec",
   "metadata": {},
   "source": [
    "Option 1: Use **escaped quotes** inside"
   ]
  },
  {
   "cell_type": "code",
   "execution_count": 12,
   "id": "71ed4d61-5730-4a40-a86f-4e5e7ea87100",
   "metadata": {},
   "outputs": [
    {
     "name": "stdout",
     "output_type": "stream",
     "text": [
      "We are learning \"string\" here\n"
     ]
    }
   ],
   "source": [
    "print(\"We are learning \\\"string\\\" here\")"
   ]
  },
  {
   "cell_type": "markdown",
   "id": "3eededc1-05e2-4b9f-bf31-1e2ac8bb5663",
   "metadata": {},
   "source": [
    "Option 2: Use **single quotes** outside"
   ]
  },
  {
   "cell_type": "code",
   "execution_count": 13,
   "id": "f0d34453-cf38-4d4e-ba6a-011eb0e76dac",
   "metadata": {},
   "outputs": [
    {
     "name": "stdout",
     "output_type": "stream",
     "text": [
      "We are learning \"string\" here\n"
     ]
    }
   ],
   "source": [
    "print('We are learning \"string\" here')"
   ]
  },
  {
   "cell_type": "code",
   "execution_count": 15,
   "id": "c611f2c2-a843-4056-846e-001860e13d8c",
   "metadata": {},
   "outputs": [
    {
     "name": "stdout",
     "output_type": "stream",
     "text": [
      "What's up?\n"
     ]
    }
   ],
   "source": [
    "print('What\\'s up?')"
   ]
  },
  {
   "cell_type": "code",
   "execution_count": 16,
   "id": "95245284-8e2f-4e42-8d1b-ea74860a1e11",
   "metadata": {},
   "outputs": [
    {
     "name": "stdout",
     "output_type": "stream",
     "text": [
      "We are \n",
      " now on another line\n"
     ]
    }
   ],
   "source": [
    "print(\"We are \\n now on another line\") "
   ]
  },
  {
   "cell_type": "code",
   "execution_count": 18,
   "id": "4c7524b8-25bc-4992-b698-e48b38a5bda1",
   "metadata": {},
   "outputs": [
    {
     "name": "stdout",
     "output_type": "stream",
     "text": [
      "We are \t now on another tab\n"
     ]
    }
   ],
   "source": [
    "print(\"We are \\t now on another tab\") "
   ]
  },
  {
   "cell_type": "code",
   "execution_count": 17,
   "id": "c1786b50-1da7-43d4-a1d4-07973bd52576",
   "metadata": {},
   "outputs": [
    {
     "name": "stdout",
     "output_type": "stream",
     "text": [
      "Look like a mountain: /\\\n"
     ]
    }
   ],
   "source": [
    "print(\"Look like a mountain: /\\\\\")"
   ]
  },
  {
   "cell_type": "markdown",
   "id": "d01971a4-0c6f-4b59-aa0a-1de320f42f27",
   "metadata": {},
   "source": [
    "## Raw string"
   ]
  },
  {
   "cell_type": "markdown",
   "id": "fac70d6d-e7e0-4dce-8742-d18b2916f7ca",
   "metadata": {},
   "source": [
    "keep the string **as it is**. There's **no escape sequence** inside"
   ]
  },
  {
   "cell_type": "code",
   "execution_count": 19,
   "id": "30d3a6ac-99db-476c-bc20-b01bc01d016b",
   "metadata": {},
   "outputs": [
    {
     "name": "stdout",
     "output_type": "stream",
     "text": [
      "c:\n",
      "ame\\drive\n"
     ]
    }
   ],
   "source": [
    "print(\"c:\\name\\drive\")"
   ]
  },
  {
   "cell_type": "code",
   "execution_count": 20,
   "id": "5477c305-b7ae-450c-ab12-c45feec36807",
   "metadata": {},
   "outputs": [
    {
     "name": "stdout",
     "output_type": "stream",
     "text": [
      "c:\\name\\drive\n"
     ]
    }
   ],
   "source": [
    "print(r\"c:\\name\\drive\")"
   ]
  }
 ],
 "metadata": {
  "kernelspec": {
   "display_name": "Python 3 (ipykernel)",
   "language": "python",
   "name": "python3"
  },
  "language_info": {
   "codemirror_mode": {
    "name": "ipython",
    "version": 3
   },
   "file_extension": ".py",
   "mimetype": "text/x-python",
   "name": "python",
   "nbconvert_exporter": "python",
   "pygments_lexer": "ipython3",
   "version": "3.13.5"
  }
 },
 "nbformat": 4,
 "nbformat_minor": 5
}
