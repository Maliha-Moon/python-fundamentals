{
 "cells": [
  {
   "cell_type": "code",
   "execution_count": 1,
   "id": "fa2011cc-bd81-4154-8985-c00fdc434db1",
   "metadata": {},
   "outputs": [],
   "source": [
    "import pandas as pd"
   ]
  },
  {
   "cell_type": "code",
   "execution_count": 2,
   "id": "02e2e847-23f1-4de2-95cf-7fc4ab9be75c",
   "metadata": {},
   "outputs": [],
   "source": [
    "# Reading CSV file\n",
    "df_customer = pd.read_csv('customer.csv')"
   ]
  },
  {
   "cell_type": "code",
   "execution_count": 3,
   "id": "66e68bef-dce1-4707-9b85-a7882fa0e2e1",
   "metadata": {},
   "outputs": [
    {
     "data": {
      "text/html": [
       "<div>\n",
       "<style scoped>\n",
       "    .dataframe tbody tr th:only-of-type {\n",
       "        vertical-align: middle;\n",
       "    }\n",
       "\n",
       "    .dataframe tbody tr th {\n",
       "        vertical-align: top;\n",
       "    }\n",
       "\n",
       "    .dataframe thead th {\n",
       "        text-align: right;\n",
       "    }\n",
       "</style>\n",
       "<table border=\"1\" class=\"dataframe\">\n",
       "  <thead>\n",
       "    <tr style=\"text-align: right;\">\n",
       "      <th></th>\n",
       "      <th>Unnamed: 0</th>\n",
       "      <th>ID</th>\n",
       "      <th>Name</th>\n",
       "      <th>Age</th>\n",
       "      <th>City</th>\n",
       "      <th>Purchase_Amount</th>\n",
       "    </tr>\n",
       "  </thead>\n",
       "  <tbody>\n",
       "    <tr>\n",
       "      <th>0</th>\n",
       "      <td>0</td>\n",
       "      <td>1</td>\n",
       "      <td>Customer_1</td>\n",
       "      <td>44</td>\n",
       "      <td>Chicago</td>\n",
       "      <td>175.08</td>\n",
       "    </tr>\n",
       "    <tr>\n",
       "      <th>1</th>\n",
       "      <td>1</td>\n",
       "      <td>2</td>\n",
       "      <td>Customer_2</td>\n",
       "      <td>53</td>\n",
       "      <td>New York</td>\n",
       "      <td>301.74</td>\n",
       "    </tr>\n",
       "    <tr>\n",
       "      <th>2</th>\n",
       "      <td>2</td>\n",
       "      <td>3</td>\n",
       "      <td>Customer_3</td>\n",
       "      <td>25</td>\n",
       "      <td>Houston</td>\n",
       "      <td>353.85</td>\n",
       "    </tr>\n",
       "    <tr>\n",
       "      <th>3</th>\n",
       "      <td>3</td>\n",
       "      <td>4</td>\n",
       "      <td>Customer_4</td>\n",
       "      <td>26</td>\n",
       "      <td>Phoenix</td>\n",
       "      <td>735.50</td>\n",
       "    </tr>\n",
       "    <tr>\n",
       "      <th>4</th>\n",
       "      <td>4</td>\n",
       "      <td>5</td>\n",
       "      <td>Customer_5</td>\n",
       "      <td>47</td>\n",
       "      <td>Houston</td>\n",
       "      <td>219.66</td>\n",
       "    </tr>\n",
       "    <tr>\n",
       "      <th>5</th>\n",
       "      <td>5</td>\n",
       "      <td>6</td>\n",
       "      <td>Customer_6</td>\n",
       "      <td>69</td>\n",
       "      <td>Houston</td>\n",
       "      <td>837.42</td>\n",
       "    </tr>\n",
       "    <tr>\n",
       "      <th>6</th>\n",
       "      <td>6</td>\n",
       "      <td>7</td>\n",
       "      <td>Customer_7</td>\n",
       "      <td>36</td>\n",
       "      <td>Phoenix</td>\n",
       "      <td>681.78</td>\n",
       "    </tr>\n",
       "    <tr>\n",
       "      <th>7</th>\n",
       "      <td>7</td>\n",
       "      <td>8</td>\n",
       "      <td>Customer_8</td>\n",
       "      <td>44</td>\n",
       "      <td>Houston</td>\n",
       "      <td>926.90</td>\n",
       "    </tr>\n",
       "    <tr>\n",
       "      <th>8</th>\n",
       "      <td>8</td>\n",
       "      <td>9</td>\n",
       "      <td>Customer_9</td>\n",
       "      <td>52</td>\n",
       "      <td>Houston</td>\n",
       "      <td>525.23</td>\n",
       "    </tr>\n",
       "    <tr>\n",
       "      <th>9</th>\n",
       "      <td>9</td>\n",
       "      <td>10</td>\n",
       "      <td>Customer_10</td>\n",
       "      <td>40</td>\n",
       "      <td>New York</td>\n",
       "      <td>471.29</td>\n",
       "    </tr>\n",
       "  </tbody>\n",
       "</table>\n",
       "</div>"
      ],
      "text/plain": [
       "   Unnamed: 0  ID         Name  Age      City  Purchase_Amount\n",
       "0           0   1   Customer_1   44   Chicago           175.08\n",
       "1           1   2   Customer_2   53  New York           301.74\n",
       "2           2   3   Customer_3   25   Houston           353.85\n",
       "3           3   4   Customer_4   26   Phoenix           735.50\n",
       "4           4   5   Customer_5   47   Houston           219.66\n",
       "5           5   6   Customer_6   69   Houston           837.42\n",
       "6           6   7   Customer_7   36   Phoenix           681.78\n",
       "7           7   8   Customer_8   44   Houston           926.90\n",
       "8           8   9   Customer_9   52   Houston           525.23\n",
       "9           9  10  Customer_10   40  New York           471.29"
      ]
     },
     "execution_count": 3,
     "metadata": {},
     "output_type": "execute_result"
    }
   ],
   "source": [
    "# show in a dataframe\n",
    "df_customer"
   ]
  },
  {
   "cell_type": "markdown",
   "id": "29becd2f-2ea2-44c5-b87b-1d897d65c19f",
   "metadata": {},
   "source": [
    "# 1. Attributes"
   ]
  },
  {
   "cell_type": "markdown",
   "id": "688cf1f7-0067-4e2f-a0ee-2bd19c6ee63c",
   "metadata": {},
   "source": [
    "### `.shape`\n",
    "The `.shape` attribute returns the **number of rows and columns** in a DataFrame as a tuple:"
   ]
  },
  {
   "cell_type": "code",
   "execution_count": 5,
   "id": "1f4a9985-4fd3-4a78-9bef-03554ffd60a9",
   "metadata": {},
   "outputs": [
    {
     "data": {
      "text/plain": [
       "(10, 6)"
      ]
     },
     "execution_count": 5,
     "metadata": {},
     "output_type": "execute_result"
    }
   ],
   "source": [
    "# Shape attribute \n",
    "df_customer.shape"
   ]
  },
  {
   "cell_type": "markdown",
   "id": "2b1bb690-5046-44b6-b43f-9a81a774191f",
   "metadata": {},
   "source": [
    "### `.index` \n",
    "The `.index` attribute returns the **row labels** (index) of a DataFrame."
   ]
  },
  {
   "cell_type": "code",
   "execution_count": 6,
   "id": "dbf028dd-a87a-4562-8d73-44d27d31cc7f",
   "metadata": {},
   "outputs": [
    {
     "data": {
      "text/plain": [
       "RangeIndex(start=0, stop=10, step=1)"
      ]
     },
     "execution_count": 6,
     "metadata": {},
     "output_type": "execute_result"
    }
   ],
   "source": [
    "df_customer.index"
   ]
  },
  {
   "cell_type": "markdown",
   "id": "38c04937-35fb-4bba-b02b-f63195f1449d",
   "metadata": {},
   "source": [
    "### `.columns`\n",
    "The `.columns` attribute returns **the name of the columns** in a DataFrame"
   ]
  },
  {
   "cell_type": "code",
   "execution_count": 7,
   "id": "6109d7a8-adb1-435b-83db-777c0246ae8c",
   "metadata": {},
   "outputs": [
    {
     "data": {
      "text/plain": [
       "Index(['Unnamed: 0', 'ID', 'Name', 'Age', 'City', 'Purchase_Amount'], dtype='object')"
      ]
     },
     "execution_count": 7,
     "metadata": {},
     "output_type": "execute_result"
    }
   ],
   "source": [
    "df_customer.columns"
   ]
  },
  {
   "cell_type": "markdown",
   "id": "bcb7d009-9eb7-482d-b4fa-015dd05b6baf",
   "metadata": {},
   "source": [
    "### `.dtypes`\n",
    "- The `.dtypes` returns **the data type of each columns** of a DataFrame\n",
    "- By default, **object are string** here"
   ]
  },
  {
   "cell_type": "code",
   "execution_count": 10,
   "id": "c48f5ab6-a0ea-463a-bb0f-a08af5ab9f24",
   "metadata": {},
   "outputs": [
    {
     "data": {
      "text/plain": [
       "Unnamed: 0           int64\n",
       "ID                   int64\n",
       "Name                object\n",
       "Age                  int64\n",
       "City                object\n",
       "Purchase_Amount    float64\n",
       "dtype: object"
      ]
     },
     "execution_count": 10,
     "metadata": {},
     "output_type": "execute_result"
    }
   ],
   "source": [
    "df_customer.dtypes  # By default, object are string "
   ]
  },
  {
   "cell_type": "markdown",
   "id": "703d3e8a-af21-4d97-8fdc-c5007367e021",
   "metadata": {},
   "source": [
    "# 2. Methods"
   ]
  },
  {
   "cell_type": "markdown",
   "id": "ecd1fb83-3d2d-4231-8413-371a0a64c083",
   "metadata": {},
   "source": [
    "### `.info()` Method in Pandas\n",
    "The `.info()` method provides a **summary of a DataFrame**, including:\n",
    "- The number of non-null entries in each column\n",
    "- Column names and data types\n",
    "- Memory usage\n",
    "- Index range\n",
    "\n",
    "This is especially useful for **quick inspection of the dataset's structure**."
   ]
  },
  {
   "cell_type": "code",
   "execution_count": 11,
   "id": "0603cc0c-04f9-4746-8c57-7835af5a741d",
   "metadata": {},
   "outputs": [
    {
     "name": "stdout",
     "output_type": "stream",
     "text": [
      "<class 'pandas.core.frame.DataFrame'>\n",
      "RangeIndex: 10 entries, 0 to 9\n",
      "Data columns (total 6 columns):\n",
      " #   Column           Non-Null Count  Dtype  \n",
      "---  ------           --------------  -----  \n",
      " 0   Unnamed: 0       10 non-null     int64  \n",
      " 1   ID               10 non-null     int64  \n",
      " 2   Name             10 non-null     object \n",
      " 3   Age              10 non-null     int64  \n",
      " 4   City             10 non-null     object \n",
      " 5   Purchase_Amount  10 non-null     float64\n",
      "dtypes: float64(1), int64(3), object(2)\n",
      "memory usage: 612.0+ bytes\n"
     ]
    }
   ],
   "source": [
    "df_customer.info()"
   ]
  },
  {
   "cell_type": "markdown",
   "id": "90f861e8-689a-450f-abc1-25ff0e9c870d",
   "metadata": {},
   "source": [
    "### `.describe()` \n",
    "\n",
    "The `.describe()` method generates **descriptive statistics** for **numerical columns** in a DataFrame.\n",
    "\n",
    "It provides a quick summary of important statistics, including:\n",
    "\n",
    "- Count (number of non-null entries)\n",
    "- Mean (average)\n",
    "- Standard deviation (std)\n",
    "- Minimum (min)\n",
    "- 25th percentile (25%)\n",
    "- Median (50%)\n",
    "- 75th percentile (75%)\n",
    "- Maximum (max)"
   ]
  },
  {
   "cell_type": "code",
   "execution_count": 12,
   "id": "a86fe452-4c7c-4f4d-bc6d-78671c91f337",
   "metadata": {},
   "outputs": [
    {
     "data": {
      "text/html": [
       "<div>\n",
       "<style scoped>\n",
       "    .dataframe tbody tr th:only-of-type {\n",
       "        vertical-align: middle;\n",
       "    }\n",
       "\n",
       "    .dataframe tbody tr th {\n",
       "        vertical-align: top;\n",
       "    }\n",
       "\n",
       "    .dataframe thead th {\n",
       "        text-align: right;\n",
       "    }\n",
       "</style>\n",
       "<table border=\"1\" class=\"dataframe\">\n",
       "  <thead>\n",
       "    <tr style=\"text-align: right;\">\n",
       "      <th></th>\n",
       "      <th>Unnamed: 0</th>\n",
       "      <th>ID</th>\n",
       "      <th>Age</th>\n",
       "      <th>Purchase_Amount</th>\n",
       "    </tr>\n",
       "  </thead>\n",
       "  <tbody>\n",
       "    <tr>\n",
       "      <th>count</th>\n",
       "      <td>10.00000</td>\n",
       "      <td>10.00000</td>\n",
       "      <td>10.000000</td>\n",
       "      <td>10.000000</td>\n",
       "    </tr>\n",
       "    <tr>\n",
       "      <th>mean</th>\n",
       "      <td>4.50000</td>\n",
       "      <td>5.50000</td>\n",
       "      <td>43.600000</td>\n",
       "      <td>522.845000</td>\n",
       "    </tr>\n",
       "    <tr>\n",
       "      <th>std</th>\n",
       "      <td>3.02765</td>\n",
       "      <td>3.02765</td>\n",
       "      <td>13.091134</td>\n",
       "      <td>263.664841</td>\n",
       "    </tr>\n",
       "    <tr>\n",
       "      <th>min</th>\n",
       "      <td>0.00000</td>\n",
       "      <td>1.00000</td>\n",
       "      <td>25.000000</td>\n",
       "      <td>175.080000</td>\n",
       "    </tr>\n",
       "    <tr>\n",
       "      <th>25%</th>\n",
       "      <td>2.25000</td>\n",
       "      <td>3.25000</td>\n",
       "      <td>37.000000</td>\n",
       "      <td>314.767500</td>\n",
       "    </tr>\n",
       "    <tr>\n",
       "      <th>50%</th>\n",
       "      <td>4.50000</td>\n",
       "      <td>5.50000</td>\n",
       "      <td>44.000000</td>\n",
       "      <td>498.260000</td>\n",
       "    </tr>\n",
       "    <tr>\n",
       "      <th>75%</th>\n",
       "      <td>6.75000</td>\n",
       "      <td>7.75000</td>\n",
       "      <td>50.750000</td>\n",
       "      <td>722.070000</td>\n",
       "    </tr>\n",
       "    <tr>\n",
       "      <th>max</th>\n",
       "      <td>9.00000</td>\n",
       "      <td>10.00000</td>\n",
       "      <td>69.000000</td>\n",
       "      <td>926.900000</td>\n",
       "    </tr>\n",
       "  </tbody>\n",
       "</table>\n",
       "</div>"
      ],
      "text/plain": [
       "       Unnamed: 0        ID        Age  Purchase_Amount\n",
       "count    10.00000  10.00000  10.000000        10.000000\n",
       "mean      4.50000   5.50000  43.600000       522.845000\n",
       "std       3.02765   3.02765  13.091134       263.664841\n",
       "min       0.00000   1.00000  25.000000       175.080000\n",
       "25%       2.25000   3.25000  37.000000       314.767500\n",
       "50%       4.50000   5.50000  44.000000       498.260000\n",
       "75%       6.75000   7.75000  50.750000       722.070000\n",
       "max       9.00000  10.00000  69.000000       926.900000"
      ]
     },
     "execution_count": 12,
     "metadata": {},
     "output_type": "execute_result"
    }
   ],
   "source": [
    "df_customer.describe()"
   ]
  },
  {
   "cell_type": "markdown",
   "id": "43bf1c1a-5c1d-4deb-8c23-540356022215",
   "metadata": {},
   "source": [
    "# 3.Functions"
   ]
  },
  {
   "cell_type": "markdown",
   "id": "a8ac816b-7571-4910-aeaf-63fabd412404",
   "metadata": {},
   "source": [
    "### `len(DataFrame)` \n",
    "Obtaining **the length** of the DataFrame **(number of rows)**"
   ]
  },
  {
   "cell_type": "code",
   "execution_count": 14,
   "id": "8ecf83a7-e39d-41e4-9222-91f79d3b25aa",
   "metadata": {},
   "outputs": [
    {
     "data": {
      "text/plain": [
       "10"
      ]
     },
     "execution_count": 14,
     "metadata": {},
     "output_type": "execute_result"
    }
   ],
   "source": [
    "len(df_customer)"
   ]
  },
  {
   "cell_type": "markdown",
   "id": "1362168d-ae44-49a0-92e3-9d971a70e240",
   "metadata": {},
   "source": [
    "### `max(DataFrame.index)`\n",
    "Obtaining **the highest index** of the DataFrame"
   ]
  },
  {
   "cell_type": "code",
   "execution_count": 15,
   "id": "503d67c9-dc44-4c92-aafb-bc0d4ba131a3",
   "metadata": {},
   "outputs": [
    {
     "data": {
      "text/plain": [
       "9"
      ]
     },
     "execution_count": 15,
     "metadata": {},
     "output_type": "execute_result"
    }
   ],
   "source": [
    "max(df_customer.index)"
   ]
  },
  {
   "cell_type": "markdown",
   "id": "4b8d5f3f-9dc1-43b8-8716-73b21b52f07a",
   "metadata": {},
   "source": [
    "### `min(DataFrame.index)`\n",
    "Obtaining **the lowest index** of the DataFrame"
   ]
  },
  {
   "cell_type": "code",
   "execution_count": 16,
   "id": "eb869a87-efac-4462-ae7b-85759c5eaaa2",
   "metadata": {},
   "outputs": [
    {
     "data": {
      "text/plain": [
       "0"
      ]
     },
     "execution_count": 16,
     "metadata": {},
     "output_type": "execute_result"
    }
   ],
   "source": [
    "min(df_customer.index)"
   ]
  },
  {
   "cell_type": "markdown",
   "id": "77327f36-9987-4b74-86b8-7c357789650a",
   "metadata": {},
   "source": [
    "### `type(df)`\n",
    "Obtaining **the type** of the DataFrame"
   ]
  },
  {
   "cell_type": "code",
   "execution_count": 17,
   "id": "e9e05ee3-902f-4d34-9859-e31d55b42e78",
   "metadata": {},
   "outputs": [
    {
     "data": {
      "text/plain": [
       "pandas.core.frame.DataFrame"
      ]
     },
     "execution_count": 17,
     "metadata": {},
     "output_type": "execute_result"
    }
   ],
   "source": [
    "type(df_customer)"
   ]
  },
  {
   "cell_type": "markdown",
   "id": "f25ce0be-93b8-48b4-b299-45bfda84be4b",
   "metadata": {},
   "source": [
    "### `round(df, decimal place)'\n",
    "**Rounding the float values** of the dataset to a specified number of decimal places."
   ]
  },
  {
   "cell_type": "code",
   "execution_count": 19,
   "id": "31bd57e7-d5fa-4d60-a1d5-bcf94f852720",
   "metadata": {},
   "outputs": [
    {
     "data": {
      "text/html": [
       "<div>\n",
       "<style scoped>\n",
       "    .dataframe tbody tr th:only-of-type {\n",
       "        vertical-align: middle;\n",
       "    }\n",
       "\n",
       "    .dataframe tbody tr th {\n",
       "        vertical-align: top;\n",
       "    }\n",
       "\n",
       "    .dataframe thead th {\n",
       "        text-align: right;\n",
       "    }\n",
       "</style>\n",
       "<table border=\"1\" class=\"dataframe\">\n",
       "  <thead>\n",
       "    <tr style=\"text-align: right;\">\n",
       "      <th></th>\n",
       "      <th>Unnamed: 0</th>\n",
       "      <th>ID</th>\n",
       "      <th>Name</th>\n",
       "      <th>Age</th>\n",
       "      <th>City</th>\n",
       "      <th>Purchase_Amount</th>\n",
       "    </tr>\n",
       "  </thead>\n",
       "  <tbody>\n",
       "    <tr>\n",
       "      <th>0</th>\n",
       "      <td>0</td>\n",
       "      <td>1</td>\n",
       "      <td>Customer_1</td>\n",
       "      <td>44</td>\n",
       "      <td>Chicago</td>\n",
       "      <td>175.08</td>\n",
       "    </tr>\n",
       "    <tr>\n",
       "      <th>1</th>\n",
       "      <td>1</td>\n",
       "      <td>2</td>\n",
       "      <td>Customer_2</td>\n",
       "      <td>53</td>\n",
       "      <td>New York</td>\n",
       "      <td>301.74</td>\n",
       "    </tr>\n",
       "    <tr>\n",
       "      <th>2</th>\n",
       "      <td>2</td>\n",
       "      <td>3</td>\n",
       "      <td>Customer_3</td>\n",
       "      <td>25</td>\n",
       "      <td>Houston</td>\n",
       "      <td>353.85</td>\n",
       "    </tr>\n",
       "    <tr>\n",
       "      <th>3</th>\n",
       "      <td>3</td>\n",
       "      <td>4</td>\n",
       "      <td>Customer_4</td>\n",
       "      <td>26</td>\n",
       "      <td>Phoenix</td>\n",
       "      <td>735.50</td>\n",
       "    </tr>\n",
       "    <tr>\n",
       "      <th>4</th>\n",
       "      <td>4</td>\n",
       "      <td>5</td>\n",
       "      <td>Customer_5</td>\n",
       "      <td>47</td>\n",
       "      <td>Houston</td>\n",
       "      <td>219.66</td>\n",
       "    </tr>\n",
       "    <tr>\n",
       "      <th>5</th>\n",
       "      <td>5</td>\n",
       "      <td>6</td>\n",
       "      <td>Customer_6</td>\n",
       "      <td>69</td>\n",
       "      <td>Houston</td>\n",
       "      <td>837.42</td>\n",
       "    </tr>\n",
       "    <tr>\n",
       "      <th>6</th>\n",
       "      <td>6</td>\n",
       "      <td>7</td>\n",
       "      <td>Customer_7</td>\n",
       "      <td>36</td>\n",
       "      <td>Phoenix</td>\n",
       "      <td>681.78</td>\n",
       "    </tr>\n",
       "    <tr>\n",
       "      <th>7</th>\n",
       "      <td>7</td>\n",
       "      <td>8</td>\n",
       "      <td>Customer_8</td>\n",
       "      <td>44</td>\n",
       "      <td>Houston</td>\n",
       "      <td>926.90</td>\n",
       "    </tr>\n",
       "    <tr>\n",
       "      <th>8</th>\n",
       "      <td>8</td>\n",
       "      <td>9</td>\n",
       "      <td>Customer_9</td>\n",
       "      <td>52</td>\n",
       "      <td>Houston</td>\n",
       "      <td>525.23</td>\n",
       "    </tr>\n",
       "    <tr>\n",
       "      <th>9</th>\n",
       "      <td>9</td>\n",
       "      <td>10</td>\n",
       "      <td>Customer_10</td>\n",
       "      <td>40</td>\n",
       "      <td>New York</td>\n",
       "      <td>471.29</td>\n",
       "    </tr>\n",
       "  </tbody>\n",
       "</table>\n",
       "</div>"
      ],
      "text/plain": [
       "   Unnamed: 0  ID         Name  Age      City  Purchase_Amount\n",
       "0           0   1   Customer_1   44   Chicago           175.08\n",
       "1           1   2   Customer_2   53  New York           301.74\n",
       "2           2   3   Customer_3   25   Houston           353.85\n",
       "3           3   4   Customer_4   26   Phoenix           735.50\n",
       "4           4   5   Customer_5   47   Houston           219.66\n",
       "5           5   6   Customer_6   69   Houston           837.42\n",
       "6           6   7   Customer_7   36   Phoenix           681.78\n",
       "7           7   8   Customer_8   44   Houston           926.90\n",
       "8           8   9   Customer_9   52   Houston           525.23\n",
       "9           9  10  Customer_10   40  New York           471.29"
      ]
     },
     "execution_count": 19,
     "metadata": {},
     "output_type": "execute_result"
    }
   ],
   "source": [
    "round(df_customer,2)"
   ]
  }
 ],
 "metadata": {
  "kernelspec": {
   "display_name": "Python 3 (ipykernel)",
   "language": "python",
   "name": "python3"
  },
  "language_info": {
   "codemirror_mode": {
    "name": "ipython",
    "version": 3
   },
   "file_extension": ".py",
   "mimetype": "text/x-python",
   "name": "python",
   "nbconvert_exporter": "python",
   "pygments_lexer": "ipython3",
   "version": "3.13.5"
  }
 },
 "nbformat": 4,
 "nbformat_minor": 5
}
