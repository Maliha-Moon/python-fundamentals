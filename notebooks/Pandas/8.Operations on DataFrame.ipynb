{
 "cells": [
  {
   "cell_type": "code",
   "execution_count": 1,
   "id": "a2e3ebc7-af54-4c57-ba3f-96de00d1f598",
   "metadata": {},
   "outputs": [],
   "source": [
    "import pandas as pd"
   ]
  },
  {
   "cell_type": "code",
   "execution_count": 21,
   "id": "656fc31a-c6ec-45f5-a98a-1bec6be0986c",
   "metadata": {},
   "outputs": [
    {
     "data": {
      "text/html": [
       "<div>\n",
       "<style scoped>\n",
       "    .dataframe tbody tr th:only-of-type {\n",
       "        vertical-align: middle;\n",
       "    }\n",
       "\n",
       "    .dataframe tbody tr th {\n",
       "        vertical-align: top;\n",
       "    }\n",
       "\n",
       "    .dataframe thead th {\n",
       "        text-align: right;\n",
       "    }\n",
       "</style>\n",
       "<table border=\"1\" class=\"dataframe\">\n",
       "  <thead>\n",
       "    <tr style=\"text-align: right;\">\n",
       "      <th></th>\n",
       "      <th>Unnamed: 0</th>\n",
       "      <th>ID</th>\n",
       "      <th>Name</th>\n",
       "      <th>Age</th>\n",
       "      <th>City</th>\n",
       "      <th>Purchase_Amount</th>\n",
       "    </tr>\n",
       "  </thead>\n",
       "  <tbody>\n",
       "    <tr>\n",
       "      <th>0</th>\n",
       "      <td>0</td>\n",
       "      <td>1</td>\n",
       "      <td>Customer_1</td>\n",
       "      <td>44</td>\n",
       "      <td>Chicago</td>\n",
       "      <td>175.08</td>\n",
       "    </tr>\n",
       "    <tr>\n",
       "      <th>1</th>\n",
       "      <td>1</td>\n",
       "      <td>2</td>\n",
       "      <td>Customer_2</td>\n",
       "      <td>53</td>\n",
       "      <td>New York</td>\n",
       "      <td>301.74</td>\n",
       "    </tr>\n",
       "    <tr>\n",
       "      <th>2</th>\n",
       "      <td>2</td>\n",
       "      <td>3</td>\n",
       "      <td>Customer_3</td>\n",
       "      <td>25</td>\n",
       "      <td>Houston</td>\n",
       "      <td>353.85</td>\n",
       "    </tr>\n",
       "    <tr>\n",
       "      <th>3</th>\n",
       "      <td>3</td>\n",
       "      <td>4</td>\n",
       "      <td>Customer_4</td>\n",
       "      <td>26</td>\n",
       "      <td>Phoenix</td>\n",
       "      <td>735.50</td>\n",
       "    </tr>\n",
       "    <tr>\n",
       "      <th>4</th>\n",
       "      <td>4</td>\n",
       "      <td>5</td>\n",
       "      <td>Customer_5</td>\n",
       "      <td>47</td>\n",
       "      <td>Houston</td>\n",
       "      <td>219.66</td>\n",
       "    </tr>\n",
       "    <tr>\n",
       "      <th>5</th>\n",
       "      <td>5</td>\n",
       "      <td>6</td>\n",
       "      <td>Customer_6</td>\n",
       "      <td>69</td>\n",
       "      <td>Houston</td>\n",
       "      <td>837.42</td>\n",
       "    </tr>\n",
       "    <tr>\n",
       "      <th>6</th>\n",
       "      <td>6</td>\n",
       "      <td>7</td>\n",
       "      <td>Customer_7</td>\n",
       "      <td>36</td>\n",
       "      <td>Phoenix</td>\n",
       "      <td>681.78</td>\n",
       "    </tr>\n",
       "    <tr>\n",
       "      <th>7</th>\n",
       "      <td>7</td>\n",
       "      <td>8</td>\n",
       "      <td>Customer_8</td>\n",
       "      <td>44</td>\n",
       "      <td>Houston</td>\n",
       "      <td>926.90</td>\n",
       "    </tr>\n",
       "    <tr>\n",
       "      <th>8</th>\n",
       "      <td>8</td>\n",
       "      <td>9</td>\n",
       "      <td>Customer_9</td>\n",
       "      <td>52</td>\n",
       "      <td>Houston</td>\n",
       "      <td>525.23</td>\n",
       "    </tr>\n",
       "    <tr>\n",
       "      <th>9</th>\n",
       "      <td>9</td>\n",
       "      <td>10</td>\n",
       "      <td>Customer_10</td>\n",
       "      <td>40</td>\n",
       "      <td>New York</td>\n",
       "      <td>471.29</td>\n",
       "    </tr>\n",
       "  </tbody>\n",
       "</table>\n",
       "</div>"
      ],
      "text/plain": [
       "   Unnamed: 0  ID         Name  Age      City  Purchase_Amount\n",
       "0           0   1   Customer_1   44   Chicago           175.08\n",
       "1           1   2   Customer_2   53  New York           301.74\n",
       "2           2   3   Customer_3   25   Houston           353.85\n",
       "3           3   4   Customer_4   26   Phoenix           735.50\n",
       "4           4   5   Customer_5   47   Houston           219.66\n",
       "5           5   6   Customer_6   69   Houston           837.42\n",
       "6           6   7   Customer_7   36   Phoenix           681.78\n",
       "7           7   8   Customer_8   44   Houston           926.90\n",
       "8           8   9   Customer_9   52   Houston           525.23\n",
       "9           9  10  Customer_10   40  New York           471.29"
      ]
     },
     "execution_count": 21,
     "metadata": {},
     "output_type": "execute_result"
    }
   ],
   "source": [
    "df = pd.read_csv('customer.csv')\n",
    "df"
   ]
  },
  {
   "cell_type": "markdown",
   "id": "e50dd143-b7ff-44af-a5ea-2d3c16588e5a",
   "metadata": {},
   "source": [
    "# **Math Operations**"
   ]
  },
  {
   "cell_type": "markdown",
   "id": "a3ac2445-535d-43d6-949d-21f6fbe6ffd9",
   "metadata": {},
   "source": [
    "## **Operations in column**"
   ]
  },
  {
   "cell_type": "code",
   "execution_count": 5,
   "id": "bbbdfa24-438f-4d3b-a0eb-0205694edea2",
   "metadata": {},
   "outputs": [
    {
     "data": {
      "text/plain": [
       "np.float64(5228.45)"
      ]
     },
     "execution_count": 5,
     "metadata": {},
     "output_type": "execute_result"
    }
   ],
   "source": [
    "# select a column and calculate total sum\n",
    "df['Purchase_Amount'].sum()"
   ]
  },
  {
   "cell_type": "code",
   "execution_count": 15,
   "id": "9ba1a999-2fbf-4f88-a9a6-901d5e4ee779",
   "metadata": {},
   "outputs": [
    {
     "data": {
      "text/plain": [
       "175.08"
      ]
     },
     "execution_count": 15,
     "metadata": {},
     "output_type": "execute_result"
    }
   ],
   "source": [
    "# count\n",
    "df['Purchase_Amount'].count()"
   ]
  },
  {
   "cell_type": "code",
   "execution_count": 17,
   "id": "af518df4-06d6-455a-a0b6-37ccd6408690",
   "metadata": {},
   "outputs": [
    {
     "data": {
      "text/plain": [
       "np.float64(522.845)"
      ]
     },
     "execution_count": 17,
     "metadata": {},
     "output_type": "execute_result"
    }
   ],
   "source": [
    "# mean\n",
    "df['Purchase_Amount'].mean()"
   ]
  },
  {
   "cell_type": "code",
   "execution_count": 18,
   "id": "55bf53bc-f024-4b0c-bb09-7f863f6a73e6",
   "metadata": {},
   "outputs": [
    {
     "data": {
      "text/plain": [
       "263.6648406278951"
      ]
     },
     "execution_count": 18,
     "metadata": {},
     "output_type": "execute_result"
    }
   ],
   "source": [
    "# std\n",
    "df['Purchase_Amount'].std()"
   ]
  },
  {
   "cell_type": "code",
   "execution_count": 19,
   "id": "a5de28f7-5282-440e-b9bd-0227f460c9c7",
   "metadata": {},
   "outputs": [
    {
     "data": {
      "text/plain": [
       "926.9"
      ]
     },
     "execution_count": 19,
     "metadata": {},
     "output_type": "execute_result"
    }
   ],
   "source": [
    "#max \n",
    "df['Purchase_Amount'].max()"
   ]
  },
  {
   "cell_type": "code",
   "execution_count": 20,
   "id": "7b73aff8-d9dd-4db8-b829-eaccec27f9d6",
   "metadata": {},
   "outputs": [
    {
     "data": {
      "text/plain": [
       "175.08"
      ]
     },
     "execution_count": 20,
     "metadata": {},
     "output_type": "execute_result"
    }
   ],
   "source": [
    "#min\n",
    "\n",
    "df['Purchase_Amount'].min()"
   ]
  },
  {
   "cell_type": "code",
   "execution_count": 11,
   "id": "f2125c67-19fe-4c25-a1b7-35541846fa72",
   "metadata": {},
   "outputs": [
    {
     "data": {
      "text/plain": [
       "count     10.000000\n",
       "mean     522.845000\n",
       "std      263.664841\n",
       "min      175.080000\n",
       "25%      314.767500\n",
       "50%      498.260000\n",
       "75%      722.070000\n",
       "max      926.900000\n",
       "Name: Purchase_Amount, dtype: float64"
      ]
     },
     "execution_count": 11,
     "metadata": {},
     "output_type": "execute_result"
    }
   ],
   "source": [
    "# doing the same with .describe()\n",
    "df['Purchase_Amount'].describe()"
   ]
  },
  {
   "cell_type": "code",
   "execution_count": 16,
   "id": "f5d28d26-dea9-4fcd-ad4e-9eda8933ff7a",
   "metadata": {},
   "outputs": [
    {
     "data": {
      "text/html": [
       "<div>\n",
       "<style scoped>\n",
       "    .dataframe tbody tr th:only-of-type {\n",
       "        vertical-align: middle;\n",
       "    }\n",
       "\n",
       "    .dataframe tbody tr th {\n",
       "        vertical-align: top;\n",
       "    }\n",
       "\n",
       "    .dataframe thead th {\n",
       "        text-align: right;\n",
       "    }\n",
       "</style>\n",
       "<table border=\"1\" class=\"dataframe\">\n",
       "  <thead>\n",
       "    <tr style=\"text-align: right;\">\n",
       "      <th></th>\n",
       "      <th>Unnamed: 0</th>\n",
       "      <th>ID</th>\n",
       "      <th>Age</th>\n",
       "      <th>Purchase_Amount</th>\n",
       "    </tr>\n",
       "  </thead>\n",
       "  <tbody>\n",
       "    <tr>\n",
       "      <th>count</th>\n",
       "      <td>10.00000</td>\n",
       "      <td>10.00000</td>\n",
       "      <td>10.000000</td>\n",
       "      <td>10.000000</td>\n",
       "    </tr>\n",
       "    <tr>\n",
       "      <th>mean</th>\n",
       "      <td>4.50000</td>\n",
       "      <td>5.50000</td>\n",
       "      <td>43.600000</td>\n",
       "      <td>522.845000</td>\n",
       "    </tr>\n",
       "    <tr>\n",
       "      <th>std</th>\n",
       "      <td>3.02765</td>\n",
       "      <td>3.02765</td>\n",
       "      <td>13.091134</td>\n",
       "      <td>263.664841</td>\n",
       "    </tr>\n",
       "    <tr>\n",
       "      <th>min</th>\n",
       "      <td>0.00000</td>\n",
       "      <td>1.00000</td>\n",
       "      <td>25.000000</td>\n",
       "      <td>175.080000</td>\n",
       "    </tr>\n",
       "    <tr>\n",
       "      <th>25%</th>\n",
       "      <td>2.25000</td>\n",
       "      <td>3.25000</td>\n",
       "      <td>37.000000</td>\n",
       "      <td>314.767500</td>\n",
       "    </tr>\n",
       "    <tr>\n",
       "      <th>50%</th>\n",
       "      <td>4.50000</td>\n",
       "      <td>5.50000</td>\n",
       "      <td>44.000000</td>\n",
       "      <td>498.260000</td>\n",
       "    </tr>\n",
       "    <tr>\n",
       "      <th>75%</th>\n",
       "      <td>6.75000</td>\n",
       "      <td>7.75000</td>\n",
       "      <td>50.750000</td>\n",
       "      <td>722.070000</td>\n",
       "    </tr>\n",
       "    <tr>\n",
       "      <th>max</th>\n",
       "      <td>9.00000</td>\n",
       "      <td>10.00000</td>\n",
       "      <td>69.000000</td>\n",
       "      <td>926.900000</td>\n",
       "    </tr>\n",
       "  </tbody>\n",
       "</table>\n",
       "</div>"
      ],
      "text/plain": [
       "       Unnamed: 0        ID        Age  Purchase_Amount\n",
       "count    10.00000  10.00000  10.000000        10.000000\n",
       "mean      4.50000   5.50000  43.600000       522.845000\n",
       "std       3.02765   3.02765  13.091134       263.664841\n",
       "min       0.00000   1.00000  25.000000       175.080000\n",
       "25%       2.25000   3.25000  37.000000       314.767500\n",
       "50%       4.50000   5.50000  44.000000       498.260000\n",
       "75%       6.75000   7.75000  50.750000       722.070000\n",
       "max       9.00000  10.00000  69.000000       926.900000"
      ]
     },
     "execution_count": 16,
     "metadata": {},
     "output_type": "execute_result"
    }
   ],
   "source": [
    "df.describe()"
   ]
  },
  {
   "cell_type": "markdown",
   "id": "4d4027aa-db48-48ea-86fa-36f79aa1757e",
   "metadata": {},
   "source": [
    "## **Operations in Rows**"
   ]
  },
  {
   "cell_type": "code",
   "execution_count": 22,
   "id": "d377ad62-dc17-42b6-8248-e61055f62d10",
   "metadata": {},
   "outputs": [
    {
     "data": {
      "text/plain": [
       "0    219.08\n",
       "1    354.74\n",
       "2    378.85\n",
       "3    761.50\n",
       "4    266.66\n",
       "5    906.42\n",
       "6    717.78\n",
       "7    970.90\n",
       "8    577.23\n",
       "9    511.29\n",
       "dtype: float64"
      ]
     },
     "execution_count": 22,
     "metadata": {},
     "output_type": "execute_result"
    }
   ],
   "source": [
    "# calculate the sum in a row\n",
    "df['Age'] + df['Purchase_Amount'] "
   ]
  },
  {
   "cell_type": "code",
   "execution_count": 23,
   "id": "8cfa2b26-ca05-45ee-a9b7-ea5a81a5b97b",
   "metadata": {},
   "outputs": [],
   "source": [
    "# calculating the average and assigning the result to a new column\n",
    "df['average'] =(df['Age'] + df['Purchase_Amount'])/2"
   ]
  },
  {
   "cell_type": "code",
   "execution_count": 24,
   "id": "0277b976-f116-461a-aba3-2498a282fd10",
   "metadata": {},
   "outputs": [
    {
     "data": {
      "text/html": [
       "<div>\n",
       "<style scoped>\n",
       "    .dataframe tbody tr th:only-of-type {\n",
       "        vertical-align: middle;\n",
       "    }\n",
       "\n",
       "    .dataframe tbody tr th {\n",
       "        vertical-align: top;\n",
       "    }\n",
       "\n",
       "    .dataframe thead th {\n",
       "        text-align: right;\n",
       "    }\n",
       "</style>\n",
       "<table border=\"1\" class=\"dataframe\">\n",
       "  <thead>\n",
       "    <tr style=\"text-align: right;\">\n",
       "      <th></th>\n",
       "      <th>Unnamed: 0</th>\n",
       "      <th>ID</th>\n",
       "      <th>Name</th>\n",
       "      <th>Age</th>\n",
       "      <th>City</th>\n",
       "      <th>Purchase_Amount</th>\n",
       "      <th>average</th>\n",
       "    </tr>\n",
       "  </thead>\n",
       "  <tbody>\n",
       "    <tr>\n",
       "      <th>0</th>\n",
       "      <td>0</td>\n",
       "      <td>1</td>\n",
       "      <td>Customer_1</td>\n",
       "      <td>44</td>\n",
       "      <td>Chicago</td>\n",
       "      <td>175.08</td>\n",
       "      <td>109.540</td>\n",
       "    </tr>\n",
       "    <tr>\n",
       "      <th>1</th>\n",
       "      <td>1</td>\n",
       "      <td>2</td>\n",
       "      <td>Customer_2</td>\n",
       "      <td>53</td>\n",
       "      <td>New York</td>\n",
       "      <td>301.74</td>\n",
       "      <td>177.370</td>\n",
       "    </tr>\n",
       "    <tr>\n",
       "      <th>2</th>\n",
       "      <td>2</td>\n",
       "      <td>3</td>\n",
       "      <td>Customer_3</td>\n",
       "      <td>25</td>\n",
       "      <td>Houston</td>\n",
       "      <td>353.85</td>\n",
       "      <td>189.425</td>\n",
       "    </tr>\n",
       "    <tr>\n",
       "      <th>3</th>\n",
       "      <td>3</td>\n",
       "      <td>4</td>\n",
       "      <td>Customer_4</td>\n",
       "      <td>26</td>\n",
       "      <td>Phoenix</td>\n",
       "      <td>735.50</td>\n",
       "      <td>380.750</td>\n",
       "    </tr>\n",
       "    <tr>\n",
       "      <th>4</th>\n",
       "      <td>4</td>\n",
       "      <td>5</td>\n",
       "      <td>Customer_5</td>\n",
       "      <td>47</td>\n",
       "      <td>Houston</td>\n",
       "      <td>219.66</td>\n",
       "      <td>133.330</td>\n",
       "    </tr>\n",
       "    <tr>\n",
       "      <th>5</th>\n",
       "      <td>5</td>\n",
       "      <td>6</td>\n",
       "      <td>Customer_6</td>\n",
       "      <td>69</td>\n",
       "      <td>Houston</td>\n",
       "      <td>837.42</td>\n",
       "      <td>453.210</td>\n",
       "    </tr>\n",
       "    <tr>\n",
       "      <th>6</th>\n",
       "      <td>6</td>\n",
       "      <td>7</td>\n",
       "      <td>Customer_7</td>\n",
       "      <td>36</td>\n",
       "      <td>Phoenix</td>\n",
       "      <td>681.78</td>\n",
       "      <td>358.890</td>\n",
       "    </tr>\n",
       "    <tr>\n",
       "      <th>7</th>\n",
       "      <td>7</td>\n",
       "      <td>8</td>\n",
       "      <td>Customer_8</td>\n",
       "      <td>44</td>\n",
       "      <td>Houston</td>\n",
       "      <td>926.90</td>\n",
       "      <td>485.450</td>\n",
       "    </tr>\n",
       "    <tr>\n",
       "      <th>8</th>\n",
       "      <td>8</td>\n",
       "      <td>9</td>\n",
       "      <td>Customer_9</td>\n",
       "      <td>52</td>\n",
       "      <td>Houston</td>\n",
       "      <td>525.23</td>\n",
       "      <td>288.615</td>\n",
       "    </tr>\n",
       "    <tr>\n",
       "      <th>9</th>\n",
       "      <td>9</td>\n",
       "      <td>10</td>\n",
       "      <td>Customer_10</td>\n",
       "      <td>40</td>\n",
       "      <td>New York</td>\n",
       "      <td>471.29</td>\n",
       "      <td>255.645</td>\n",
       "    </tr>\n",
       "  </tbody>\n",
       "</table>\n",
       "</div>"
      ],
      "text/plain": [
       "   Unnamed: 0  ID         Name  Age      City  Purchase_Amount  average\n",
       "0           0   1   Customer_1   44   Chicago           175.08  109.540\n",
       "1           1   2   Customer_2   53  New York           301.74  177.370\n",
       "2           2   3   Customer_3   25   Houston           353.85  189.425\n",
       "3           3   4   Customer_4   26   Phoenix           735.50  380.750\n",
       "4           4   5   Customer_5   47   Houston           219.66  133.330\n",
       "5           5   6   Customer_6   69   Houston           837.42  453.210\n",
       "6           6   7   Customer_7   36   Phoenix           681.78  358.890\n",
       "7           7   8   Customer_8   44   Houston           926.90  485.450\n",
       "8           8   9   Customer_9   52   Houston           525.23  288.615\n",
       "9           9  10  Customer_10   40  New York           471.29  255.645"
      ]
     },
     "execution_count": 24,
     "metadata": {},
     "output_type": "execute_result"
    }
   ],
   "source": [
    "df"
   ]
  }
 ],
 "metadata": {
  "kernelspec": {
   "display_name": "Python 3 (ipykernel)",
   "language": "python",
   "name": "python3"
  },
  "language_info": {
   "codemirror_mode": {
    "name": "ipython",
    "version": 3
   },
   "file_extension": ".py",
   "mimetype": "text/x-python",
   "name": "python",
   "nbconvert_exporter": "python",
   "pygments_lexer": "ipython3",
   "version": "3.13.5"
  }
 },
 "nbformat": 4,
 "nbformat_minor": 5
}
