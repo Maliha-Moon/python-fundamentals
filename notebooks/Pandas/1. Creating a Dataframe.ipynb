{
 "cells": [
  {
   "cell_type": "markdown",
   "id": "5462f5c1-1f01-4e90-bba2-3b1901b29453",
   "metadata": {},
   "source": [
    "## Pandas Data Structures\n",
    "\n",
    "There are 2 main data structures in Pandas:\n",
    "\n",
    "### 🧱 DataFrame\n",
    "A **2-dimensional** data structure (like a table) that can store data of different types — including characters, integers, floats, and categorical data — in **columns**.\n",
    "\n",
    "### 📏 Series\n",
    "A **1-dimensional** array or a **sequence** of data values.\n",
    "\n",
    "> 📝 Think of a **DataFrame** as a **table**, and a **Series** as a **list**.\n"
   ]
  },
  {
   "cell_type": "markdown",
   "id": "8dc6591d-97f5-47c4-b536-a3ff1f7c5b37",
   "metadata": {},
   "source": [
    "### 🧾 Key Concepts of DataFrame in Pandas\n",
    "\n",
    "- A **DataFrame** is equivalent to an **Excel spreadsheet**.\n",
    "- Each column of a **DataFrame** is a **Series**.\n",
    "- The **data type** of each column must be **the same** within that column.\n",
    "- By default, a **DataFrame** uses **0-based indexing**.\n",
    "- A column name is also known as a **Feature**.\n",
    "- Each row (data point) is known as an **Observation**.\n",
    "- The row headings are known as the **index**.\n",
    "- The index uniquely identifies each row in a **DataFrame**."
   ]
  },
  {
   "cell_type": "code",
   "execution_count": 1,
   "id": "271a20b0-87b3-4bfc-99e2-96d6875b960f",
   "metadata": {},
   "outputs": [],
   "source": [
    "import pandas as pd\n",
    "import numpy as np"
   ]
  },
  {
   "cell_type": "markdown",
   "id": "53ecfa4a-75ff-48c2-875d-489b2b092615",
   "metadata": {},
   "source": [
    "## 1. Creating a DataFrame from the array"
   ]
  },
  {
   "cell_type": "markdown",
   "id": "b8928530-a570-47f6-8b0a-3b5bb024e37e",
   "metadata": {},
   "source": [
    "### Option 1: Using Numpy Array"
   ]
  },
  {
   "cell_type": "code",
   "execution_count": 3,
   "id": "9bd64815-b17d-4069-85ab-abef00de98b6",
   "metadata": {},
   "outputs": [],
   "source": [
    "# Creating a Numpy array\n",
    "data = np.array([[1,2],[3,4],[5,6]])"
   ]
  },
  {
   "cell_type": "code",
   "execution_count": 4,
   "id": "35a0a2ec-7968-4e4a-b342-5689a502bc50",
   "metadata": {},
   "outputs": [
    {
     "data": {
      "text/html": [
       "<div>\n",
       "<style scoped>\n",
       "    .dataframe tbody tr th:only-of-type {\n",
       "        vertical-align: middle;\n",
       "    }\n",
       "\n",
       "    .dataframe tbody tr th {\n",
       "        vertical-align: top;\n",
       "    }\n",
       "\n",
       "    .dataframe thead th {\n",
       "        text-align: right;\n",
       "    }\n",
       "</style>\n",
       "<table border=\"1\" class=\"dataframe\">\n",
       "  <thead>\n",
       "    <tr style=\"text-align: right;\">\n",
       "      <th></th>\n",
       "      <th>0</th>\n",
       "      <th>1</th>\n",
       "    </tr>\n",
       "  </thead>\n",
       "  <tbody>\n",
       "    <tr>\n",
       "      <th>0</th>\n",
       "      <td>1</td>\n",
       "      <td>2</td>\n",
       "    </tr>\n",
       "    <tr>\n",
       "      <th>1</th>\n",
       "      <td>3</td>\n",
       "      <td>4</td>\n",
       "    </tr>\n",
       "    <tr>\n",
       "      <th>2</th>\n",
       "      <td>5</td>\n",
       "      <td>6</td>\n",
       "    </tr>\n",
       "  </tbody>\n",
       "</table>\n",
       "</div>"
      ],
      "text/plain": [
       "   0  1\n",
       "0  1  2\n",
       "1  3  4\n",
       "2  5  6"
      ]
     },
     "execution_count": 4,
     "metadata": {},
     "output_type": "execute_result"
    }
   ],
   "source": [
    "# Creating a dataframe\n",
    "pd.DataFrame(data)"
   ]
  },
  {
   "cell_type": "code",
   "execution_count": 6,
   "id": "c99cde2a-d69d-4ac4-9424-f5748cf8add1",
   "metadata": {},
   "outputs": [],
   "source": [
    "# Labeling row, column\n",
    "df = pd.DataFrame(data, index=['row1','row2','row3'], columns=['col1','col2'])"
   ]
  },
  {
   "cell_type": "code",
   "execution_count": 7,
   "id": "9dddc5c7-9160-432d-8c13-6f044025a9b6",
   "metadata": {},
   "outputs": [
    {
     "data": {
      "text/html": [
       "<div>\n",
       "<style scoped>\n",
       "    .dataframe tbody tr th:only-of-type {\n",
       "        vertical-align: middle;\n",
       "    }\n",
       "\n",
       "    .dataframe tbody tr th {\n",
       "        vertical-align: top;\n",
       "    }\n",
       "\n",
       "    .dataframe thead th {\n",
       "        text-align: right;\n",
       "    }\n",
       "</style>\n",
       "<table border=\"1\" class=\"dataframe\">\n",
       "  <thead>\n",
       "    <tr style=\"text-align: right;\">\n",
       "      <th></th>\n",
       "      <th>col1</th>\n",
       "      <th>col2</th>\n",
       "    </tr>\n",
       "  </thead>\n",
       "  <tbody>\n",
       "    <tr>\n",
       "      <th>row1</th>\n",
       "      <td>1</td>\n",
       "      <td>2</td>\n",
       "    </tr>\n",
       "    <tr>\n",
       "      <th>row2</th>\n",
       "      <td>3</td>\n",
       "      <td>4</td>\n",
       "    </tr>\n",
       "    <tr>\n",
       "      <th>row3</th>\n",
       "      <td>5</td>\n",
       "      <td>6</td>\n",
       "    </tr>\n",
       "  </tbody>\n",
       "</table>\n",
       "</div>"
      ],
      "text/plain": [
       "      col1  col2\n",
       "row1     1     2\n",
       "row2     3     4\n",
       "row3     5     6"
      ]
     },
     "execution_count": 7,
     "metadata": {},
     "output_type": "execute_result"
    }
   ],
   "source": [
    "df"
   ]
  },
  {
   "cell_type": "markdown",
   "id": "e508fd7c-f02a-47d0-b99f-04a0278ed485",
   "metadata": {},
   "source": [
    "### Option 2: Using array of lists"
   ]
  },
  {
   "cell_type": "code",
   "execution_count": 9,
   "id": "c6409fe0-afe1-4f67-9285-0ddf5f7ce79f",
   "metadata": {},
   "outputs": [],
   "source": [
    "# Creating an array with list shape\n",
    "data = [[1,2],[3,4],[5,6]]"
   ]
  },
  {
   "cell_type": "code",
   "execution_count": 11,
   "id": "def7e76f-1535-4eca-b744-f7ba77fae013",
   "metadata": {},
   "outputs": [],
   "source": [
    "df = pd.DataFrame(data, index=['row1','row2','row3'], columns=['col1','col2'])"
   ]
  },
  {
   "cell_type": "code",
   "execution_count": 12,
   "id": "c71e0269-5e6e-47fe-973d-653d11b3d714",
   "metadata": {},
   "outputs": [
    {
     "data": {
      "text/html": [
       "<div>\n",
       "<style scoped>\n",
       "    .dataframe tbody tr th:only-of-type {\n",
       "        vertical-align: middle;\n",
       "    }\n",
       "\n",
       "    .dataframe tbody tr th {\n",
       "        vertical-align: top;\n",
       "    }\n",
       "\n",
       "    .dataframe thead th {\n",
       "        text-align: right;\n",
       "    }\n",
       "</style>\n",
       "<table border=\"1\" class=\"dataframe\">\n",
       "  <thead>\n",
       "    <tr style=\"text-align: right;\">\n",
       "      <th></th>\n",
       "      <th>col1</th>\n",
       "      <th>col2</th>\n",
       "    </tr>\n",
       "  </thead>\n",
       "  <tbody>\n",
       "    <tr>\n",
       "      <th>row1</th>\n",
       "      <td>1</td>\n",
       "      <td>2</td>\n",
       "    </tr>\n",
       "    <tr>\n",
       "      <th>row2</th>\n",
       "      <td>3</td>\n",
       "      <td>4</td>\n",
       "    </tr>\n",
       "    <tr>\n",
       "      <th>row3</th>\n",
       "      <td>5</td>\n",
       "      <td>6</td>\n",
       "    </tr>\n",
       "  </tbody>\n",
       "</table>\n",
       "</div>"
      ],
      "text/plain": [
       "      col1  col2\n",
       "row1     1     2\n",
       "row2     3     4\n",
       "row3     5     6"
      ]
     },
     "execution_count": 12,
     "metadata": {},
     "output_type": "execute_result"
    }
   ],
   "source": [
    "df"
   ]
  },
  {
   "cell_type": "markdown",
   "id": "04181fa8-bbe2-4681-a50c-1a08d4343930",
   "metadata": {},
   "source": [
    "## 2. Creating a DataFrame from a Dictionary"
   ]
  },
  {
   "cell_type": "code",
   "execution_count": 13,
   "id": "771f6896-d079-4dbf-a99f-f1c9ddfe36fa",
   "metadata": {},
   "outputs": [],
   "source": [
    "# Lists\n",
    "states = [\"California\", \"Texas\", \"Florida\", \"New York\"]\n",
    "population = [39613493, 29730311, 21944577, 19299981]"
   ]
  },
  {
   "cell_type": "code",
   "execution_count": 14,
   "id": "37702dec-5416-4246-a497-948d75232132",
   "metadata": {},
   "outputs": [],
   "source": [
    "# Storing list within a dictionary\n",
    "dict_population = {'states':states, 'population': population}"
   ]
  },
  {
   "cell_type": "code",
   "execution_count": 17,
   "id": "8af825a4-36f1-4f3d-bead-6e37b588e278",
   "metadata": {},
   "outputs": [],
   "source": [
    "# Creating dataFrame from dictionary\n",
    "df_dict = pd.DataFrame(dict_population)"
   ]
  },
  {
   "cell_type": "code",
   "execution_count": 19,
   "id": "ffc1755d-8dc7-422b-81aa-8f83f38e0234",
   "metadata": {},
   "outputs": [
    {
     "data": {
      "text/html": [
       "<div>\n",
       "<style scoped>\n",
       "    .dataframe tbody tr th:only-of-type {\n",
       "        vertical-align: middle;\n",
       "    }\n",
       "\n",
       "    .dataframe tbody tr th {\n",
       "        vertical-align: top;\n",
       "    }\n",
       "\n",
       "    .dataframe thead th {\n",
       "        text-align: right;\n",
       "    }\n",
       "</style>\n",
       "<table border=\"1\" class=\"dataframe\">\n",
       "  <thead>\n",
       "    <tr style=\"text-align: right;\">\n",
       "      <th></th>\n",
       "      <th>states</th>\n",
       "      <th>population</th>\n",
       "    </tr>\n",
       "  </thead>\n",
       "  <tbody>\n",
       "    <tr>\n",
       "      <th>0</th>\n",
       "      <td>California</td>\n",
       "      <td>39613493</td>\n",
       "    </tr>\n",
       "    <tr>\n",
       "      <th>1</th>\n",
       "      <td>Texas</td>\n",
       "      <td>29730311</td>\n",
       "    </tr>\n",
       "    <tr>\n",
       "      <th>2</th>\n",
       "      <td>Florida</td>\n",
       "      <td>21944577</td>\n",
       "    </tr>\n",
       "    <tr>\n",
       "      <th>3</th>\n",
       "      <td>New York</td>\n",
       "      <td>19299981</td>\n",
       "    </tr>\n",
       "  </tbody>\n",
       "</table>\n",
       "</div>"
      ],
      "text/plain": [
       "       states  population\n",
       "0  California    39613493\n",
       "1       Texas    29730311\n",
       "2     Florida    21944577\n",
       "3    New York    19299981"
      ]
     },
     "execution_count": 19,
     "metadata": {},
     "output_type": "execute_result"
    }
   ],
   "source": [
    "# Showing the DataFrame\n",
    "df_dict"
   ]
  }
 ],
 "metadata": {
  "kernelspec": {
   "display_name": "Python 3 (ipykernel)",
   "language": "python",
   "name": "python3"
  },
  "language_info": {
   "codemirror_mode": {
    "name": "ipython",
    "version": 3
   },
   "file_extension": ".py",
   "mimetype": "text/x-python",
   "name": "python",
   "nbconvert_exporter": "python",
   "pygments_lexer": "ipython3",
   "version": "3.13.5"
  }
 },
 "nbformat": 4,
 "nbformat_minor": 5
}
