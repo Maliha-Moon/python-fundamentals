{
 "cells": [
  {
   "cell_type": "code",
   "execution_count": 2,
   "id": "7dd8040d-e205-4a53-80bd-1c60b1d568be",
   "metadata": {},
   "outputs": [],
   "source": [
    "import pandas as pd"
   ]
  },
  {
   "cell_type": "code",
   "execution_count": 3,
   "id": "8a3bb857-9ef1-4ae2-9971-b65900ed1ef9",
   "metadata": {},
   "outputs": [
    {
     "data": {
      "text/html": [
       "<div>\n",
       "<style scoped>\n",
       "    .dataframe tbody tr th:only-of-type {\n",
       "        vertical-align: middle;\n",
       "    }\n",
       "\n",
       "    .dataframe tbody tr th {\n",
       "        vertical-align: top;\n",
       "    }\n",
       "\n",
       "    .dataframe thead th {\n",
       "        text-align: right;\n",
       "    }\n",
       "</style>\n",
       "<table border=\"1\" class=\"dataframe\">\n",
       "  <thead>\n",
       "    <tr style=\"text-align: right;\">\n",
       "      <th></th>\n",
       "      <th>Unnamed: 0</th>\n",
       "      <th>ID</th>\n",
       "      <th>Name</th>\n",
       "      <th>Age</th>\n",
       "      <th>City</th>\n",
       "      <th>Purchase_Amount</th>\n",
       "    </tr>\n",
       "  </thead>\n",
       "  <tbody>\n",
       "    <tr>\n",
       "      <th>0</th>\n",
       "      <td>0</td>\n",
       "      <td>1</td>\n",
       "      <td>Customer_1</td>\n",
       "      <td>44</td>\n",
       "      <td>Chicago</td>\n",
       "      <td>175.08</td>\n",
       "    </tr>\n",
       "    <tr>\n",
       "      <th>1</th>\n",
       "      <td>1</td>\n",
       "      <td>2</td>\n",
       "      <td>Customer_2</td>\n",
       "      <td>53</td>\n",
       "      <td>New York</td>\n",
       "      <td>301.74</td>\n",
       "    </tr>\n",
       "    <tr>\n",
       "      <th>2</th>\n",
       "      <td>2</td>\n",
       "      <td>3</td>\n",
       "      <td>Customer_3</td>\n",
       "      <td>25</td>\n",
       "      <td>Houston</td>\n",
       "      <td>353.85</td>\n",
       "    </tr>\n",
       "    <tr>\n",
       "      <th>3</th>\n",
       "      <td>3</td>\n",
       "      <td>4</td>\n",
       "      <td>Customer_4</td>\n",
       "      <td>26</td>\n",
       "      <td>Phoenix</td>\n",
       "      <td>735.50</td>\n",
       "    </tr>\n",
       "    <tr>\n",
       "      <th>4</th>\n",
       "      <td>4</td>\n",
       "      <td>5</td>\n",
       "      <td>Customer_5</td>\n",
       "      <td>47</td>\n",
       "      <td>Houston</td>\n",
       "      <td>219.66</td>\n",
       "    </tr>\n",
       "    <tr>\n",
       "      <th>5</th>\n",
       "      <td>5</td>\n",
       "      <td>6</td>\n",
       "      <td>Customer_6</td>\n",
       "      <td>69</td>\n",
       "      <td>Houston</td>\n",
       "      <td>837.42</td>\n",
       "    </tr>\n",
       "    <tr>\n",
       "      <th>6</th>\n",
       "      <td>6</td>\n",
       "      <td>7</td>\n",
       "      <td>Customer_7</td>\n",
       "      <td>36</td>\n",
       "      <td>Phoenix</td>\n",
       "      <td>681.78</td>\n",
       "    </tr>\n",
       "    <tr>\n",
       "      <th>7</th>\n",
       "      <td>7</td>\n",
       "      <td>8</td>\n",
       "      <td>Customer_8</td>\n",
       "      <td>44</td>\n",
       "      <td>Houston</td>\n",
       "      <td>926.90</td>\n",
       "    </tr>\n",
       "    <tr>\n",
       "      <th>8</th>\n",
       "      <td>8</td>\n",
       "      <td>9</td>\n",
       "      <td>Customer_9</td>\n",
       "      <td>52</td>\n",
       "      <td>Houston</td>\n",
       "      <td>525.23</td>\n",
       "    </tr>\n",
       "    <tr>\n",
       "      <th>9</th>\n",
       "      <td>9</td>\n",
       "      <td>10</td>\n",
       "      <td>Customer_10</td>\n",
       "      <td>40</td>\n",
       "      <td>New York</td>\n",
       "      <td>471.29</td>\n",
       "    </tr>\n",
       "  </tbody>\n",
       "</table>\n",
       "</div>"
      ],
      "text/plain": [
       "   Unnamed: 0  ID         Name  Age      City  Purchase_Amount\n",
       "0           0   1   Customer_1   44   Chicago           175.08\n",
       "1           1   2   Customer_2   53  New York           301.74\n",
       "2           2   3   Customer_3   25   Houston           353.85\n",
       "3           3   4   Customer_4   26   Phoenix           735.50\n",
       "4           4   5   Customer_5   47   Houston           219.66\n",
       "5           5   6   Customer_6   69   Houston           837.42\n",
       "6           6   7   Customer_7   36   Phoenix           681.78\n",
       "7           7   8   Customer_8   44   Houston           926.90\n",
       "8           8   9   Customer_9   52   Houston           525.23\n",
       "9           9  10  Customer_10   40  New York           471.29"
      ]
     },
     "execution_count": 3,
     "metadata": {},
     "output_type": "execute_result"
    }
   ],
   "source": [
    "# reading the csv file\n",
    "df = pd.read_csv('customer.csv')\n",
    "df"
   ]
  },
  {
   "cell_type": "markdown",
   "id": "62903b69-0a19-4931-bb0d-5f632e73fb95",
   "metadata": {},
   "source": [
    "# **Selecting one column**"
   ]
  },
  {
   "cell_type": "markdown",
   "id": "4142d34d-808d-418b-a9f3-0623d74e751a",
   "metadata": {},
   "source": [
    "### **Syntax 1**"
   ]
  },
  {
   "cell_type": "code",
   "execution_count": 5,
   "id": "677492a4-6e38-4487-b9ba-283b33e90e02",
   "metadata": {},
   "outputs": [
    {
     "data": {
      "text/plain": [
       "0     Customer_1\n",
       "1     Customer_2\n",
       "2     Customer_3\n",
       "3     Customer_4\n",
       "4     Customer_5\n",
       "5     Customer_6\n",
       "6     Customer_7\n",
       "7     Customer_8\n",
       "8     Customer_9\n",
       "9    Customer_10\n",
       "Name: Name, dtype: object"
      ]
     },
     "execution_count": 5,
     "metadata": {},
     "output_type": "execute_result"
    }
   ],
   "source": [
    "# Select a column with []\n",
    "df['Name']"
   ]
  },
  {
   "cell_type": "code",
   "execution_count": 6,
   "id": "e0d2b3c0-e2e3-42ef-94ba-83a371b38175",
   "metadata": {},
   "outputs": [
    {
     "data": {
      "text/plain": [
       "pandas.core.series.Series"
      ]
     },
     "execution_count": 6,
     "metadata": {},
     "output_type": "execute_result"
    }
   ],
   "source": [
    "# Check out the data type of a column\n",
    "type(df['Name'])"
   ]
  },
  {
   "cell_type": "code",
   "execution_count": 7,
   "id": "433dd35d-3417-47e7-855c-4886231e7035",
   "metadata": {},
   "outputs": [
    {
     "data": {
      "text/plain": [
       "pandas.core.frame.DataFrame"
      ]
     },
     "execution_count": 7,
     "metadata": {},
     "output_type": "execute_result"
    }
   ],
   "source": [
    "type(df)"
   ]
  },
  {
   "cell_type": "code",
   "execution_count": 10,
   "id": "66a3448c-df39-4a28-842c-fa55b88de9ff",
   "metadata": {},
   "outputs": [
    {
     "data": {
      "text/plain": [
       "0    Customer_1\n",
       "1    Customer_2\n",
       "2    Customer_3\n",
       "3    Customer_4\n",
       "4    Customer_5\n",
       "Name: Name, dtype: object"
      ]
     },
     "execution_count": 10,
     "metadata": {},
     "output_type": "execute_result"
    }
   ],
   "source": [
    "# Series: attributes & method\n",
    "df['Name'].index\n",
    "df['Name'].head()"
   ]
  },
  {
   "cell_type": "code",
   "execution_count": 14,
   "id": "a9513f5b-5289-4187-9d5d-d6a39cd7e31f",
   "metadata": {},
   "outputs": [
    {
     "name": "stderr",
     "output_type": "stream",
     "text": [
      "C:\\Users\\DELL\\AppData\\Local\\Temp\\ipykernel_9624\\494527206.py:2: SettingWithCopyWarning: \n",
      "A value is trying to be set on a copy of a slice from a DataFrame\n",
      "\n",
      "See the caveats in the documentation: https://pandas.pydata.org/pandas-docs/stable/user_guide/indexing.html#returning-a-view-versus-a-copy\n",
      "  df['Name'][0] = 'New_Customer'\n"
     ]
    }
   ],
   "source": [
    "# Changing value of Series\n",
    "df['Name'][0] = 'New_Customer'"
   ]
  },
  {
   "cell_type": "code",
   "execution_count": 12,
   "id": "de2171d6-c47a-4d14-aa05-553466338721",
   "metadata": {},
   "outputs": [
    {
     "data": {
      "text/plain": [
       "0    New_Customer\n",
       "1      Customer_2\n",
       "2      Customer_3\n",
       "3      Customer_4\n",
       "4      Customer_5\n",
       "5      Customer_6\n",
       "6      Customer_7\n",
       "7      Customer_8\n",
       "8      Customer_9\n",
       "9     Customer_10\n",
       "Name: Name, dtype: object"
      ]
     },
     "execution_count": 12,
     "metadata": {},
     "output_type": "execute_result"
    }
   ],
   "source": [
    "df['Name']"
   ]
  },
  {
   "cell_type": "code",
   "execution_count": 13,
   "id": "b09c4943-4d48-4b54-958d-089be44b1d61",
   "metadata": {},
   "outputs": [
    {
     "data": {
      "text/html": [
       "<div>\n",
       "<style scoped>\n",
       "    .dataframe tbody tr th:only-of-type {\n",
       "        vertical-align: middle;\n",
       "    }\n",
       "\n",
       "    .dataframe tbody tr th {\n",
       "        vertical-align: top;\n",
       "    }\n",
       "\n",
       "    .dataframe thead th {\n",
       "        text-align: right;\n",
       "    }\n",
       "</style>\n",
       "<table border=\"1\" class=\"dataframe\">\n",
       "  <thead>\n",
       "    <tr style=\"text-align: right;\">\n",
       "      <th></th>\n",
       "      <th>Unnamed: 0</th>\n",
       "      <th>ID</th>\n",
       "      <th>Name</th>\n",
       "      <th>Age</th>\n",
       "      <th>City</th>\n",
       "      <th>Purchase_Amount</th>\n",
       "    </tr>\n",
       "  </thead>\n",
       "  <tbody>\n",
       "    <tr>\n",
       "      <th>0</th>\n",
       "      <td>0</td>\n",
       "      <td>1</td>\n",
       "      <td>New_Customer</td>\n",
       "      <td>44</td>\n",
       "      <td>Chicago</td>\n",
       "      <td>175.08</td>\n",
       "    </tr>\n",
       "    <tr>\n",
       "      <th>1</th>\n",
       "      <td>1</td>\n",
       "      <td>2</td>\n",
       "      <td>Customer_2</td>\n",
       "      <td>53</td>\n",
       "      <td>New York</td>\n",
       "      <td>301.74</td>\n",
       "    </tr>\n",
       "    <tr>\n",
       "      <th>2</th>\n",
       "      <td>2</td>\n",
       "      <td>3</td>\n",
       "      <td>Customer_3</td>\n",
       "      <td>25</td>\n",
       "      <td>Houston</td>\n",
       "      <td>353.85</td>\n",
       "    </tr>\n",
       "    <tr>\n",
       "      <th>3</th>\n",
       "      <td>3</td>\n",
       "      <td>4</td>\n",
       "      <td>Customer_4</td>\n",
       "      <td>26</td>\n",
       "      <td>Phoenix</td>\n",
       "      <td>735.50</td>\n",
       "    </tr>\n",
       "    <tr>\n",
       "      <th>4</th>\n",
       "      <td>4</td>\n",
       "      <td>5</td>\n",
       "      <td>Customer_5</td>\n",
       "      <td>47</td>\n",
       "      <td>Houston</td>\n",
       "      <td>219.66</td>\n",
       "    </tr>\n",
       "    <tr>\n",
       "      <th>5</th>\n",
       "      <td>5</td>\n",
       "      <td>6</td>\n",
       "      <td>Customer_6</td>\n",
       "      <td>69</td>\n",
       "      <td>Houston</td>\n",
       "      <td>837.42</td>\n",
       "    </tr>\n",
       "    <tr>\n",
       "      <th>6</th>\n",
       "      <td>6</td>\n",
       "      <td>7</td>\n",
       "      <td>Customer_7</td>\n",
       "      <td>36</td>\n",
       "      <td>Phoenix</td>\n",
       "      <td>681.78</td>\n",
       "    </tr>\n",
       "    <tr>\n",
       "      <th>7</th>\n",
       "      <td>7</td>\n",
       "      <td>8</td>\n",
       "      <td>Customer_8</td>\n",
       "      <td>44</td>\n",
       "      <td>Houston</td>\n",
       "      <td>926.90</td>\n",
       "    </tr>\n",
       "    <tr>\n",
       "      <th>8</th>\n",
       "      <td>8</td>\n",
       "      <td>9</td>\n",
       "      <td>Customer_9</td>\n",
       "      <td>52</td>\n",
       "      <td>Houston</td>\n",
       "      <td>525.23</td>\n",
       "    </tr>\n",
       "    <tr>\n",
       "      <th>9</th>\n",
       "      <td>9</td>\n",
       "      <td>10</td>\n",
       "      <td>Customer_10</td>\n",
       "      <td>40</td>\n",
       "      <td>New York</td>\n",
       "      <td>471.29</td>\n",
       "    </tr>\n",
       "  </tbody>\n",
       "</table>\n",
       "</div>"
      ],
      "text/plain": [
       "   Unnamed: 0  ID          Name  Age      City  Purchase_Amount\n",
       "0           0   1  New_Customer   44   Chicago           175.08\n",
       "1           1   2    Customer_2   53  New York           301.74\n",
       "2           2   3    Customer_3   25   Houston           353.85\n",
       "3           3   4    Customer_4   26   Phoenix           735.50\n",
       "4           4   5    Customer_5   47   Houston           219.66\n",
       "5           5   6    Customer_6   69   Houston           837.42\n",
       "6           6   7    Customer_7   36   Phoenix           681.78\n",
       "7           7   8    Customer_8   44   Houston           926.90\n",
       "8           8   9    Customer_9   52   Houston           525.23\n",
       "9           9  10   Customer_10   40  New York           471.29"
      ]
     },
     "execution_count": 13,
     "metadata": {},
     "output_type": "execute_result"
    }
   ],
   "source": [
    "df"
   ]
  },
  {
   "cell_type": "markdown",
   "id": "5922f397-3314-4664-809e-b0568573c088",
   "metadata": {},
   "source": [
    "### **Syntax 2**"
   ]
  },
  {
   "cell_type": "code",
   "execution_count": 15,
   "id": "28e95ebb-8580-45b0-83e7-48835f710ec2",
   "metadata": {},
   "outputs": [
    {
     "data": {
      "text/plain": [
       "0    175.08\n",
       "1    301.74\n",
       "2    353.85\n",
       "3    735.50\n",
       "4    219.66\n",
       "5    837.42\n",
       "6    681.78\n",
       "7    926.90\n",
       "8    525.23\n",
       "9    471.29\n",
       "Name: Purchase_Amount, dtype: float64"
      ]
     },
     "execution_count": 15,
     "metadata": {},
     "output_type": "execute_result"
    }
   ],
   "source": [
    "# Selecting a column using .\n",
    "df.Purchase_Amount\n"
   ]
  },
  {
   "cell_type": "code",
   "execution_count": 19,
   "id": "4e8a19b4-b21c-4104-9f09-b8d77c99c348",
   "metadata": {},
   "outputs": [],
   "source": [
    "# (pitfalls)\n",
    "df.Unnamed: 0"
   ]
  },
  {
   "cell_type": "code",
   "execution_count": 18,
   "id": "005420c1-ec46-470f-b19d-d342e23d5f86",
   "metadata": {},
   "outputs": [
    {
     "data": {
      "text/plain": [
       "0    0\n",
       "1    1\n",
       "2    2\n",
       "3    3\n",
       "4    4\n",
       "5    5\n",
       "6    6\n",
       "7    7\n",
       "8    8\n",
       "9    9\n",
       "Name: Unnamed: 0, dtype: int64"
      ]
     },
     "execution_count": 18,
     "metadata": {},
     "output_type": "execute_result"
    }
   ],
   "source": [
    "# Selecting the same column using .\n",
    "df['Unnamed: 0']"
   ]
  }
 ],
 "metadata": {
  "kernelspec": {
   "display_name": "Python 3 (ipykernel)",
   "language": "python",
   "name": "python3"
  },
  "language_info": {
   "codemirror_mode": {
    "name": "ipython",
    "version": 3
   },
   "file_extension": ".py",
   "mimetype": "text/x-python",
   "name": "python",
   "nbconvert_exporter": "python",
   "pygments_lexer": "ipython3",
   "version": "3.13.5"
  }
 },
 "nbformat": 4,
 "nbformat_minor": 5
}
