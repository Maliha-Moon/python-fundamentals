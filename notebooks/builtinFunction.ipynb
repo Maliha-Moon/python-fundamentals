{
 "cells": [
  {
   "cell_type": "markdown",
   "id": "c80efc56-0d31-4197-8cf3-e392e6b68ce2",
   "metadata": {},
   "source": [
    "# Some Useful Functions"
   ]
  },
  {
   "cell_type": "markdown",
   "id": "10a33fca-6b74-4965-be53-9cd4742010d6",
   "metadata": {},
   "source": [
    "### divmod(x,y) - outputs quotient & reminder in a tuple"
   ]
  },
  {
   "cell_type": "code",
   "execution_count": 27,
   "id": "e26b6084-a383-4bbc-bf5b-8859019d9e19",
   "metadata": {},
   "outputs": [
    {
     "data": {
      "text/plain": [
       "\u001b[1;31mSignature:\u001b[0m \u001b[0mdivmod\u001b[0m\u001b[1;33m(\u001b[0m\u001b[0mx\u001b[0m\u001b[1;33m,\u001b[0m \u001b[0my\u001b[0m\u001b[1;33m,\u001b[0m \u001b[1;33m/\u001b[0m\u001b[1;33m)\u001b[0m\u001b[1;33m\u001b[0m\u001b[1;33m\u001b[0m\u001b[0m\n",
       "\u001b[1;31mDocstring:\u001b[0m Return the tuple (x//y, x%y).  Invariant: div*y + mod == x.\n",
       "\u001b[1;31mType:\u001b[0m      builtin_function_or_method"
      ]
     },
     "metadata": {},
     "output_type": "display_data"
    }
   ],
   "source": [
    "divmod?"
   ]
  },
  {
   "cell_type": "code",
   "execution_count": 4,
   "id": "b230a52c-3ebd-4806-8050-97ecd3d074fd",
   "metadata": {},
   "outputs": [],
   "source": [
    "G = divmod(34,9)"
   ]
  },
  {
   "cell_type": "code",
   "execution_count": 5,
   "id": "fcafbe97-228d-447a-90a1-40eeb2749d3d",
   "metadata": {},
   "outputs": [
    {
     "data": {
      "text/plain": [
       "tuple"
      ]
     },
     "execution_count": 5,
     "metadata": {},
     "output_type": "execute_result"
    }
   ],
   "source": [
    "type(G)"
   ]
  },
  {
   "cell_type": "code",
   "execution_count": 6,
   "id": "1687eded-39b9-47d5-bf7e-a59129b4f6bb",
   "metadata": {},
   "outputs": [
    {
     "name": "stdout",
     "output_type": "stream",
     "text": [
      "(3, 7)\n"
     ]
    }
   ],
   "source": [
    "print(G)"
   ]
  },
  {
   "cell_type": "code",
   "execution_count": 7,
   "id": "71ace65f-c566-4567-afa4-cdc3b1586944",
   "metadata": {},
   "outputs": [
    {
     "data": {
      "text/plain": [
       "3"
      ]
     },
     "execution_count": 7,
     "metadata": {},
     "output_type": "execute_result"
    }
   ],
   "source": [
    "G[0]"
   ]
  },
  {
   "cell_type": "code",
   "execution_count": 8,
   "id": "d107b71a-51ac-46c2-8cf7-dbc73c536f7f",
   "metadata": {},
   "outputs": [
    {
     "data": {
      "text/plain": [
       "7"
      ]
     },
     "execution_count": 8,
     "metadata": {},
     "output_type": "execute_result"
    }
   ],
   "source": [
    "G[1]"
   ]
  },
  {
   "cell_type": "markdown",
   "id": "94567248-5f55-4bf8-a286-b75c2e21e42f",
   "metadata": {},
   "source": [
    "// for quotient"
   ]
  },
  {
   "cell_type": "code",
   "execution_count": 9,
   "id": "049d6d36-d22a-4b00-893a-52d7fd6e4947",
   "metadata": {},
   "outputs": [
    {
     "data": {
      "text/plain": [
       "3"
      ]
     },
     "execution_count": 9,
     "metadata": {},
     "output_type": "execute_result"
    }
   ],
   "source": [
    "34//9"
   ]
  },
  {
   "cell_type": "markdown",
   "id": "2e1bdb18-00d4-4495-9384-df8dd01a553d",
   "metadata": {},
   "source": [
    "% for reminder"
   ]
  },
  {
   "cell_type": "code",
   "execution_count": 10,
   "id": "bb73d665-beff-455f-82e5-130bf5474169",
   "metadata": {},
   "outputs": [
    {
     "data": {
      "text/plain": [
       "7"
      ]
     },
     "execution_count": 10,
     "metadata": {},
     "output_type": "execute_result"
    }
   ],
   "source": [
    "34%9"
   ]
  },
  {
   "cell_type": "markdown",
   "id": "8ffa1d10-b3ee-4345-b8a3-4a788f32c0df",
   "metadata": {},
   "source": [
    "### isinstance() - returns true, if the first argument is an instance of that class. Multiple classes can be checked at once"
   ]
  },
  {
   "cell_type": "code",
   "execution_count": 28,
   "id": "82bcfc68-d4e5-4f21-b7b1-56dde5cce942",
   "metadata": {},
   "outputs": [
    {
     "data": {
      "text/plain": [
       "\u001b[1;31mSignature:\u001b[0m \u001b[0misinstance\u001b[0m\u001b[1;33m(\u001b[0m\u001b[0mobj\u001b[0m\u001b[1;33m,\u001b[0m \u001b[0mclass_or_tuple\u001b[0m\u001b[1;33m,\u001b[0m \u001b[1;33m/\u001b[0m\u001b[1;33m)\u001b[0m\u001b[1;33m\u001b[0m\u001b[1;33m\u001b[0m\u001b[0m\n",
       "\u001b[1;31mDocstring:\u001b[0m\n",
       "Return whether an object is an instance of a class or of a subclass thereof.\n",
       "\n",
       "A tuple, as in ``isinstance(x, (A, B, ...))``, may be given as the target to\n",
       "check against. This is equivalent to ``isinstance(x, A) or isinstance(x, B)\n",
       "or ...`` etc.\n",
       "\u001b[1;31mType:\u001b[0m      builtin_function_or_method"
      ]
     },
     "metadata": {},
     "output_type": "display_data"
    }
   ],
   "source": [
    "isinstance?"
   ]
  },
  {
   "cell_type": "code",
   "execution_count": 11,
   "id": "21e2a8c7-88cd-411b-b3c6-5acac3f51e10",
   "metadata": {},
   "outputs": [
    {
     "data": {
      "text/plain": [
       "True"
      ]
     },
     "execution_count": 11,
     "metadata": {},
     "output_type": "execute_result"
    }
   ],
   "source": [
    "isinstance(3,int)"
   ]
  },
  {
   "cell_type": "code",
   "execution_count": 12,
   "id": "ef1cf255-c8f5-43bf-834f-9c55e8df5325",
   "metadata": {},
   "outputs": [
    {
     "data": {
      "text/plain": [
       "False"
      ]
     },
     "execution_count": 12,
     "metadata": {},
     "output_type": "execute_result"
    }
   ],
   "source": [
    "isinstance(3.5,int)"
   ]
  },
  {
   "cell_type": "code",
   "execution_count": 13,
   "id": "e4f97528-748c-4947-8383-e58c7fd292f5",
   "metadata": {},
   "outputs": [
    {
     "data": {
      "text/plain": [
       "True"
      ]
     },
     "execution_count": 13,
     "metadata": {},
     "output_type": "execute_result"
    }
   ],
   "source": [
    "isinstance(3.5,float)"
   ]
  },
  {
   "cell_type": "code",
   "execution_count": 14,
   "id": "3c4d7f43-4ac9-4f3e-8c76-f7b6fd73a3b1",
   "metadata": {},
   "outputs": [
    {
     "data": {
      "text/plain": [
       "True"
      ]
     },
     "execution_count": 14,
     "metadata": {},
     "output_type": "execute_result"
    }
   ],
   "source": [
    "isinstance(5.80,(int,float))"
   ]
  },
  {
   "cell_type": "code",
   "execution_count": 15,
   "id": "62eee5d8-c171-49ab-9ecd-cbcfb85c60b4",
   "metadata": {},
   "outputs": [
    {
     "data": {
      "text/plain": [
       "False"
      ]
     },
     "execution_count": 15,
     "metadata": {},
     "output_type": "execute_result"
    }
   ],
   "source": [
    "isinstance(2+3j,(int,float,str))"
   ]
  },
  {
   "cell_type": "code",
   "execution_count": 16,
   "id": "2c656daa-cc12-4248-b4d9-8f246db6903e",
   "metadata": {},
   "outputs": [
    {
     "data": {
      "text/plain": [
       "True"
      ]
     },
     "execution_count": 16,
     "metadata": {},
     "output_type": "execute_result"
    }
   ],
   "source": [
    "isinstance(2+3j,(int,float,str,complex))"
   ]
  },
  {
   "cell_type": "markdown",
   "id": "4aaab21b-3da3-42f7-8bc0-7b0f9d6b9047",
   "metadata": {},
   "source": [
    "### pow(x,y,z) - returns x raise to the power y and reminder z"
   ]
  },
  {
   "cell_type": "code",
   "execution_count": 26,
   "id": "6411c61f-b298-4ba0-a07c-0ac0b378feb0",
   "metadata": {},
   "outputs": [
    {
     "data": {
      "text/plain": [
       "\u001b[1;31mSignature:\u001b[0m \u001b[0mpow\u001b[0m\u001b[1;33m(\u001b[0m\u001b[0mbase\u001b[0m\u001b[1;33m,\u001b[0m \u001b[0mexp\u001b[0m\u001b[1;33m,\u001b[0m \u001b[0mmod\u001b[0m\u001b[1;33m=\u001b[0m\u001b[1;32mNone\u001b[0m\u001b[1;33m)\u001b[0m\u001b[1;33m\u001b[0m\u001b[1;33m\u001b[0m\u001b[0m\n",
       "\u001b[1;31mDocstring:\u001b[0m\n",
       "Equivalent to base**exp with 2 arguments or base**exp % mod with 3 arguments\n",
       "\n",
       "Some types, such as ints, are able to use a more efficient algorithm when\n",
       "invoked using the three argument form.\n",
       "\u001b[1;31mType:\u001b[0m      builtin_function_or_method"
      ]
     },
     "metadata": {},
     "output_type": "display_data"
    }
   ],
   "source": [
    "pow?"
   ]
  },
  {
   "cell_type": "code",
   "execution_count": 17,
   "id": "020a6c1c-8c83-4692-b421-fcbc9627556a",
   "metadata": {},
   "outputs": [
    {
     "data": {
      "text/plain": [
       "4"
      ]
     },
     "execution_count": 17,
     "metadata": {},
     "output_type": "execute_result"
    }
   ],
   "source": [
    "pow(4,3,5)"
   ]
  },
  {
   "cell_type": "code",
   "execution_count": 18,
   "id": "8961b364-8ece-46a2-9838-3b78e5b725f3",
   "metadata": {},
   "outputs": [
    {
     "data": {
      "text/plain": [
       "64"
      ]
     },
     "execution_count": 18,
     "metadata": {},
     "output_type": "execute_result"
    }
   ],
   "source": [
    "4**3"
   ]
  },
  {
   "cell_type": "code",
   "execution_count": 19,
   "id": "f77c8574-730b-4bbc-9e70-0571d3e6dc3b",
   "metadata": {},
   "outputs": [
    {
     "data": {
      "text/plain": [
       "4"
      ]
     },
     "execution_count": 19,
     "metadata": {},
     "output_type": "execute_result"
    }
   ],
   "source": [
    "64%5"
   ]
  },
  {
   "cell_type": "markdown",
   "id": "3281983d-456e-4a80-ab34-a5e1186b405c",
   "metadata": {},
   "source": [
    "### input()"
   ]
  },
  {
   "cell_type": "code",
   "execution_count": 20,
   "id": "9b6604f7-c65d-49a0-b72b-b8f0609f898d",
   "metadata": {},
   "outputs": [
    {
     "name": "stdout",
     "output_type": "stream",
     "text": [
      "Enter something: python\n"
     ]
    }
   ],
   "source": [
    "a = input(\"Enter something:\")"
   ]
  },
  {
   "cell_type": "code",
   "execution_count": 21,
   "id": "ae3e7404-8aee-46ab-be54-7c148998372b",
   "metadata": {},
   "outputs": [
    {
     "data": {
      "text/plain": [
       "str"
      ]
     },
     "execution_count": 21,
     "metadata": {},
     "output_type": "execute_result"
    }
   ],
   "source": [
    "type(a)"
   ]
  },
  {
   "cell_type": "code",
   "execution_count": 22,
   "id": "26c07d1f-60b0-4ef9-a42f-9e3c88ffcbeb",
   "metadata": {},
   "outputs": [
    {
     "name": "stdout",
     "output_type": "stream",
     "text": [
      "Enter number: 23\n"
     ]
    }
   ],
   "source": [
    "x = input(\"Enter number:\")"
   ]
  },
  {
   "cell_type": "code",
   "execution_count": 23,
   "id": "15752912-e84d-4a74-80bf-a7c135c626ce",
   "metadata": {},
   "outputs": [
    {
     "data": {
      "text/plain": [
       "str"
      ]
     },
     "execution_count": 23,
     "metadata": {},
     "output_type": "execute_result"
    }
   ],
   "source": [
    "type(x)"
   ]
  },
  {
   "cell_type": "code",
   "execution_count": 24,
   "id": "621ec9d4-8ffc-4185-bf4f-71028b744495",
   "metadata": {},
   "outputs": [],
   "source": [
    "y = int(x)"
   ]
  },
  {
   "cell_type": "code",
   "execution_count": null,
   "id": "9d5b147b-13de-45f6-bc26-bd45eb0c1b0a",
   "metadata": {},
   "outputs": [
    {
     "data": {
      "text/plain": [
       "int"
      ]
     },
     "execution_count": 25,
     "metadata": {},
     "output_type": "execute_result"
    }
   ],
   "source": [
    "type(y)"
   ]
  }
 ],
 "metadata": {
  "kernelspec": {
   "display_name": "Python 3 (ipykernel)",
   "language": "python",
   "name": "python3"
  },
  "language_info": {
   "codemirror_mode": {
    "name": "ipython",
    "version": 3
   },
   "file_extension": ".py",
   "mimetype": "text/x-python",
   "name": "python",
   "nbconvert_exporter": "python",
   "pygments_lexer": "ipython3",
   "version": "3.13.5"
  }
 },
 "nbformat": 4,
 "nbformat_minor": 5
}
