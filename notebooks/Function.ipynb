{
 "cells": [
  {
   "cell_type": "markdown",
   "id": "f96f01e2-1014-443e-9a08-29562ddfc832",
   "metadata": {},
   "source": [
    "# Function in Python "
   ]
  },
  {
   "cell_type": "code",
   "execution_count": 2,
   "id": "41a85ec5-73ef-4e31-a9a7-23821187057b",
   "metadata": {},
   "outputs": [
    {
     "name": "stdout",
     "output_type": "stream",
     "text": [
      "I am done\n",
      "Send me another task\n",
      "I am done\n",
      "Send me another task\n"
     ]
    }
   ],
   "source": [
    "def printSuccess():\n",
    "    print(\"I am done\")\n",
    "    print(\"Send me another task\")\n",
    "printSuccess()\n",
    "printSuccess()"
   ]
  },
  {
   "cell_type": "code",
   "execution_count": 3,
   "id": "b8e05c0f-ec55-42a0-b91e-ec12ed6d3b8d",
   "metadata": {},
   "outputs": [
    {
     "data": {
      "text/plain": [
       "7"
      ]
     },
     "execution_count": 3,
     "metadata": {},
     "output_type": "execute_result"
    }
   ],
   "source": [
    "3+4"
   ]
  },
  {
   "cell_type": "code",
   "execution_count": 4,
   "id": "cae08855-c8dd-4902-aab1-1c36fb54f3ca",
   "metadata": {},
   "outputs": [
    {
     "name": "stdout",
     "output_type": "stream",
     "text": [
      "I am done\n",
      "Send me another task\n"
     ]
    }
   ],
   "source": [
    "printSuccess()"
   ]
  },
  {
   "cell_type": "markdown",
   "id": "c36a55dd-a000-4206-8c06-1cb32e7698d8",
   "metadata": {},
   "source": [
    "## functions Doc String"
   ]
  },
  {
   "cell_type": "markdown",
   "id": "3bb4d783-5507-4c94-a7c6-ff854c82b82d",
   "metadata": {},
   "source": [
    "lets us know what a function is doing"
   ]
  },
  {
   "cell_type": "code",
   "execution_count": 9,
   "id": "225fd7c9-073b-418d-a020-7ab41c6fb68b",
   "metadata": {},
   "outputs": [],
   "source": [
    "def printHello():\n",
    "    \"\"\" This function is doing nothing except printing message. \"\"\"\n",
    "    print(\"Hello\")"
   ]
  },
  {
   "cell_type": "markdown",
   "id": "6c97bd49-5fbd-47db-93ca-f906af0f8de8",
   "metadata": {},
   "source": [
    "### `?` \n",
    "for function **documentation**"
   ]
  },
  {
   "cell_type": "code",
   "execution_count": 10,
   "id": "62883ede-0800-4d7c-9a1b-e760b0ec2503",
   "metadata": {},
   "outputs": [
    {
     "data": {
      "text/plain": [
       "\u001b[1;31mSignature:\u001b[0m \u001b[0mprintHello\u001b[0m\u001b[1;33m(\u001b[0m\u001b[1;33m)\u001b[0m\u001b[1;33m\u001b[0m\u001b[1;33m\u001b[0m\u001b[0m\n",
       "\u001b[1;31mDocstring:\u001b[0m This function is doing nothing except printing message. \n",
       "\u001b[1;31mFile:\u001b[0m      c:\\users\\dell\\appdata\\local\\temp\\ipykernel_8852\\1560340484.py\n",
       "\u001b[1;31mType:\u001b[0m      function"
      ]
     },
     "metadata": {},
     "output_type": "display_data"
    }
   ],
   "source": [
    "printHello?"
   ]
  },
  {
   "cell_type": "markdown",
   "id": "0d71944f-cf2d-40a4-b9da-faabf8845994",
   "metadata": {},
   "source": [
    "### `??`\n",
    "for function **documentation & implementation**"
   ]
  },
  {
   "cell_type": "code",
   "execution_count": 11,
   "id": "aecd6b30-c1ff-43a7-8a35-acfcb6a5ee8b",
   "metadata": {},
   "outputs": [
    {
     "data": {
      "text/plain": [
       "\u001b[1;31mSignature:\u001b[0m \u001b[0mprintHello\u001b[0m\u001b[1;33m(\u001b[0m\u001b[1;33m)\u001b[0m\u001b[1;33m\u001b[0m\u001b[1;33m\u001b[0m\u001b[0m\n",
       "\u001b[1;31mSource:\u001b[0m   \n",
       "\u001b[1;32mdef\u001b[0m \u001b[0mprintHello\u001b[0m\u001b[1;33m(\u001b[0m\u001b[1;33m)\u001b[0m\u001b[1;33m:\u001b[0m\u001b[1;33m\n",
       "\u001b[0m    \u001b[1;34m\"\"\" This function is doing nothing except printing message. \"\"\"\u001b[0m\u001b[1;33m\n",
       "\u001b[0m    \u001b[0mprint\u001b[0m\u001b[1;33m(\u001b[0m\u001b[1;34m\"Hello\"\u001b[0m\u001b[1;33m)\u001b[0m\u001b[1;33m\u001b[0m\u001b[1;33m\u001b[0m\u001b[0m\n",
       "\u001b[1;31mFile:\u001b[0m      c:\\users\\dell\\appdata\\local\\temp\\ipykernel_8852\\1560340484.py\n",
       "\u001b[1;31mType:\u001b[0m      function"
      ]
     },
     "metadata": {},
     "output_type": "display_data"
    }
   ],
   "source": [
    "printHello??"
   ]
  },
  {
   "cell_type": "markdown",
   "id": "780c49cf-f6d1-48d2-88d4-af71998e70b8",
   "metadata": {},
   "source": [
    "## Function(input argument)"
   ]
  },
  {
   "cell_type": "code",
   "execution_count": 17,
   "id": "5cff23f0-d1f4-4d74-b5fd-fb5badb374ac",
   "metadata": {},
   "outputs": [],
   "source": [
    "def printMsg(msg):\n",
    "    \"\"\" this function prints the message supplied by the user \n",
    "    or print that message is not in the form of string \"\"\"\n",
    "    if isinstance(msg,str):\n",
    "        print(msg)\n",
    "    else:\n",
    "        print(\"your argument is not a string\")\n",
    "        print(f\"your msg is {msg} and type is {type(msg)}\")"
   ]
  },
  {
   "cell_type": "code",
   "execution_count": 14,
   "id": "ee8fcd2d-1507-4f1b-82db-6ec7025147af",
   "metadata": {},
   "outputs": [
    {
     "name": "stdout",
     "output_type": "stream",
     "text": [
      "moon\n"
     ]
    }
   ],
   "source": [
    "printMsg('moon')"
   ]
  },
  {
   "cell_type": "code",
   "execution_count": 18,
   "id": "96839f1a-f5d7-4423-84d0-a4c67e66f278",
   "metadata": {},
   "outputs": [
    {
     "name": "stdout",
     "output_type": "stream",
     "text": [
      "your argument is not a string\n",
      "your msg is 100 and type is <class 'int'>\n"
     ]
    }
   ],
   "source": [
    "printMsg(100)"
   ]
  },
  {
   "cell_type": "code",
   "execution_count": 19,
   "id": "aaa43751-6009-4ca3-87b1-92efc8373b41",
   "metadata": {},
   "outputs": [
    {
     "data": {
      "text/plain": [
       "\u001b[1;31mSignature:\u001b[0m \u001b[0mprintMsg\u001b[0m\u001b[1;33m(\u001b[0m\u001b[0mmsg\u001b[0m\u001b[1;33m)\u001b[0m\u001b[1;33m\u001b[0m\u001b[1;33m\u001b[0m\u001b[0m\n",
       "\u001b[1;31mDocstring:\u001b[0m\n",
       "this function prints the message supplied by the user \n",
       "or print that message is not in the form of string \n",
       "\u001b[1;31mFile:\u001b[0m      c:\\users\\dell\\appdata\\local\\temp\\ipykernel_8852\\2585650997.py\n",
       "\u001b[1;31mType:\u001b[0m      function"
      ]
     },
     "metadata": {},
     "output_type": "display_data"
    }
   ],
   "source": [
    "printMsg?"
   ]
  },
  {
   "cell_type": "code",
   "execution_count": 20,
   "id": "bcb980e3-6fa1-4704-93c8-17617b989fcc",
   "metadata": {},
   "outputs": [
    {
     "data": {
      "text/plain": [
       "\u001b[1;31mSignature:\u001b[0m \u001b[0mprintMsg\u001b[0m\u001b[1;33m(\u001b[0m\u001b[0mmsg\u001b[0m\u001b[1;33m)\u001b[0m\u001b[1;33m\u001b[0m\u001b[1;33m\u001b[0m\u001b[0m\n",
       "\u001b[1;31mSource:\u001b[0m   \n",
       "\u001b[1;32mdef\u001b[0m \u001b[0mprintMsg\u001b[0m\u001b[1;33m(\u001b[0m\u001b[0mmsg\u001b[0m\u001b[1;33m)\u001b[0m\u001b[1;33m:\u001b[0m\u001b[1;33m\n",
       "\u001b[0m    \u001b[1;34m\"\"\" this function prints the message supplied by the user \n",
       "    or print that message is not in the form of string \"\"\"\u001b[0m\u001b[1;33m\n",
       "\u001b[0m    \u001b[1;32mif\u001b[0m \u001b[0misinstance\u001b[0m\u001b[1;33m(\u001b[0m\u001b[0mmsg\u001b[0m\u001b[1;33m,\u001b[0m\u001b[0mstr\u001b[0m\u001b[1;33m)\u001b[0m\u001b[1;33m:\u001b[0m\u001b[1;33m\n",
       "\u001b[0m        \u001b[0mprint\u001b[0m\u001b[1;33m(\u001b[0m\u001b[0mmsg\u001b[0m\u001b[1;33m)\u001b[0m\u001b[1;33m\n",
       "\u001b[0m    \u001b[1;32melse\u001b[0m\u001b[1;33m:\u001b[0m\u001b[1;33m\n",
       "\u001b[0m        \u001b[0mprint\u001b[0m\u001b[1;33m(\u001b[0m\u001b[1;34m\"your argument is not a string\"\u001b[0m\u001b[1;33m)\u001b[0m\u001b[1;33m\n",
       "\u001b[0m        \u001b[0mprint\u001b[0m\u001b[1;33m(\u001b[0m\u001b[1;33mf\"\u001b[0m\u001b[1;33myour msg is \u001b[0m\u001b[1;33m{\u001b[0m\u001b[0mmsg\u001b[0m\u001b[1;33m}\u001b[0m\u001b[1;33m and type is \u001b[0m\u001b[1;33m{\u001b[0m\u001b[0mtype\u001b[0m\u001b[1;33m(\u001b[0m\u001b[0mmsg\u001b[0m\u001b[1;33m)\u001b[0m\u001b[1;33m}\u001b[0m\u001b[1;33m\"\u001b[0m\u001b[1;33m)\u001b[0m\u001b[1;33m\u001b[0m\u001b[1;33m\u001b[0m\u001b[0m\n",
       "\u001b[1;31mFile:\u001b[0m      c:\\users\\dell\\appdata\\local\\temp\\ipykernel_8852\\2585650997.py\n",
       "\u001b[1;31mType:\u001b[0m      function"
      ]
     },
     "metadata": {},
     "output_type": "display_data"
    }
   ],
   "source": [
    "printMsg??"
   ]
  },
  {
   "cell_type": "markdown",
   "id": "81c2c615-ba01-4018-ab76-cc1e9ffb37dc",
   "metadata": {},
   "source": [
    "## Keyword Arguments & order of arguments"
   ]
  },
  {
   "cell_type": "code",
   "execution_count": 22,
   "id": "a045d674-95a0-4fac-84ec-6cdfb18bd687",
   "metadata": {},
   "outputs": [],
   "source": [
    "def f(a,b,c):\n",
    "    print(f\"A is:{a}\")\n",
    "    print(f\"B is:{b}\")\n",
    "    print(f\"C is:{c}\")"
   ]
  },
  {
   "cell_type": "code",
   "execution_count": 23,
   "id": "5fe09383-dd25-4973-b1f0-a319f5d18eb3",
   "metadata": {},
   "outputs": [
    {
     "name": "stdout",
     "output_type": "stream",
     "text": [
      "A is:2\n",
      "B is:8\n",
      "C is:game\n"
     ]
    }
   ],
   "source": [
    "f(2,8,\"game\")"
   ]
  },
  {
   "cell_type": "code",
   "execution_count": 24,
   "id": "9a8f87dd-04b1-43cb-be08-a0bcf46cc028",
   "metadata": {},
   "outputs": [
    {
     "name": "stdout",
     "output_type": "stream",
     "text": [
      "A is:game\n",
      "B is:69\n",
      "C is:10.5\n"
     ]
    }
   ],
   "source": [
    "f(\"game\",69,10.50)"
   ]
  },
  {
   "cell_type": "code",
   "execution_count": 25,
   "id": "3f5676d0-bf79-4960-84ea-338309ea4371",
   "metadata": {},
   "outputs": [
    {
     "name": "stdout",
     "output_type": "stream",
     "text": [
      "A is:moon\n",
      "B is:10\n",
      "C is:20.8\n"
     ]
    }
   ],
   "source": [
    "f(a=\"moon\",b=10,c=20.8)"
   ]
  },
  {
   "cell_type": "code",
   "execution_count": 26,
   "id": "02e43d5b-611a-42ac-8136-cacd83aaf19f",
   "metadata": {},
   "outputs": [
    {
     "name": "stdout",
     "output_type": "stream",
     "text": [
      "A is:moon\n",
      "B is:10\n",
      "C is:20.8\n"
     ]
    }
   ],
   "source": [
    "f(c=20.8,a=\"moon\",b=10,)"
   ]
  },
  {
   "cell_type": "markdown",
   "id": "b8fda1e7-67f9-46f0-b278-ae9cb822301a",
   "metadata": {},
   "source": [
    "## Return statement"
   ]
  },
  {
   "cell_type": "code",
   "execution_count": 27,
   "id": "690fd437-41a4-4a9b-be12-064849364ba8",
   "metadata": {},
   "outputs": [],
   "source": [
    "def sum(a,b):\n",
    "    c = a+b"
   ]
  },
  {
   "cell_type": "markdown",
   "id": "8bdaba28-9720-4e76-8ee3-c967fac555c0",
   "metadata": {},
   "source": [
    "### without return statement, it returns **none**"
   ]
  },
  {
   "cell_type": "code",
   "execution_count": 28,
   "id": "ad028f7c-660c-4163-b5aa-dad6cf27913a",
   "metadata": {},
   "outputs": [
    {
     "name": "stdout",
     "output_type": "stream",
     "text": [
      "None\n"
     ]
    }
   ],
   "source": [
    "print(sum(2,3))"
   ]
  },
  {
   "cell_type": "code",
   "execution_count": 45,
   "id": "d092a626-7d8e-4fa3-bc36-a16b05130543",
   "metadata": {},
   "outputs": [
    {
     "name": "stdout",
     "output_type": "stream",
     "text": [
      "<class 'NoneType'>\n"
     ]
    }
   ],
   "source": [
    "print(type(sum(2,3)))"
   ]
  },
  {
   "cell_type": "code",
   "execution_count": 30,
   "id": "547c03c6-8f03-4006-ac20-dd5eaf2dc6fa",
   "metadata": {},
   "outputs": [],
   "source": [
    "def sum2(a,b):\n",
    "    return a+b"
   ]
  },
  {
   "cell_type": "code",
   "execution_count": 31,
   "id": "ee8e0f71-866f-4419-9db1-c1d5f34583d2",
   "metadata": {},
   "outputs": [
    {
     "name": "stdout",
     "output_type": "stream",
     "text": [
      "30\n"
     ]
    }
   ],
   "source": [
    "print(sum2(10,20))"
   ]
  },
  {
   "cell_type": "code",
   "execution_count": 46,
   "id": "0a733ee2-ef1a-4616-8892-a672dada890a",
   "metadata": {},
   "outputs": [
    {
     "name": "stdout",
     "output_type": "stream",
     "text": [
      "<class 'int'>\n"
     ]
    }
   ],
   "source": [
    "print(type(sum2(2,3)))"
   ]
  },
  {
   "cell_type": "code",
   "execution_count": 9,
   "id": "63a1941a-4422-43e4-a6df-45fbd29e774e",
   "metadata": {},
   "outputs": [],
   "source": [
    "def h():\n",
    "    print(\"A\")\n",
    "    a=5\n",
    "    b=5\n",
    "    c = a+b\n",
    "    print(\"Something\")\n",
    "    return  # exit the function\n",
    "    print(\"B\")\n",
    "    print(\"C\")"
   ]
  },
  {
   "cell_type": "code",
   "execution_count": 2,
   "id": "f350f4e5-f347-4c3f-bee0-7ed9cb52651c",
   "metadata": {},
   "outputs": [
    {
     "name": "stdout",
     "output_type": "stream",
     "text": [
      "A\n",
      "Something\n"
     ]
    }
   ],
   "source": [
    "h()"
   ]
  },
  {
   "cell_type": "code",
   "execution_count": 4,
   "id": "804929e8-8bc3-40b8-942d-f65d4267f956",
   "metadata": {},
   "outputs": [
    {
     "name": "stdout",
     "output_type": "stream",
     "text": [
      "A\n",
      "Something\n",
      "<class 'NoneType'>\n"
     ]
    }
   ],
   "source": [
    "print(type(h())) # return nothing"
   ]
  },
  {
   "cell_type": "code",
   "execution_count": 7,
   "id": "0416a529-87be-4e94-8e5b-ab7729bfea78",
   "metadata": {},
   "outputs": [],
   "source": [
    "def h():\n",
    "    print(\"A\")\n",
    "    a=5\n",
    "    b=5\n",
    "    c = a+b\n",
    "    print(\"Something\")\n",
    "    return f\"a+b={c}\"\n",
    "    print(\"B\")\n",
    "    print(\"C\")"
   ]
  },
  {
   "cell_type": "code",
   "execution_count": 8,
   "id": "9a6f838d-f8f3-4c52-94af-0961cacf6d06",
   "metadata": {},
   "outputs": [
    {
     "name": "stdout",
     "output_type": "stream",
     "text": [
      "A\n",
      "Something\n",
      "<class 'str'>\n"
     ]
    }
   ],
   "source": [
    "print(type(h()))"
   ]
  },
  {
   "cell_type": "markdown",
   "id": "053173ba-fc1e-4a34-a729-73773e8d64b1",
   "metadata": {},
   "source": [
    "## Variable in function"
   ]
  },
  {
   "cell_type": "code",
   "execution_count": 39,
   "id": "0cf093c2-726d-4546-8eb2-6af03d32cbe4",
   "metadata": {},
   "outputs": [],
   "source": [
    "variableOutsideFunction = 100"
   ]
  },
  {
   "cell_type": "code",
   "execution_count": 41,
   "id": "11eeb246-4bb4-44b3-aa29-ab386fdcd0a3",
   "metadata": {},
   "outputs": [],
   "source": [
    "def g():\n",
    "    variableOutsideFunction = 50 #Now this is local variable inside function g()\n",
    "    print(variableOutsideFunction)\n",
    "  "
   ]
  },
  {
   "cell_type": "code",
   "execution_count": 42,
   "id": "18cb7616-116d-4b78-9552-ad11293a3455",
   "metadata": {},
   "outputs": [
    {
     "name": "stdout",
     "output_type": "stream",
     "text": [
      "50\n"
     ]
    }
   ],
   "source": [
    "g()"
   ]
  },
  {
   "cell_type": "code",
   "execution_count": 43,
   "id": "6941e9c2-8988-460d-a444-5fbb108a0ee0",
   "metadata": {},
   "outputs": [
    {
     "name": "stdout",
     "output_type": "stream",
     "text": [
      "100\n"
     ]
    }
   ],
   "source": [
    "print(variableOutsideFunction)"
   ]
  },
  {
   "cell_type": "markdown",
   "id": "2f066113-ca49-4b9a-9274-f5f2e494c78a",
   "metadata": {},
   "source": [
    "## Return multiple variables\n"
   ]
  },
  {
   "cell_type": "code",
   "execution_count": 10,
   "id": "c84ab260-980f-4800-af9a-a654cde4cd48",
   "metadata": {},
   "outputs": [],
   "source": [
    "def multiple():\n",
    "    a = 23\n",
    "    b = 3.14\n",
    "    c = \"python\"\n",
    "    return a,b,c"
   ]
  },
  {
   "cell_type": "code",
   "execution_count": 13,
   "id": "d39ae331-7a53-4143-aa61-7b52d073015d",
   "metadata": {},
   "outputs": [
    {
     "name": "stdout",
     "output_type": "stream",
     "text": [
      "23 3.14 python\n"
     ]
    }
   ],
   "source": [
    "x,y,z = multiple()\n",
    "print(x,y,z)"
   ]
  },
  {
   "cell_type": "markdown",
   "id": "606d13c3-5673-43e2-b39b-56e629afd50f",
   "metadata": {},
   "source": [
    "## Arbitary or variable number of input arguments (*args)"
   ]
  },
  {
   "cell_type": "markdown",
   "id": "fe8a3757-69ca-4d78-a22d-0a1ebc74a1f3",
   "metadata": {},
   "source": [
    "### `*args`\n",
    "\n",
    "* `args` is a **tuple** containing all extra positional arguments.\n",
    "* The single asterisk `*` **collects an arbitrary number** of positional arguments, so you can pass as many as you like.\n",
    "* Because `args` is a tuple, you can access individual elements by index (e.g. `args[0]`, `args[1]`, …).\n",
    "* Use case:\tWhen you **don't know in advance** how many keyword arguments you'll receive"
   ]
  },
  {
   "cell_type": "code",
   "execution_count": 32,
   "id": "45559816-d616-4956-9265-fab9cd75f65f",
   "metadata": {},
   "outputs": [],
   "source": [
    "def addUniversal(*args):\n",
    "    print(type(args)) \n",
    "    sum = 0\n",
    "    # iterating over args tuple\n",
    "    for i in range(len(args)):\n",
    "        sum += args[i]\n",
    "    return sum"
   ]
  },
  {
   "cell_type": "code",
   "execution_count": 31,
   "id": "0208b857-fa7f-40b4-88fc-887b8e89c45f",
   "metadata": {},
   "outputs": [
    {
     "name": "stdout",
     "output_type": "stream",
     "text": [
      "<class 'tuple'>\n"
     ]
    },
    {
     "data": {
      "text/plain": [
       "68.28"
      ]
     },
     "execution_count": 31,
     "metadata": {},
     "output_type": "execute_result"
    }
   ],
   "source": [
    "addUniversal(3,4,5, 10.5,45.78) # args[0] = 3, args[1] = 4, args[2] = 5, args[3] = 10.5, args[4]=45.78"
   ]
  },
  {
   "cell_type": "markdown",
   "id": "67031d05-85ff-4e08-98f5-d8d6074a6e70",
   "metadata": {},
   "source": [
    "## Arbitrary Keyword Arguments or key-value pair input arguments (**args)"
   ]
  },
  {
   "cell_type": "markdown",
   "id": "03d20bee-f950-4db6-aa6f-6083842dd675",
   "metadata": {},
   "source": [
    "### `**args`\n",
    "- `args` acts like a **dictionary**\n",
    "- `**` means **key-value pair**. The function will receive a **dictionary of arguments**"
   ]
  },
  {
   "cell_type": "code",
   "execution_count": 42,
   "id": "a7d249af-5dd8-47b5-bf6a-5ed23f5a403e",
   "metadata": {},
   "outputs": [],
   "source": [
    "def keyValueArguments(**args):\n",
    "    print(type(args))\n",
    "    # iterate over the args dict\n",
    "    for key,value in args.items():\n",
    "        print(f\"key = {key}, value = {value}\")\n",
    "    "
   ]
  },
  {
   "cell_type": "code",
   "execution_count": 43,
   "id": "b39a45f4-3eca-47c2-a711-15b4f492df20",
   "metadata": {},
   "outputs": [
    {
     "name": "stdout",
     "output_type": "stream",
     "text": [
      "<class 'dict'>\n",
      "key = A, value = 100\n",
      "key = B, value = 34.78\n",
      "key = C, value = python\n"
     ]
    }
   ],
   "source": [
    "keyValueArguments(A = 100, B = 34.78, C = \"python\")"
   ]
  },
  {
   "cell_type": "markdown",
   "id": "daa7a701-3df5-41ba-9408-10291ee14c64",
   "metadata": {},
   "source": [
    "## Default Parameter Value"
   ]
  },
  {
   "cell_type": "markdown",
   "id": "37a50707-5cb6-439d-b48f-270d1f6d206d",
   "metadata": {},
   "source": [
    "Default values are assigned at the time cell **run**, not when they created or function is called"
   ]
  },
  {
   "cell_type": "code",
   "execution_count": 45,
   "id": "6a811cda-1dba-4128-b1af-5446d7be890c",
   "metadata": {},
   "outputs": [],
   "source": [
    "def defaulValue(s=0):\n",
    "    print(s)"
   ]
  },
  {
   "cell_type": "code",
   "execution_count": 47,
   "id": "bd1d64e3-9519-41bf-af08-287b40187d1e",
   "metadata": {},
   "outputs": [
    {
     "name": "stdout",
     "output_type": "stream",
     "text": [
      "5\n",
      "0\n",
      "10\n"
     ]
    }
   ],
   "source": [
    "defaulValue(5)\n",
    "defaulValue()\n",
    "defaulValue(10)"
   ]
  },
  {
   "cell_type": "markdown",
   "id": "46cf6cc0-07ed-4c16-b1c1-2cebb9aaea42",
   "metadata": {},
   "source": [
    "## memory referencing in lists "
   ]
  },
  {
   "cell_type": "markdown",
   "id": "a66af033-71a4-45b3-a138-bb752f780a51",
   "metadata": {},
   "source": [
    "lists are **not copied**, rather they share the memory, so **changing one value in them, affects the others**"
   ]
  },
  {
   "cell_type": "code",
   "execution_count": 48,
   "id": "63461ae4-36fc-4997-850a-80798abf099f",
   "metadata": {},
   "outputs": [
    {
     "name": "stdout",
     "output_type": "stream",
     "text": [
      "[-9, 3, 4]\n"
     ]
    }
   ],
   "source": [
    "L=[2,3,4]\n",
    "L2=L\n",
    "L2[0]=-9\n",
    "print(L)"
   ]
  },
  {
   "cell_type": "markdown",
   "id": "464bf77a-0e7d-4834-a4c3-506f1d27b43a",
   "metadata": {},
   "source": [
    "but lists are **copied when we pass them in functions** where default args is given (as a list ofc) ; the default values never change"
   ]
  },
  {
   "cell_type": "code",
   "execution_count": 49,
   "id": "bc0027fd-6b6c-42f7-909f-957b6d19ed88",
   "metadata": {},
   "outputs": [],
   "source": [
    "def list(L=[1,2]):\n",
    "    for i in L:\n",
    "        print(i)"
   ]
  },
  {
   "cell_type": "code",
   "execution_count": 50,
   "id": "baf12187-e3aa-441b-b07c-634f6b725e75",
   "metadata": {},
   "outputs": [
    {
     "name": "stdout",
     "output_type": "stream",
     "text": [
      "1\n",
      "2\n"
     ]
    }
   ],
   "source": [
    "list()"
   ]
  },
  {
   "cell_type": "code",
   "execution_count": 51,
   "id": "93bea572-ff23-4ac8-8bc0-4cc4d995c3d5",
   "metadata": {},
   "outputs": [
    {
     "name": "stdout",
     "output_type": "stream",
     "text": [
      "12\n",
      "13\n",
      "14\n"
     ]
    }
   ],
   "source": [
    "L2=[12,13,14]\n",
    "list(L2)"
   ]
  },
  {
   "cell_type": "code",
   "execution_count": 52,
   "id": "18cbd5e8-e035-4a20-a4ad-1f1a148a33cd",
   "metadata": {},
   "outputs": [
    {
     "name": "stdout",
     "output_type": "stream",
     "text": [
      "1\n",
      "2\n"
     ]
    }
   ],
   "source": [
    "list()"
   ]
  },
  {
   "cell_type": "markdown",
   "id": "3f74f360-ab6c-4dc8-a34f-ebc7f35ec07d",
   "metadata": {},
   "source": [
    "## Functions Applied to Functions"
   ]
  },
  {
   "cell_type": "markdown",
   "id": "63743a5f-5fbb-484e-bb8c-1760ea9b8d82",
   "metadata": {},
   "source": [
    "In Python, **functions** can be passed **as arguments** to other functions. These are called **higher-order functions.**"
   ]
  },
  {
   "cell_type": "code",
   "execution_count": 57,
   "id": "6c54adee-1f30-4e50-9133-0693f09ea1ea",
   "metadata": {},
   "outputs": [],
   "source": [
    "def multiply(x):\n",
    "    return x**2\n",
    "\n",
    "def call(fn,arg): #call() takes a function fn and an argument arg\n",
    "    return fn(arg)\n",
    "\n"
   ]
  },
  {
   "cell_type": "code",
   "execution_count": 56,
   "id": "55c35111-94e8-466f-a544-f6ec8a86fd37",
   "metadata": {},
   "outputs": [
    {
     "name": "stdout",
     "output_type": "stream",
     "text": [
      "16\n"
     ]
    }
   ],
   "source": [
    "print(call(multiply,4))"
   ]
  },
  {
   "cell_type": "markdown",
   "id": "b3b860b3-f546-4a24-8680-7bae288c102e",
   "metadata": {},
   "source": [
    "## Chaining function calls"
   ]
  },
  {
   "cell_type": "code",
   "execution_count": 62,
   "id": "c288903b-0ffa-4a35-8d19-64c3dfa97442",
   "metadata": {},
   "outputs": [],
   "source": [
    "def multiply(x):\n",
    "    return x**2\n",
    "\n",
    "def call(fn,arg): #call() takes a function fn and an argument arg\n",
    "    return fn(arg)\n",
    "\n",
    "def secondCall(fn,arg):\n",
    "    return fn(fn(arg)) # apply fn twice\n",
    "    # def secondCall(fn,arg):\n",
    "    # first = fn(arg) # 16\n",
    "    # second = fn(first) #256\n"
   ]
  },
  {
   "cell_type": "code",
   "execution_count": 61,
   "id": "917cbaa5-f790-45ca-ad30-b68ad3d98016",
   "metadata": {},
   "outputs": [
    {
     "name": "stdout",
     "output_type": "stream",
     "text": [
      "256\n"
     ]
    }
   ],
   "source": [
    "print(secondCall(multiply,4))"
   ]
  },
  {
   "cell_type": "code",
   "execution_count": null,
   "id": "1c9a4601-bc9e-41ac-915c-ec8b884f9e0b",
   "metadata": {},
   "outputs": [],
   "source": []
  }
 ],
 "metadata": {
  "kernelspec": {
   "display_name": "Python 3 (ipykernel)",
   "language": "python",
   "name": "python3"
  },
  "language_info": {
   "codemirror_mode": {
    "name": "ipython",
    "version": 3
   },
   "file_extension": ".py",
   "mimetype": "text/x-python",
   "name": "python",
   "nbconvert_exporter": "python",
   "pygments_lexer": "ipython3",
   "version": "3.13.5"
  }
 },
 "nbformat": 4,
 "nbformat_minor": 5
}
